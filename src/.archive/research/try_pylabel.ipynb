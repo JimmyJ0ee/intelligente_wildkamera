{
 "cells": [
  {
   "cell_type": "code",
   "execution_count": 10,
   "metadata": {},
   "outputs": [
    {
     "name": "stderr",
     "output_type": "stream",
     "text": [
      "Importing image files...: 100%|██████████| 4/4 [00:00<00:00, 17.74it/s]\n"
     ]
    },
    {
     "data": {
      "text/html": [
       "<div>\n",
       "<style scoped>\n",
       "    .dataframe tbody tr th:only-of-type {\n",
       "        vertical-align: middle;\n",
       "    }\n",
       "\n",
       "    .dataframe tbody tr th {\n",
       "        vertical-align: top;\n",
       "    }\n",
       "\n",
       "    .dataframe thead th {\n",
       "        text-align: right;\n",
       "    }\n",
       "</style>\n",
       "<table border=\"1\" class=\"dataframe\">\n",
       "  <thead>\n",
       "    <tr style=\"text-align: right;\">\n",
       "      <th></th>\n",
       "      <th>img_folder</th>\n",
       "      <th>img_filename</th>\n",
       "      <th>img_path</th>\n",
       "      <th>img_id</th>\n",
       "      <th>img_width</th>\n",
       "      <th>img_height</th>\n",
       "      <th>img_depth</th>\n",
       "      <th>ann_segmented</th>\n",
       "      <th>ann_bbox_xmin</th>\n",
       "      <th>ann_bbox_ymin</th>\n",
       "      <th>...</th>\n",
       "      <th>ann_iscrowd</th>\n",
       "      <th>ann_keypoints</th>\n",
       "      <th>ann_pose</th>\n",
       "      <th>ann_truncated</th>\n",
       "      <th>ann_difficult</th>\n",
       "      <th>cat_id</th>\n",
       "      <th>cat_name</th>\n",
       "      <th>cat_supercategory</th>\n",
       "      <th>split</th>\n",
       "      <th>annotated</th>\n",
       "    </tr>\n",
       "    <tr>\n",
       "      <th>id</th>\n",
       "      <th></th>\n",
       "      <th></th>\n",
       "      <th></th>\n",
       "      <th></th>\n",
       "      <th></th>\n",
       "      <th></th>\n",
       "      <th></th>\n",
       "      <th></th>\n",
       "      <th></th>\n",
       "      <th></th>\n",
       "      <th></th>\n",
       "      <th></th>\n",
       "      <th></th>\n",
       "      <th></th>\n",
       "      <th></th>\n",
       "      <th></th>\n",
       "      <th></th>\n",
       "      <th></th>\n",
       "      <th></th>\n",
       "      <th></th>\n",
       "      <th></th>\n",
       "    </tr>\n",
       "  </thead>\n",
       "  <tbody>\n",
       "    <tr>\n",
       "      <th>0</th>\n",
       "      <td></td>\n",
       "      <td>IMAG0054.JPG</td>\n",
       "      <td>NaN</td>\n",
       "      <td>0</td>\n",
       "      <td>2560</td>\n",
       "      <td>1920</td>\n",
       "      <td>3</td>\n",
       "      <td>NaN</td>\n",
       "      <td>NaN</td>\n",
       "      <td>NaN</td>\n",
       "      <td>...</td>\n",
       "      <td>NaN</td>\n",
       "      <td>NaN</td>\n",
       "      <td>NaN</td>\n",
       "      <td>NaN</td>\n",
       "      <td>NaN</td>\n",
       "      <td>NaN</td>\n",
       "      <td></td>\n",
       "      <td>NaN</td>\n",
       "      <td>NaN</td>\n",
       "      <td>NaN</td>\n",
       "    </tr>\n",
       "    <tr>\n",
       "      <th>1</th>\n",
       "      <td></td>\n",
       "      <td>IMAG0056.JPG</td>\n",
       "      <td>NaN</td>\n",
       "      <td>1</td>\n",
       "      <td>2560</td>\n",
       "      <td>1920</td>\n",
       "      <td>3</td>\n",
       "      <td>NaN</td>\n",
       "      <td>NaN</td>\n",
       "      <td>NaN</td>\n",
       "      <td>...</td>\n",
       "      <td>NaN</td>\n",
       "      <td>NaN</td>\n",
       "      <td>NaN</td>\n",
       "      <td>NaN</td>\n",
       "      <td>NaN</td>\n",
       "      <td>NaN</td>\n",
       "      <td></td>\n",
       "      <td>NaN</td>\n",
       "      <td>NaN</td>\n",
       "      <td>NaN</td>\n",
       "    </tr>\n",
       "    <tr>\n",
       "      <th>2</th>\n",
       "      <td></td>\n",
       "      <td>IMAG0061.JPG</td>\n",
       "      <td>NaN</td>\n",
       "      <td>2</td>\n",
       "      <td>2560</td>\n",
       "      <td>1920</td>\n",
       "      <td>3</td>\n",
       "      <td>NaN</td>\n",
       "      <td>NaN</td>\n",
       "      <td>NaN</td>\n",
       "      <td>...</td>\n",
       "      <td>NaN</td>\n",
       "      <td>NaN</td>\n",
       "      <td>NaN</td>\n",
       "      <td>NaN</td>\n",
       "      <td>NaN</td>\n",
       "      <td>NaN</td>\n",
       "      <td></td>\n",
       "      <td>NaN</td>\n",
       "      <td>NaN</td>\n",
       "      <td>NaN</td>\n",
       "    </tr>\n",
       "  </tbody>\n",
       "</table>\n",
       "<p>3 rows × 26 columns</p>\n",
       "</div>"
      ],
      "text/plain": [
       "   img_folder  img_filename img_path  img_id  img_width  img_height  \\\n",
       "id                                                                    \n",
       "0              IMAG0054.JPG      NaN       0       2560        1920   \n",
       "1              IMAG0056.JPG      NaN       1       2560        1920   \n",
       "2              IMAG0061.JPG      NaN       2       2560        1920   \n",
       "\n",
       "    img_depth ann_segmented ann_bbox_xmin ann_bbox_ymin  ... ann_iscrowd  \\\n",
       "id                                                       ...               \n",
       "0           3           NaN           NaN           NaN  ...         NaN   \n",
       "1           3           NaN           NaN           NaN  ...         NaN   \n",
       "2           3           NaN           NaN           NaN  ...         NaN   \n",
       "\n",
       "   ann_keypoints ann_pose ann_truncated ann_difficult cat_id cat_name  \\\n",
       "id                                                                      \n",
       "0            NaN      NaN           NaN           NaN    NaN            \n",
       "1            NaN      NaN           NaN           NaN    NaN            \n",
       "2            NaN      NaN           NaN           NaN    NaN            \n",
       "\n",
       "   cat_supercategory split annotated  \n",
       "id                                    \n",
       "0                NaN   NaN       NaN  \n",
       "1                NaN   NaN       NaN  \n",
       "2                NaN   NaN       NaN  \n",
       "\n",
       "[3 rows x 26 columns]"
      ]
     },
     "execution_count": 10,
     "metadata": {},
     "output_type": "execute_result"
    }
   ],
   "source": [
    "from pylabel import importer\n",
    "\n",
    "path_to_images = \"./../.data/data/img/deer/unknown/still_unknown/\"\n",
    "dataset = importer.ImportImagesOnly(path=path_to_images, name=\"deer\")\n",
    "dataset.df.head(3)"
   ]
  },
  {
   "cell_type": "code",
   "execution_count": 11,
   "metadata": {},
   "outputs": [
    {
     "name": "stderr",
     "output_type": "stream",
     "text": [
      "c:\\Users\\Z0127829\\OneDrive - ZF Friedrichshafen AG\\Desktop\\Arbeit\\Studienarbeit\\intelligente_wildkamera\\.venv\\Lib\\site-packages\\pylabel\\analyze.py:26: FutureWarning: Downcasting behavior in `replace` is deprecated and will be removed in a future version. To retain the old behavior, explicitly call `result.infer_objects(copy=False)`. To opt-in to the future behavior, set `pd.set_option('future.no_silent_downcasting', True)`\n",
      "  self.dataset.df.cat_id = self.dataset.df.cat_id.replace(\n"
     ]
    },
    {
     "data": {
      "application/vnd.jupyter.widget-view+json": {
       "model_id": "7555d841ec3d4eea9392e2b2d585630e",
       "version_major": 2,
       "version_minor": 0
      },
      "text/plain": [
       "VBox(children=(HBox(children=(Label(value='IMAG0054.JPG (not annotated)'),)), HBox(children=(Button(icon='arro…"
      ]
     },
     "execution_count": 11,
     "metadata": {},
     "output_type": "execute_result"
    }
   ],
   "source": [
    "classes = [\"person\", \"no_deer\", \"deer\", \"wild_boar\"]\n",
    "dataset.labeler.StartPyLaber(new_classes=classes)"
   ]
  },
  {
   "cell_type": "code",
   "execution_count": 9,
   "metadata": {},
   "outputs": [
    {
     "name": "stderr",
     "output_type": "stream",
     "text": [
      "Exporting YOLO files...: 0it [00:00, ?it/s]"
     ]
    },
    {
     "name": "stderr",
     "output_type": "stream",
     "text": [
      "\n"
     ]
    },
    {
     "data": {
      "text/plain": [
       "['training\\\\dataset.yaml']"
      ]
     },
     "execution_count": 9,
     "metadata": {},
     "output_type": "execute_result"
    }
   ],
   "source": [
    "import os\n",
    "dataset.path_to_annotations = './labels/'\n",
    "os.makedirs(dataset.path_to_annotations, exist_ok=True)\n",
    "dataset.export.ExportToYoloV5()"
   ]
  }
 ],
 "metadata": {
  "kernelspec": {
   "display_name": ".venv",
   "language": "python",
   "name": "python3"
  },
  "language_info": {
   "codemirror_mode": {
    "name": "ipython",
    "version": 3
   },
   "file_extension": ".py",
   "mimetype": "text/x-python",
   "name": "python",
   "nbconvert_exporter": "python",
   "pygments_lexer": "ipython3",
   "version": "3.12.3"
  }
 },
 "nbformat": 4,
 "nbformat_minor": 2
}
