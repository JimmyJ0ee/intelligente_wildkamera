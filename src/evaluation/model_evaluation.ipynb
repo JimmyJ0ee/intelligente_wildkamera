{
 "cells": [
  {
   "cell_type": "code",
   "execution_count": 1,
   "metadata": {},
   "outputs": [],
   "source": [
    "import os\n",
    "from ultralytics import YOLO"
   ]
  },
  {
   "cell_type": "markdown",
   "metadata": {},
   "source": [
    "## Model Setup"
   ]
  },
  {
   "cell_type": "code",
   "execution_count": 2,
   "metadata": {},
   "outputs": [
    {
     "name": "stdout",
     "output_type": "stream",
     "text": [
      "c:\\Users\\Z0127829\\OneDrive - ZF Friedrichshafen AG\\Desktop\\Arbeit\\Studienarbeit\\intelligente_wildkamera\\src\\evaluation\n"
     ]
    }
   ],
   "source": [
    "print(os.getcwd())\n",
    "model = YOLO('./../../runs/models/yolov8n_data4animalsV2.pt')"
   ]
  },
  {
   "cell_type": "markdown",
   "metadata": {},
   "source": [
    "## Model comparison robustness"
   ]
  },
  {
   "cell_type": "code",
   "execution_count": 3,
   "metadata": {},
   "outputs": [
    {
     "name": "stdout",
     "output_type": "stream",
     "text": [
      "\n",
      "image 1/3 c:\\Users\\Z0127829\\OneDrive - ZF Friedrichshafen AG\\Desktop\\Arbeit\\Studienarbeit\\intelligente_wildkamera\\src\\evaluation\\..\\..\\.data\\evaluation\\img\\vergleich\\robustness\\multiple_deers\\chris_data\\01020036.JPG: 480x640 3 deers, 317.1ms\n",
      "image 2/3 c:\\Users\\Z0127829\\OneDrive - ZF Friedrichshafen AG\\Desktop\\Arbeit\\Studienarbeit\\intelligente_wildkamera\\src\\evaluation\\..\\..\\.data\\evaluation\\img\\vergleich\\robustness\\multiple_deers\\chris_data\\IMAG0242.JPG: 480x640 4 deers, 2 foxs, 92.5ms\n",
      "image 3/3 c:\\Users\\Z0127829\\OneDrive - ZF Friedrichshafen AG\\Desktop\\Arbeit\\Studienarbeit\\intelligente_wildkamera\\src\\evaluation\\..\\..\\.data\\evaluation\\img\\vergleich\\robustness\\multiple_deers\\chris_data\\STC_0040.JPG: 384x640 4 deers, 2 foxs, 128.9ms\n",
      "Speed: 5.6ms preprocess, 179.5ms inference, 2.9ms postprocess per image at shape (1, 3, 384, 640)\n",
      "Results saved to \u001b[1mc:\\Users\\Z0127829\\OneDrive - ZF Friedrichshafen AG\\Desktop\\Arbeit\\Studienarbeit\\intelligente_wildkamera\\runs\\detect\\predict3\u001b[0m\n"
     ]
    }
   ],
   "source": [
    "path_test = \"./../../.data/evaluation/img/vergleich/robustness/multiple_deers/chris_data\"\n",
    "results = model.predict(source=path_test, save=True, conf=0.2)\n"
   ]
  },
  {
   "cell_type": "markdown",
   "metadata": {},
   "source": [
    "## Detect multiple animals per image"
   ]
  },
  {
   "cell_type": "code",
   "execution_count": 4,
   "metadata": {},
   "outputs": [
    {
     "name": "stdout",
     "output_type": "stream",
     "text": [
      "Ultralytics 8.3.13  Python-3.12.3 torch-2.4.1+cpu CPU (11th Gen Intel Core(TM) i5-1145G7 2.60GHz)\n"
     ]
    },
    {
     "name": "stderr",
     "output_type": "stream",
     "text": [
      "\u001b[34m\u001b[1mval: \u001b[0mScanning C:\\Users\\Z0127829\\OneDrive - ZF Friedrichshafen AG\\Desktop\\Arbeit\\Studienarbeit\\intelligente_wildkamera\\.data\\evaluation\\img\\weitere Evaluation\\multiple_animals_per_image\\labels.cache... 26 images, 0 backgrounds, 0 corrupt: 100%|██████████| 26/26 [00:00<?, ?it/s]"
     ]
    },
    {
     "name": "stdout",
     "output_type": "stream",
     "text": [
      "\u001b[34m\u001b[1mval: \u001b[0mWARNING  C:\\Users\\Z0127829\\OneDrive - ZF Friedrichshafen AG\\Desktop\\Arbeit\\Studienarbeit\\intelligente_wildkamera\\.data\\evaluation\\img\\weitere Evaluation\\multiple_animals_per_image\\images\\IMAG0242.JPG: corrupt JPEG restored and saved\n",
      "\u001b[34m\u001b[1mval: \u001b[0mWARNING  C:\\Users\\Z0127829\\OneDrive - ZF Friedrichshafen AG\\Desktop\\Arbeit\\Studienarbeit\\intelligente_wildkamera\\.data\\evaluation\\img\\weitere Evaluation\\multiple_animals_per_image\\images\\IMAG0244.JPG: corrupt JPEG restored and saved\n"
     ]
    },
    {
     "name": "stderr",
     "output_type": "stream",
     "text": [
      "\n",
      "                 Class     Images  Instances      Box(P          R      mAP50  mAP50-95): 100%|██████████| 2/2 [00:04<00:00,  2.08s/it]\n"
     ]
    },
    {
     "name": "stdout",
     "output_type": "stream",
     "text": [
      "                   all         26         87      0.912      0.772      0.865      0.635\n",
      "                  deer         13         45      0.875      0.711      0.825      0.581\n",
      "             wild_boar         13         42      0.948      0.833      0.904      0.689\n",
      "Speed: 2.2ms preprocess, 78.2ms inference, 0.0ms loss, 0.6ms postprocess per image\n",
      "Results saved to \u001b[1mc:\\Users\\Z0127829\\OneDrive - ZF Friedrichshafen AG\\Desktop\\Arbeit\\Studienarbeit\\intelligente_wildkamera\\runs\\detect\\val\u001b[0m\n"
     ]
    }
   ],
   "source": [
    "metrics = model.val(data='./ymls/data_multiple_animals_per_image.yaml', conf=0.2)"
   ]
  },
  {
   "cell_type": "markdown",
   "metadata": {},
   "source": [
    "## Detect wild boars"
   ]
  },
  {
   "cell_type": "code",
   "execution_count": 5,
   "metadata": {},
   "outputs": [
    {
     "name": "stdout",
     "output_type": "stream",
     "text": [
      "Ultralytics 8.3.13  Python-3.12.3 torch-2.4.1+cpu CPU (11th Gen Intel Core(TM) i5-1145G7 2.60GHz)\n"
     ]
    },
    {
     "name": "stderr",
     "output_type": "stream",
     "text": [
      "\u001b[34m\u001b[1mval: \u001b[0mScanning C:\\Users\\Z0127829\\OneDrive - ZF Friedrichshafen AG\\Desktop\\Arbeit\\Studienarbeit\\intelligente_wildkamera\\.data\\evaluation\\img\\weitere Evaluation\\wild_boar\\labels.cache... 37 images, 0 backgrounds, 0 corrupt: 100%|██████████| 37/37 [00:00<?, ?it/s]\n",
      "                 Class     Images  Instances      Box(P          R      mAP50  mAP50-95): 100%|██████████| 3/3 [00:03<00:00,  1.26s/it]\n"
     ]
    },
    {
     "name": "stdout",
     "output_type": "stream",
     "text": [
      "                   all         37        108      0.868      0.426      0.664      0.399\n",
      "             wild_boar         37        108      0.868      0.426      0.664      0.399\n",
      "Speed: 1.7ms preprocess, 69.6ms inference, 0.0ms loss, 0.5ms postprocess per image\n",
      "Results saved to \u001b[1mc:\\Users\\Z0127829\\OneDrive - ZF Friedrichshafen AG\\Desktop\\Arbeit\\Studienarbeit\\intelligente_wildkamera\\runs\\detect\\val2\u001b[0m\n"
     ]
    }
   ],
   "source": [
    "metrics = model.val(data='./ymls/data_wild_boars.yaml', conf=0.2)"
   ]
  },
  {
   "cell_type": "markdown",
   "metadata": {},
   "source": [
    "## Evaluate robustness of detector"
   ]
  },
  {
   "cell_type": "code",
   "execution_count": 6,
   "metadata": {},
   "outputs": [
    {
     "name": "stdout",
     "output_type": "stream",
     "text": [
      "Ultralytics 8.3.13  Python-3.12.3 torch-2.4.1+cpu CPU (11th Gen Intel Core(TM) i5-1145G7 2.60GHz)\n"
     ]
    },
    {
     "name": "stderr",
     "output_type": "stream",
     "text": [
      "\u001b[34m\u001b[1mval: \u001b[0mScanning C:\\Users\\Z0127829\\OneDrive - ZF Friedrichshafen AG\\Desktop\\Arbeit\\Studienarbeit\\intelligente_wildkamera\\.data\\evaluation\\img\\weitere Evaluation\\robustness\\labels.cache... 63 images, 134 backgrounds, 0 corrupt: 100%|██████████| 197/197 [00:00<?, ?it/s]"
     ]
    },
    {
     "name": "stdout",
     "output_type": "stream",
     "text": [
      "\u001b[34m\u001b[1mval: \u001b[0mWARNING  C:\\Users\\Z0127829\\OneDrive - ZF Friedrichshafen AG\\Desktop\\Arbeit\\Studienarbeit\\intelligente_wildkamera\\.data\\evaluation\\img\\weitere Evaluation\\robustness\\images\\IMAG0003.JPG: corrupt JPEG restored and saved\n",
      "\u001b[34m\u001b[1mval: \u001b[0mWARNING  C:\\Users\\Z0127829\\OneDrive - ZF Friedrichshafen AG\\Desktop\\Arbeit\\Studienarbeit\\intelligente_wildkamera\\.data\\evaluation\\img\\weitere Evaluation\\robustness\\images\\IMAG0007.JPG: corrupt JPEG restored and saved\n",
      "\u001b[34m\u001b[1mval: \u001b[0mWARNING  C:\\Users\\Z0127829\\OneDrive - ZF Friedrichshafen AG\\Desktop\\Arbeit\\Studienarbeit\\intelligente_wildkamera\\.data\\evaluation\\img\\weitere Evaluation\\robustness\\images\\IMAG0012.JPG: corrupt JPEG restored and saved\n"
     ]
    },
    {
     "name": "stderr",
     "output_type": "stream",
     "text": [
      "\n",
      "                 Class     Images  Instances      Box(P          R      mAP50  mAP50-95): 100%|██████████| 13/13 [00:22<00:00,  1.76s/it]\n"
     ]
    },
    {
     "name": "stdout",
     "output_type": "stream",
     "text": [
      "                   all        197        151      0.806      0.641       0.77      0.597\n",
      "                  deer         29         33      0.754      0.909      0.902      0.734\n",
      "             wild_boar         34        118      0.858      0.373      0.638      0.461\n",
      "Speed: 1.4ms preprocess, 72.5ms inference, 0.0ms loss, 0.5ms postprocess per image\n",
      "Results saved to \u001b[1mc:\\Users\\Z0127829\\OneDrive - ZF Friedrichshafen AG\\Desktop\\Arbeit\\Studienarbeit\\intelligente_wildkamera\\runs\\detect\\val3\u001b[0m\n"
     ]
    }
   ],
   "source": [
    "metrics = model.val(data='./ymls/data_robustness.yaml', conf=0.2)"
   ]
  },
  {
   "cell_type": "code",
   "execution_count": 7,
   "metadata": {},
   "outputs": [
    {
     "name": "stdout",
     "output_type": "stream",
     "text": [
      "\n",
      "image 1/197 c:\\Users\\Z0127829\\OneDrive - ZF Friedrichshafen AG\\Desktop\\Arbeit\\Studienarbeit\\intelligente_wildkamera\\src\\evaluation\\..\\..\\.data\\evaluation\\img\\weitere Evaluation\\robustness\\images\\000b5fe9-9156-4336-a7dc-6525320fb81f.JPG: 480x640 1 wild_boar, 82.1ms\n",
      "image 2/197 c:\\Users\\Z0127829\\OneDrive - ZF Friedrichshafen AG\\Desktop\\Arbeit\\Studienarbeit\\intelligente_wildkamera\\src\\evaluation\\..\\..\\.data\\evaluation\\img\\weitere Evaluation\\robustness\\images\\00aa6145-af34-4eda-b952-03ebac41f528.JPG: 480x640 1 wild_boar, 77.0ms\n",
      "image 3/197 c:\\Users\\Z0127829\\OneDrive - ZF Friedrichshafen AG\\Desktop\\Arbeit\\Studienarbeit\\intelligente_wildkamera\\src\\evaluation\\..\\..\\.data\\evaluation\\img\\weitere Evaluation\\robustness\\images\\01010021 1.JPG: 480x640 4 wild_boars, 79.2ms\n",
      "image 4/197 c:\\Users\\Z0127829\\OneDrive - ZF Friedrichshafen AG\\Desktop\\Arbeit\\Studienarbeit\\intelligente_wildkamera\\src\\evaluation\\..\\..\\.data\\evaluation\\img\\weitere Evaluation\\robustness\\images\\01010024.JPG: 480x640 9 wild_boars, 80.7ms\n",
      "image 5/197 c:\\Users\\Z0127829\\OneDrive - ZF Friedrichshafen AG\\Desktop\\Arbeit\\Studienarbeit\\intelligente_wildkamera\\src\\evaluation\\..\\..\\.data\\evaluation\\img\\weitere Evaluation\\robustness\\images\\01010044.JPG: 480x640 3 wild_boars, 81.2ms\n",
      "image 6/197 c:\\Users\\Z0127829\\OneDrive - ZF Friedrichshafen AG\\Desktop\\Arbeit\\Studienarbeit\\intelligente_wildkamera\\src\\evaluation\\..\\..\\.data\\evaluation\\img\\weitere Evaluation\\robustness\\images\\01010045.JPG: 480x640 1 deer, 4 wild_boars, 107.4ms\n",
      "image 7/197 c:\\Users\\Z0127829\\OneDrive - ZF Friedrichshafen AG\\Desktop\\Arbeit\\Studienarbeit\\intelligente_wildkamera\\src\\evaluation\\..\\..\\.data\\evaluation\\img\\weitere Evaluation\\robustness\\images\\01010067.JPG: 480x640 2 deers, 117.9ms\n",
      "image 8/197 c:\\Users\\Z0127829\\OneDrive - ZF Friedrichshafen AG\\Desktop\\Arbeit\\Studienarbeit\\intelligente_wildkamera\\src\\evaluation\\..\\..\\.data\\evaluation\\img\\weitere Evaluation\\robustness\\images\\01010069.JPG: 480x640 1 deer, 71.6ms\n",
      "image 9/197 c:\\Users\\Z0127829\\OneDrive - ZF Friedrichshafen AG\\Desktop\\Arbeit\\Studienarbeit\\intelligente_wildkamera\\src\\evaluation\\..\\..\\.data\\evaluation\\img\\weitere Evaluation\\robustness\\images\\01010200.JPG: 480x640 2 deers, 2 foxs, 75.3ms\n",
      "image 10/197 c:\\Users\\Z0127829\\OneDrive - ZF Friedrichshafen AG\\Desktop\\Arbeit\\Studienarbeit\\intelligente_wildkamera\\src\\evaluation\\..\\..\\.data\\evaluation\\img\\weitere Evaluation\\robustness\\images\\01010205.JPG: 480x640 1 deer, 1 wild_boar, 84.2ms\n",
      "image 11/197 c:\\Users\\Z0127829\\OneDrive - ZF Friedrichshafen AG\\Desktop\\Arbeit\\Studienarbeit\\intelligente_wildkamera\\src\\evaluation\\..\\..\\.data\\evaluation\\img\\weitere Evaluation\\robustness\\images\\01020080.JPG: 480x640 1 deer, 99.4ms\n",
      "image 12/197 c:\\Users\\Z0127829\\OneDrive - ZF Friedrichshafen AG\\Desktop\\Arbeit\\Studienarbeit\\intelligente_wildkamera\\src\\evaluation\\..\\..\\.data\\evaluation\\img\\weitere Evaluation\\robustness\\images\\01030116.JPG: 480x640 2 wild_boars, 72.9ms\n",
      "image 13/197 c:\\Users\\Z0127829\\OneDrive - ZF Friedrichshafen AG\\Desktop\\Arbeit\\Studienarbeit\\intelligente_wildkamera\\src\\evaluation\\..\\..\\.data\\evaluation\\img\\weitere Evaluation\\robustness\\images\\01040060.JPG: 480x640 2 deers, 82.1ms\n",
      "image 14/197 c:\\Users\\Z0127829\\OneDrive - ZF Friedrichshafen AG\\Desktop\\Arbeit\\Studienarbeit\\intelligente_wildkamera\\src\\evaluation\\..\\..\\.data\\evaluation\\img\\weitere Evaluation\\robustness\\images\\01040062.JPG: 480x640 1 deer, 134.9ms\n",
      "image 15/197 c:\\Users\\Z0127829\\OneDrive - ZF Friedrichshafen AG\\Desktop\\Arbeit\\Studienarbeit\\intelligente_wildkamera\\src\\evaluation\\..\\..\\.data\\evaluation\\img\\weitere Evaluation\\robustness\\images\\01040151.JPG: 480x640 1 deer, 99.2ms\n",
      "image 16/197 c:\\Users\\Z0127829\\OneDrive - ZF Friedrichshafen AG\\Desktop\\Arbeit\\Studienarbeit\\intelligente_wildkamera\\src\\evaluation\\..\\..\\.data\\evaluation\\img\\weitere Evaluation\\robustness\\images\\01040156 1.JPG: 480x640 1 deer, 83.4ms\n",
      "image 17/197 c:\\Users\\Z0127829\\OneDrive - ZF Friedrichshafen AG\\Desktop\\Arbeit\\Studienarbeit\\intelligente_wildkamera\\src\\evaluation\\..\\..\\.data\\evaluation\\img\\weitere Evaluation\\robustness\\images\\01040157.JPG: 480x640 1 deer, 159.2ms\n",
      "image 18/197 c:\\Users\\Z0127829\\OneDrive - ZF Friedrichshafen AG\\Desktop\\Arbeit\\Studienarbeit\\intelligente_wildkamera\\src\\evaluation\\..\\..\\.data\\evaluation\\img\\weitere Evaluation\\robustness\\images\\06270163 1.JPG: 480x640 1 fox, 70.6ms\n",
      "image 19/197 c:\\Users\\Z0127829\\OneDrive - ZF Friedrichshafen AG\\Desktop\\Arbeit\\Studienarbeit\\intelligente_wildkamera\\src\\evaluation\\..\\..\\.data\\evaluation\\img\\weitere Evaluation\\robustness\\images\\06290210.JPG: 480x640 2 deers, 62.1ms\n",
      "image 20/197 c:\\Users\\Z0127829\\OneDrive - ZF Friedrichshafen AG\\Desktop\\Arbeit\\Studienarbeit\\intelligente_wildkamera\\src\\evaluation\\..\\..\\.data\\evaluation\\img\\weitere Evaluation\\robustness\\images\\0a03abbd-45d8-4aa2-8048-5d32cd15ba4f.JPG: 480x640 1 wild_boar, 66.1ms\n",
      "image 21/197 c:\\Users\\Z0127829\\OneDrive - ZF Friedrichshafen AG\\Desktop\\Arbeit\\Studienarbeit\\intelligente_wildkamera\\src\\evaluation\\..\\..\\.data\\evaluation\\img\\weitere Evaluation\\robustness\\images\\0a3cebe4-d898-41c6-9af4-03fc4eea7965.JPG: 480x640 1 wild_boar, 81.5ms\n",
      "image 22/197 c:\\Users\\Z0127829\\OneDrive - ZF Friedrichshafen AG\\Desktop\\Arbeit\\Studienarbeit\\intelligente_wildkamera\\src\\evaluation\\..\\..\\.data\\evaluation\\img\\weitere Evaluation\\robustness\\images\\4337s2i7.jpg: 480x640 1 deer, 63.3ms\n",
      "image 23/197 c:\\Users\\Z0127829\\OneDrive - ZF Friedrichshafen AG\\Desktop\\Arbeit\\Studienarbeit\\intelligente_wildkamera\\src\\evaluation\\..\\..\\.data\\evaluation\\img\\weitere Evaluation\\robustness\\images\\IMAG0003.JPG: 480x640 (no detections), 66.0ms\n",
      "image 24/197 c:\\Users\\Z0127829\\OneDrive - ZF Friedrichshafen AG\\Desktop\\Arbeit\\Studienarbeit\\intelligente_wildkamera\\src\\evaluation\\..\\..\\.data\\evaluation\\img\\weitere Evaluation\\robustness\\images\\IMAG0007.JPG: 480x640 1 deer, 1 fox, 81.1ms\n",
      "image 25/197 c:\\Users\\Z0127829\\OneDrive - ZF Friedrichshafen AG\\Desktop\\Arbeit\\Studienarbeit\\intelligente_wildkamera\\src\\evaluation\\..\\..\\.data\\evaluation\\img\\weitere Evaluation\\robustness\\images\\IMAG0012.JPG: 480x640 (no detections), 108.0ms\n",
      "image 26/197 c:\\Users\\Z0127829\\OneDrive - ZF Friedrichshafen AG\\Desktop\\Arbeit\\Studienarbeit\\intelligente_wildkamera\\src\\evaluation\\..\\..\\.data\\evaluation\\img\\weitere Evaluation\\robustness\\images\\Kamera Gipfel 2 (283).png: 480x640 2 deers, 1 wild_boar, 71.5ms\n",
      "image 27/197 c:\\Users\\Z0127829\\OneDrive - ZF Friedrichshafen AG\\Desktop\\Arbeit\\Studienarbeit\\intelligente_wildkamera\\src\\evaluation\\..\\..\\.data\\evaluation\\img\\weitere Evaluation\\robustness\\images\\Kamera Gipfel 2 (316).png: 480x640 1 deer, 67.3ms\n",
      "image 28/197 c:\\Users\\Z0127829\\OneDrive - ZF Friedrichshafen AG\\Desktop\\Arbeit\\Studienarbeit\\intelligente_wildkamera\\src\\evaluation\\..\\..\\.data\\evaluation\\img\\weitere Evaluation\\robustness\\images\\Kamera Gipfel 2 (322).png: 480x640 1 deer, 80.8ms\n",
      "image 29/197 c:\\Users\\Z0127829\\OneDrive - ZF Friedrichshafen AG\\Desktop\\Arbeit\\Studienarbeit\\intelligente_wildkamera\\src\\evaluation\\..\\..\\.data\\evaluation\\img\\weitere Evaluation\\robustness\\images\\Kamera Gipfel 2.png: 480x640 1 deer, 71.2ms\n",
      "image 30/197 c:\\Users\\Z0127829\\OneDrive - ZF Friedrichshafen AG\\Desktop\\Arbeit\\Studienarbeit\\intelligente_wildkamera\\src\\evaluation\\..\\..\\.data\\evaluation\\img\\weitere Evaluation\\robustness\\images\\Kamera Gipfelkirrung (1).png: 480x640 (no detections), 64.2ms\n",
      "image 31/197 c:\\Users\\Z0127829\\OneDrive - ZF Friedrichshafen AG\\Desktop\\Arbeit\\Studienarbeit\\intelligente_wildkamera\\src\\evaluation\\..\\..\\.data\\evaluation\\img\\weitere Evaluation\\robustness\\images\\Kamera Gipfelkirrung (11).png: 480x640 1 deer, 82.1ms\n",
      "image 32/197 c:\\Users\\Z0127829\\OneDrive - ZF Friedrichshafen AG\\Desktop\\Arbeit\\Studienarbeit\\intelligente_wildkamera\\src\\evaluation\\..\\..\\.data\\evaluation\\img\\weitere Evaluation\\robustness\\images\\Kamera Gipfelkirrung (12).png: 480x640 1 fox, 83.6ms\n",
      "image 33/197 c:\\Users\\Z0127829\\OneDrive - ZF Friedrichshafen AG\\Desktop\\Arbeit\\Studienarbeit\\intelligente_wildkamera\\src\\evaluation\\..\\..\\.data\\evaluation\\img\\weitere Evaluation\\robustness\\images\\Kamera Gipfelkirrung (13).png: 480x640 1 deer, 101.9ms\n",
      "image 34/197 c:\\Users\\Z0127829\\OneDrive - ZF Friedrichshafen AG\\Desktop\\Arbeit\\Studienarbeit\\intelligente_wildkamera\\src\\evaluation\\..\\..\\.data\\evaluation\\img\\weitere Evaluation\\robustness\\images\\Kamera Gipfelkirrung (14).png: 480x640 1 badger, 81.0ms\n",
      "image 35/197 c:\\Users\\Z0127829\\OneDrive - ZF Friedrichshafen AG\\Desktop\\Arbeit\\Studienarbeit\\intelligente_wildkamera\\src\\evaluation\\..\\..\\.data\\evaluation\\img\\weitere Evaluation\\robustness\\images\\Kamera Gipfelkirrung (16).png: 480x640 1 badger, 93.4ms\n",
      "image 36/197 c:\\Users\\Z0127829\\OneDrive - ZF Friedrichshafen AG\\Desktop\\Arbeit\\Studienarbeit\\intelligente_wildkamera\\src\\evaluation\\..\\..\\.data\\evaluation\\img\\weitere Evaluation\\robustness\\images\\Kamera Gipfelkirrung (17).png: 480x640 1 badger, 69.0ms\n",
      "image 37/197 c:\\Users\\Z0127829\\OneDrive - ZF Friedrichshafen AG\\Desktop\\Arbeit\\Studienarbeit\\intelligente_wildkamera\\src\\evaluation\\..\\..\\.data\\evaluation\\img\\weitere Evaluation\\robustness\\images\\Kamera Gipfelkirrung (18).png: 480x640 1 badger, 73.8ms\n",
      "image 38/197 c:\\Users\\Z0127829\\OneDrive - ZF Friedrichshafen AG\\Desktop\\Arbeit\\Studienarbeit\\intelligente_wildkamera\\src\\evaluation\\..\\..\\.data\\evaluation\\img\\weitere Evaluation\\robustness\\images\\Kamera Gipfelkirrung (182).png: 480x640 3 deers, 85.5ms\n",
      "image 39/197 c:\\Users\\Z0127829\\OneDrive - ZF Friedrichshafen AG\\Desktop\\Arbeit\\Studienarbeit\\intelligente_wildkamera\\src\\evaluation\\..\\..\\.data\\evaluation\\img\\weitere Evaluation\\robustness\\images\\Kamera Gipfelkirrung (187).png: 480x640 (no detections), 72.6ms\n",
      "image 40/197 c:\\Users\\Z0127829\\OneDrive - ZF Friedrichshafen AG\\Desktop\\Arbeit\\Studienarbeit\\intelligente_wildkamera\\src\\evaluation\\..\\..\\.data\\evaluation\\img\\weitere Evaluation\\robustness\\images\\Kamera Gipfelkirrung (2).png: 480x640 1 badger, 131.4ms\n",
      "image 41/197 c:\\Users\\Z0127829\\OneDrive - ZF Friedrichshafen AG\\Desktop\\Arbeit\\Studienarbeit\\intelligente_wildkamera\\src\\evaluation\\..\\..\\.data\\evaluation\\img\\weitere Evaluation\\robustness\\images\\Kamera Gipfelkirrung (20).png: 480x640 1 badger, 135.2ms\n",
      "image 42/197 c:\\Users\\Z0127829\\OneDrive - ZF Friedrichshafen AG\\Desktop\\Arbeit\\Studienarbeit\\intelligente_wildkamera\\src\\evaluation\\..\\..\\.data\\evaluation\\img\\weitere Evaluation\\robustness\\images\\Kamera Gipfelkirrung (21).png: 480x640 1 badger, 283.5ms\n",
      "image 43/197 c:\\Users\\Z0127829\\OneDrive - ZF Friedrichshafen AG\\Desktop\\Arbeit\\Studienarbeit\\intelligente_wildkamera\\src\\evaluation\\..\\..\\.data\\evaluation\\img\\weitere Evaluation\\robustness\\images\\Kamera Gipfelkirrung (215).png: 480x640 1 badger, 205.1ms\n",
      "image 44/197 c:\\Users\\Z0127829\\OneDrive - ZF Friedrichshafen AG\\Desktop\\Arbeit\\Studienarbeit\\intelligente_wildkamera\\src\\evaluation\\..\\..\\.data\\evaluation\\img\\weitere Evaluation\\robustness\\images\\Kamera Gipfelkirrung (22).png: 480x640 1 badger, 136.3ms\n",
      "image 45/197 c:\\Users\\Z0127829\\OneDrive - ZF Friedrichshafen AG\\Desktop\\Arbeit\\Studienarbeit\\intelligente_wildkamera\\src\\evaluation\\..\\..\\.data\\evaluation\\img\\weitere Evaluation\\robustness\\images\\Kamera Gipfelkirrung (223).png: 480x640 2 wild_boars, 158.6ms\n",
      "image 46/197 c:\\Users\\Z0127829\\OneDrive - ZF Friedrichshafen AG\\Desktop\\Arbeit\\Studienarbeit\\intelligente_wildkamera\\src\\evaluation\\..\\..\\.data\\evaluation\\img\\weitere Evaluation\\robustness\\images\\Kamera Gipfelkirrung (224).png: 480x640 2 wild_boars, 150.9ms\n",
      "image 47/197 c:\\Users\\Z0127829\\OneDrive - ZF Friedrichshafen AG\\Desktop\\Arbeit\\Studienarbeit\\intelligente_wildkamera\\src\\evaluation\\..\\..\\.data\\evaluation\\img\\weitere Evaluation\\robustness\\images\\Kamera Gipfelkirrung (23).png: 480x640 1 badger, 146.6ms\n",
      "image 48/197 c:\\Users\\Z0127829\\OneDrive - ZF Friedrichshafen AG\\Desktop\\Arbeit\\Studienarbeit\\intelligente_wildkamera\\src\\evaluation\\..\\..\\.data\\evaluation\\img\\weitere Evaluation\\robustness\\images\\Kamera Gipfelkirrung (25).png: 480x640 1 badger, 179.9ms\n",
      "image 49/197 c:\\Users\\Z0127829\\OneDrive - ZF Friedrichshafen AG\\Desktop\\Arbeit\\Studienarbeit\\intelligente_wildkamera\\src\\evaluation\\..\\..\\.data\\evaluation\\img\\weitere Evaluation\\robustness\\images\\Kamera Gipfelkirrung (26).png: 480x640 1 wild_boar, 1 badger, 144.9ms\n",
      "image 50/197 c:\\Users\\Z0127829\\OneDrive - ZF Friedrichshafen AG\\Desktop\\Arbeit\\Studienarbeit\\intelligente_wildkamera\\src\\evaluation\\..\\..\\.data\\evaluation\\img\\weitere Evaluation\\robustness\\images\\Kamera Gipfelkirrung (266).png: 480x640 1 wild_boar, 1 badger, 137.9ms\n",
      "image 51/197 c:\\Users\\Z0127829\\OneDrive - ZF Friedrichshafen AG\\Desktop\\Arbeit\\Studienarbeit\\intelligente_wildkamera\\src\\evaluation\\..\\..\\.data\\evaluation\\img\\weitere Evaluation\\robustness\\images\\Kamera Gipfelkirrung (268).png: 480x640 1 badger, 123.5ms\n",
      "image 52/197 c:\\Users\\Z0127829\\OneDrive - ZF Friedrichshafen AG\\Desktop\\Arbeit\\Studienarbeit\\intelligente_wildkamera\\src\\evaluation\\..\\..\\.data\\evaluation\\img\\weitere Evaluation\\robustness\\images\\Kamera Gipfelkirrung (27).png: 480x640 1 deer, 1 fox, 110.3ms\n",
      "image 53/197 c:\\Users\\Z0127829\\OneDrive - ZF Friedrichshafen AG\\Desktop\\Arbeit\\Studienarbeit\\intelligente_wildkamera\\src\\evaluation\\..\\..\\.data\\evaluation\\img\\weitere Evaluation\\robustness\\images\\Kamera Gipfelkirrung (28).png: 480x640 1 deer, 112.8ms\n",
      "image 54/197 c:\\Users\\Z0127829\\OneDrive - ZF Friedrichshafen AG\\Desktop\\Arbeit\\Studienarbeit\\intelligente_wildkamera\\src\\evaluation\\..\\..\\.data\\evaluation\\img\\weitere Evaluation\\robustness\\images\\Kamera Gipfelkirrung (29).png: 480x640 (no detections), 125.6ms\n",
      "image 55/197 c:\\Users\\Z0127829\\OneDrive - ZF Friedrichshafen AG\\Desktop\\Arbeit\\Studienarbeit\\intelligente_wildkamera\\src\\evaluation\\..\\..\\.data\\evaluation\\img\\weitere Evaluation\\robustness\\images\\Kamera Gipfelkirrung (3).png: 480x640 1 badger, 113.8ms\n",
      "image 56/197 c:\\Users\\Z0127829\\OneDrive - ZF Friedrichshafen AG\\Desktop\\Arbeit\\Studienarbeit\\intelligente_wildkamera\\src\\evaluation\\..\\..\\.data\\evaluation\\img\\weitere Evaluation\\robustness\\images\\Kamera Gipfelkirrung (30).png: 480x640 1 deer, 111.1ms\n",
      "image 57/197 c:\\Users\\Z0127829\\OneDrive - ZF Friedrichshafen AG\\Desktop\\Arbeit\\Studienarbeit\\intelligente_wildkamera\\src\\evaluation\\..\\..\\.data\\evaluation\\img\\weitere Evaluation\\robustness\\images\\Kamera Gipfelkirrung (304).png: 480x640 1 deer, 99.8ms\n",
      "image 58/197 c:\\Users\\Z0127829\\OneDrive - ZF Friedrichshafen AG\\Desktop\\Arbeit\\Studienarbeit\\intelligente_wildkamera\\src\\evaluation\\..\\..\\.data\\evaluation\\img\\weitere Evaluation\\robustness\\images\\Kamera Gipfelkirrung (307).png: 480x640 1 deer, 115.7ms\n",
      "image 59/197 c:\\Users\\Z0127829\\OneDrive - ZF Friedrichshafen AG\\Desktop\\Arbeit\\Studienarbeit\\intelligente_wildkamera\\src\\evaluation\\..\\..\\.data\\evaluation\\img\\weitere Evaluation\\robustness\\images\\Kamera Gipfelkirrung (315).png: 480x640 1 deer, 121.0ms\n",
      "image 60/197 c:\\Users\\Z0127829\\OneDrive - ZF Friedrichshafen AG\\Desktop\\Arbeit\\Studienarbeit\\intelligente_wildkamera\\src\\evaluation\\..\\..\\.data\\evaluation\\img\\weitere Evaluation\\robustness\\images\\Kamera Gipfelkirrung (32).png: 480x640 (no detections), 120.4ms\n",
      "image 61/197 c:\\Users\\Z0127829\\OneDrive - ZF Friedrichshafen AG\\Desktop\\Arbeit\\Studienarbeit\\intelligente_wildkamera\\src\\evaluation\\..\\..\\.data\\evaluation\\img\\weitere Evaluation\\robustness\\images\\Kamera Gipfelkirrung (325).png: 480x640 1 deer, 1 fox, 130.8ms\n",
      "image 62/197 c:\\Users\\Z0127829\\OneDrive - ZF Friedrichshafen AG\\Desktop\\Arbeit\\Studienarbeit\\intelligente_wildkamera\\src\\evaluation\\..\\..\\.data\\evaluation\\img\\weitere Evaluation\\robustness\\images\\Kamera Gipfelkirrung (33).png: 480x640 1 fox, 106.8ms\n",
      "image 63/197 c:\\Users\\Z0127829\\OneDrive - ZF Friedrichshafen AG\\Desktop\\Arbeit\\Studienarbeit\\intelligente_wildkamera\\src\\evaluation\\..\\..\\.data\\evaluation\\img\\weitere Evaluation\\robustness\\images\\Kamera Gipfelkirrung (34).png: 480x640 1 badger, 110.6ms\n",
      "image 64/197 c:\\Users\\Z0127829\\OneDrive - ZF Friedrichshafen AG\\Desktop\\Arbeit\\Studienarbeit\\intelligente_wildkamera\\src\\evaluation\\..\\..\\.data\\evaluation\\img\\weitere Evaluation\\robustness\\images\\Kamera Gipfelkirrung (35).png: 480x640 1 badger, 117.6ms\n",
      "image 65/197 c:\\Users\\Z0127829\\OneDrive - ZF Friedrichshafen AG\\Desktop\\Arbeit\\Studienarbeit\\intelligente_wildkamera\\src\\evaluation\\..\\..\\.data\\evaluation\\img\\weitere Evaluation\\robustness\\images\\Kamera Gipfelkirrung (36).png: 480x640 1 fox, 107.4ms\n",
      "image 66/197 c:\\Users\\Z0127829\\OneDrive - ZF Friedrichshafen AG\\Desktop\\Arbeit\\Studienarbeit\\intelligente_wildkamera\\src\\evaluation\\..\\..\\.data\\evaluation\\img\\weitere Evaluation\\robustness\\images\\Kamera Gipfelkirrung (38).png: 480x640 2 foxs, 113.3ms\n",
      "image 67/197 c:\\Users\\Z0127829\\OneDrive - ZF Friedrichshafen AG\\Desktop\\Arbeit\\Studienarbeit\\intelligente_wildkamera\\src\\evaluation\\..\\..\\.data\\evaluation\\img\\weitere Evaluation\\robustness\\images\\Kamera Gipfelkirrung (39).png: 480x640 1 badger, 117.9ms\n",
      "image 68/197 c:\\Users\\Z0127829\\OneDrive - ZF Friedrichshafen AG\\Desktop\\Arbeit\\Studienarbeit\\intelligente_wildkamera\\src\\evaluation\\..\\..\\.data\\evaluation\\img\\weitere Evaluation\\robustness\\images\\Kamera Gipfelkirrung (4).png: 480x640 (no detections), 119.6ms\n",
      "image 69/197 c:\\Users\\Z0127829\\OneDrive - ZF Friedrichshafen AG\\Desktop\\Arbeit\\Studienarbeit\\intelligente_wildkamera\\src\\evaluation\\..\\..\\.data\\evaluation\\img\\weitere Evaluation\\robustness\\images\\Kamera Gipfelkirrung (40).png: 480x640 (no detections), 119.7ms\n",
      "image 70/197 c:\\Users\\Z0127829\\OneDrive - ZF Friedrichshafen AG\\Desktop\\Arbeit\\Studienarbeit\\intelligente_wildkamera\\src\\evaluation\\..\\..\\.data\\evaluation\\img\\weitere Evaluation\\robustness\\images\\Kamera Gipfelkirrung (41).png: 480x640 1 badger, 115.3ms\n",
      "image 71/197 c:\\Users\\Z0127829\\OneDrive - ZF Friedrichshafen AG\\Desktop\\Arbeit\\Studienarbeit\\intelligente_wildkamera\\src\\evaluation\\..\\..\\.data\\evaluation\\img\\weitere Evaluation\\robustness\\images\\Kamera Gipfelkirrung (42).png: 480x640 1 badger, 122.4ms\n",
      "image 72/197 c:\\Users\\Z0127829\\OneDrive - ZF Friedrichshafen AG\\Desktop\\Arbeit\\Studienarbeit\\intelligente_wildkamera\\src\\evaluation\\..\\..\\.data\\evaluation\\img\\weitere Evaluation\\robustness\\images\\Kamera Gipfelkirrung (44).png: 480x640 1 badger, 124.6ms\n",
      "image 73/197 c:\\Users\\Z0127829\\OneDrive - ZF Friedrichshafen AG\\Desktop\\Arbeit\\Studienarbeit\\intelligente_wildkamera\\src\\evaluation\\..\\..\\.data\\evaluation\\img\\weitere Evaluation\\robustness\\images\\Kamera Gipfelkirrung (45).png: 480x640 1 badger, 134.1ms\n",
      "image 74/197 c:\\Users\\Z0127829\\OneDrive - ZF Friedrichshafen AG\\Desktop\\Arbeit\\Studienarbeit\\intelligente_wildkamera\\src\\evaluation\\..\\..\\.data\\evaluation\\img\\weitere Evaluation\\robustness\\images\\Kamera Gipfelkirrung (47).png: 480x640 1 deer, 110.8ms\n",
      "image 75/197 c:\\Users\\Z0127829\\OneDrive - ZF Friedrichshafen AG\\Desktop\\Arbeit\\Studienarbeit\\intelligente_wildkamera\\src\\evaluation\\..\\..\\.data\\evaluation\\img\\weitere Evaluation\\robustness\\images\\Kamera Gipfelkirrung (48).png: 480x640 (no detections), 91.0ms\n",
      "image 76/197 c:\\Users\\Z0127829\\OneDrive - ZF Friedrichshafen AG\\Desktop\\Arbeit\\Studienarbeit\\intelligente_wildkamera\\src\\evaluation\\..\\..\\.data\\evaluation\\img\\weitere Evaluation\\robustness\\images\\Kamera Gipfelkirrung (49).png: 480x640 1 deer, 144.0ms\n",
      "image 77/197 c:\\Users\\Z0127829\\OneDrive - ZF Friedrichshafen AG\\Desktop\\Arbeit\\Studienarbeit\\intelligente_wildkamera\\src\\evaluation\\..\\..\\.data\\evaluation\\img\\weitere Evaluation\\robustness\\images\\Kamera Gipfelkirrung (5).png: 480x640 1 badger, 110.6ms\n",
      "image 78/197 c:\\Users\\Z0127829\\OneDrive - ZF Friedrichshafen AG\\Desktop\\Arbeit\\Studienarbeit\\intelligente_wildkamera\\src\\evaluation\\..\\..\\.data\\evaluation\\img\\weitere Evaluation\\robustness\\images\\Kamera Gipfelkirrung (51).png: 480x640 1 badger, 122.5ms\n",
      "image 79/197 c:\\Users\\Z0127829\\OneDrive - ZF Friedrichshafen AG\\Desktop\\Arbeit\\Studienarbeit\\intelligente_wildkamera\\src\\evaluation\\..\\..\\.data\\evaluation\\img\\weitere Evaluation\\robustness\\images\\Kamera Gipfelkirrung (52).png: 480x640 1 badger, 121.5ms\n",
      "image 80/197 c:\\Users\\Z0127829\\OneDrive - ZF Friedrichshafen AG\\Desktop\\Arbeit\\Studienarbeit\\intelligente_wildkamera\\src\\evaluation\\..\\..\\.data\\evaluation\\img\\weitere Evaluation\\robustness\\images\\Kamera Gipfelkirrung (55).png: 480x640 1 wild_boar, 101.6ms\n",
      "image 81/197 c:\\Users\\Z0127829\\OneDrive - ZF Friedrichshafen AG\\Desktop\\Arbeit\\Studienarbeit\\intelligente_wildkamera\\src\\evaluation\\..\\..\\.data\\evaluation\\img\\weitere Evaluation\\robustness\\images\\Kamera Gipfelkirrung (56).png: 480x640 1 fox, 122.6ms\n",
      "image 82/197 c:\\Users\\Z0127829\\OneDrive - ZF Friedrichshafen AG\\Desktop\\Arbeit\\Studienarbeit\\intelligente_wildkamera\\src\\evaluation\\..\\..\\.data\\evaluation\\img\\weitere Evaluation\\robustness\\images\\Kamera Gipfelkirrung (57).png: 480x640 (no detections), 106.5ms\n",
      "image 83/197 c:\\Users\\Z0127829\\OneDrive - ZF Friedrichshafen AG\\Desktop\\Arbeit\\Studienarbeit\\intelligente_wildkamera\\src\\evaluation\\..\\..\\.data\\evaluation\\img\\weitere Evaluation\\robustness\\images\\Kamera Gipfelkirrung (59).png: 480x640 1 fox, 172.2ms\n",
      "image 84/197 c:\\Users\\Z0127829\\OneDrive - ZF Friedrichshafen AG\\Desktop\\Arbeit\\Studienarbeit\\intelligente_wildkamera\\src\\evaluation\\..\\..\\.data\\evaluation\\img\\weitere Evaluation\\robustness\\images\\Kamera Gipfelkirrung (6).png: 480x640 1 badger, 105.9ms\n",
      "image 85/197 c:\\Users\\Z0127829\\OneDrive - ZF Friedrichshafen AG\\Desktop\\Arbeit\\Studienarbeit\\intelligente_wildkamera\\src\\evaluation\\..\\..\\.data\\evaluation\\img\\weitere Evaluation\\robustness\\images\\Kamera Gipfelkirrung (60).png: 480x640 1 badger, 122.6ms\n",
      "image 86/197 c:\\Users\\Z0127829\\OneDrive - ZF Friedrichshafen AG\\Desktop\\Arbeit\\Studienarbeit\\intelligente_wildkamera\\src\\evaluation\\..\\..\\.data\\evaluation\\img\\weitere Evaluation\\robustness\\images\\Kamera Gipfelkirrung (61).png: 480x640 1 badger, 113.6ms\n",
      "image 87/197 c:\\Users\\Z0127829\\OneDrive - ZF Friedrichshafen AG\\Desktop\\Arbeit\\Studienarbeit\\intelligente_wildkamera\\src\\evaluation\\..\\..\\.data\\evaluation\\img\\weitere Evaluation\\robustness\\images\\Kamera Gipfelkirrung (62).png: 480x640 1 fox, 101.9ms\n",
      "image 88/197 c:\\Users\\Z0127829\\OneDrive - ZF Friedrichshafen AG\\Desktop\\Arbeit\\Studienarbeit\\intelligente_wildkamera\\src\\evaluation\\..\\..\\.data\\evaluation\\img\\weitere Evaluation\\robustness\\images\\Kamera Gipfelkirrung (63).png: 480x640 2 badgers, 132.6ms\n",
      "image 89/197 c:\\Users\\Z0127829\\OneDrive - ZF Friedrichshafen AG\\Desktop\\Arbeit\\Studienarbeit\\intelligente_wildkamera\\src\\evaluation\\..\\..\\.data\\evaluation\\img\\weitere Evaluation\\robustness\\images\\Kamera Gipfelkirrung (64).png: 480x640 2 badgers, 109.6ms\n",
      "image 90/197 c:\\Users\\Z0127829\\OneDrive - ZF Friedrichshafen AG\\Desktop\\Arbeit\\Studienarbeit\\intelligente_wildkamera\\src\\evaluation\\..\\..\\.data\\evaluation\\img\\weitere Evaluation\\robustness\\images\\Kamera Gipfelkirrung (65).png: 480x640 2 badgers, 134.5ms\n",
      "image 91/197 c:\\Users\\Z0127829\\OneDrive - ZF Friedrichshafen AG\\Desktop\\Arbeit\\Studienarbeit\\intelligente_wildkamera\\src\\evaluation\\..\\..\\.data\\evaluation\\img\\weitere Evaluation\\robustness\\images\\Kamera Gipfelkirrung (66).png: 480x640 1 badger, 110.7ms\n",
      "image 92/197 c:\\Users\\Z0127829\\OneDrive - ZF Friedrichshafen AG\\Desktop\\Arbeit\\Studienarbeit\\intelligente_wildkamera\\src\\evaluation\\..\\..\\.data\\evaluation\\img\\weitere Evaluation\\robustness\\images\\Kamera Gipfelkirrung (67).png: 480x640 1 badger, 164.1ms\n",
      "image 93/197 c:\\Users\\Z0127829\\OneDrive - ZF Friedrichshafen AG\\Desktop\\Arbeit\\Studienarbeit\\intelligente_wildkamera\\src\\evaluation\\..\\..\\.data\\evaluation\\img\\weitere Evaluation\\robustness\\images\\Kamera Gipfelkirrung (68).png: 480x640 1 fox, 171.4ms\n",
      "image 94/197 c:\\Users\\Z0127829\\OneDrive - ZF Friedrichshafen AG\\Desktop\\Arbeit\\Studienarbeit\\intelligente_wildkamera\\src\\evaluation\\..\\..\\.data\\evaluation\\img\\weitere Evaluation\\robustness\\images\\Kamera Gipfelkirrung (7).png: 480x640 1 badger, 134.9ms\n",
      "image 95/197 c:\\Users\\Z0127829\\OneDrive - ZF Friedrichshafen AG\\Desktop\\Arbeit\\Studienarbeit\\intelligente_wildkamera\\src\\evaluation\\..\\..\\.data\\evaluation\\img\\weitere Evaluation\\robustness\\images\\Kamera Gipfelkirrung (70).png: 480x640 1 badger, 151.2ms\n",
      "image 96/197 c:\\Users\\Z0127829\\OneDrive - ZF Friedrichshafen AG\\Desktop\\Arbeit\\Studienarbeit\\intelligente_wildkamera\\src\\evaluation\\..\\..\\.data\\evaluation\\img\\weitere Evaluation\\robustness\\images\\Kamera Gipfelkirrung (71).png: 480x640 1 badger, 146.9ms\n",
      "image 97/197 c:\\Users\\Z0127829\\OneDrive - ZF Friedrichshafen AG\\Desktop\\Arbeit\\Studienarbeit\\intelligente_wildkamera\\src\\evaluation\\..\\..\\.data\\evaluation\\img\\weitere Evaluation\\robustness\\images\\Kamera Gipfelkirrung (72).png: 480x640 1 badger, 140.7ms\n",
      "image 98/197 c:\\Users\\Z0127829\\OneDrive - ZF Friedrichshafen AG\\Desktop\\Arbeit\\Studienarbeit\\intelligente_wildkamera\\src\\evaluation\\..\\..\\.data\\evaluation\\img\\weitere Evaluation\\robustness\\images\\Kamera Gipfelkirrung (73).png: 480x640 (no detections), 132.6ms\n",
      "image 99/197 c:\\Users\\Z0127829\\OneDrive - ZF Friedrichshafen AG\\Desktop\\Arbeit\\Studienarbeit\\intelligente_wildkamera\\src\\evaluation\\..\\..\\.data\\evaluation\\img\\weitere Evaluation\\robustness\\images\\Kamera Gipfelkirrung (74).png: 480x640 1 badger, 144.9ms\n",
      "image 100/197 c:\\Users\\Z0127829\\OneDrive - ZF Friedrichshafen AG\\Desktop\\Arbeit\\Studienarbeit\\intelligente_wildkamera\\src\\evaluation\\..\\..\\.data\\evaluation\\img\\weitere Evaluation\\robustness\\images\\Kamera Gipfelkirrung (76).png: 480x640 1 badger, 103.7ms\n",
      "image 101/197 c:\\Users\\Z0127829\\OneDrive - ZF Friedrichshafen AG\\Desktop\\Arbeit\\Studienarbeit\\intelligente_wildkamera\\src\\evaluation\\..\\..\\.data\\evaluation\\img\\weitere Evaluation\\robustness\\images\\Kamera Gipfelkirrung (77).png: 480x640 1 badger, 151.3ms\n",
      "image 102/197 c:\\Users\\Z0127829\\OneDrive - ZF Friedrichshafen AG\\Desktop\\Arbeit\\Studienarbeit\\intelligente_wildkamera\\src\\evaluation\\..\\..\\.data\\evaluation\\img\\weitere Evaluation\\robustness\\images\\Kamera Gipfelkirrung (78).png: 480x640 1 deer, 152.9ms\n",
      "image 103/197 c:\\Users\\Z0127829\\OneDrive - ZF Friedrichshafen AG\\Desktop\\Arbeit\\Studienarbeit\\intelligente_wildkamera\\src\\evaluation\\..\\..\\.data\\evaluation\\img\\weitere Evaluation\\robustness\\images\\Kamera Gipfelkirrung (79).png: 480x640 1 deer, 282.0ms\n",
      "image 104/197 c:\\Users\\Z0127829\\OneDrive - ZF Friedrichshafen AG\\Desktop\\Arbeit\\Studienarbeit\\intelligente_wildkamera\\src\\evaluation\\..\\..\\.data\\evaluation\\img\\weitere Evaluation\\robustness\\images\\Kamera Gipfelkirrung (8).png: 480x640 1 deer, 128.4ms\n",
      "image 105/197 c:\\Users\\Z0127829\\OneDrive - ZF Friedrichshafen AG\\Desktop\\Arbeit\\Studienarbeit\\intelligente_wildkamera\\src\\evaluation\\..\\..\\.data\\evaluation\\img\\weitere Evaluation\\robustness\\images\\Kamera Gipfelkirrung (80).png: 480x640 1 deer, 151.5ms\n",
      "image 106/197 c:\\Users\\Z0127829\\OneDrive - ZF Friedrichshafen AG\\Desktop\\Arbeit\\Studienarbeit\\intelligente_wildkamera\\src\\evaluation\\..\\..\\.data\\evaluation\\img\\weitere Evaluation\\robustness\\images\\Kamera Gipfelkirrung (81).png: 480x640 1 deer, 132.0ms\n",
      "image 107/197 c:\\Users\\Z0127829\\OneDrive - ZF Friedrichshafen AG\\Desktop\\Arbeit\\Studienarbeit\\intelligente_wildkamera\\src\\evaluation\\..\\..\\.data\\evaluation\\img\\weitere Evaluation\\robustness\\images\\Kamera Gipfelkirrung (83).png: 480x640 1 fox, 113.6ms\n",
      "image 108/197 c:\\Users\\Z0127829\\OneDrive - ZF Friedrichshafen AG\\Desktop\\Arbeit\\Studienarbeit\\intelligente_wildkamera\\src\\evaluation\\..\\..\\.data\\evaluation\\img\\weitere Evaluation\\robustness\\images\\Kamera Gipfelkirrung (88).png: 480x640 1 fox, 141.1ms\n",
      "image 109/197 c:\\Users\\Z0127829\\OneDrive - ZF Friedrichshafen AG\\Desktop\\Arbeit\\Studienarbeit\\intelligente_wildkamera\\src\\evaluation\\..\\..\\.data\\evaluation\\img\\weitere Evaluation\\robustness\\images\\Kamera Gipfelkirrung (94).png: 480x640 1 fox, 113.4ms\n",
      "image 110/197 c:\\Users\\Z0127829\\OneDrive - ZF Friedrichshafen AG\\Desktop\\Arbeit\\Studienarbeit\\intelligente_wildkamera\\src\\evaluation\\..\\..\\.data\\evaluation\\img\\weitere Evaluation\\robustness\\images\\Kamera Gipfelkirrung.png: 480x640 1 fox, 118.4ms\n",
      "image 111/197 c:\\Users\\Z0127829\\OneDrive - ZF Friedrichshafen AG\\Desktop\\Arbeit\\Studienarbeit\\intelligente_wildkamera\\src\\evaluation\\..\\..\\.data\\evaluation\\img\\weitere Evaluation\\robustness\\images\\Kamera Httenkirrung Oben (101).png: 480x640 2 foxs, 126.2ms\n",
      "image 112/197 c:\\Users\\Z0127829\\OneDrive - ZF Friedrichshafen AG\\Desktop\\Arbeit\\Studienarbeit\\intelligente_wildkamera\\src\\evaluation\\..\\..\\.data\\evaluation\\img\\weitere Evaluation\\robustness\\images\\Kamera Httenkirrung Oben (104).png: 480x640 1 fox, 101.8ms\n",
      "image 113/197 c:\\Users\\Z0127829\\OneDrive - ZF Friedrichshafen AG\\Desktop\\Arbeit\\Studienarbeit\\intelligente_wildkamera\\src\\evaluation\\..\\..\\.data\\evaluation\\img\\weitere Evaluation\\robustness\\images\\Kamera Httenkirrung Oben (105).png: 480x640 1 fox, 130.1ms\n",
      "image 114/197 c:\\Users\\Z0127829\\OneDrive - ZF Friedrichshafen AG\\Desktop\\Arbeit\\Studienarbeit\\intelligente_wildkamera\\src\\evaluation\\..\\..\\.data\\evaluation\\img\\weitere Evaluation\\robustness\\images\\Kamera Httenkirrung Oben (12).png: 480x640 1 fox, 110.4ms\n",
      "image 115/197 c:\\Users\\Z0127829\\OneDrive - ZF Friedrichshafen AG\\Desktop\\Arbeit\\Studienarbeit\\intelligente_wildkamera\\src\\evaluation\\..\\..\\.data\\evaluation\\img\\weitere Evaluation\\robustness\\images\\Kamera Httenkirrung Oben (13).png: 480x640 1 fox, 134.0ms\n",
      "image 116/197 c:\\Users\\Z0127829\\OneDrive - ZF Friedrichshafen AG\\Desktop\\Arbeit\\Studienarbeit\\intelligente_wildkamera\\src\\evaluation\\..\\..\\.data\\evaluation\\img\\weitere Evaluation\\robustness\\images\\Kamera Httenkirrung Oben (29).png: 480x640 1 fox, 149.9ms\n",
      "image 117/197 c:\\Users\\Z0127829\\OneDrive - ZF Friedrichshafen AG\\Desktop\\Arbeit\\Studienarbeit\\intelligente_wildkamera\\src\\evaluation\\..\\..\\.data\\evaluation\\img\\weitere Evaluation\\robustness\\images\\Kamera Httenkirrung Oben (3).png: 480x640 1 fox, 126.5ms\n",
      "image 118/197 c:\\Users\\Z0127829\\OneDrive - ZF Friedrichshafen AG\\Desktop\\Arbeit\\Studienarbeit\\intelligente_wildkamera\\src\\evaluation\\..\\..\\.data\\evaluation\\img\\weitere Evaluation\\robustness\\images\\Kamera Httenkirrung Oben (30).png: 480x640 (no detections), 164.6ms\n",
      "image 119/197 c:\\Users\\Z0127829\\OneDrive - ZF Friedrichshafen AG\\Desktop\\Arbeit\\Studienarbeit\\intelligente_wildkamera\\src\\evaluation\\..\\..\\.data\\evaluation\\img\\weitere Evaluation\\robustness\\images\\Kamera Httenkirrung Oben (4).png: 480x640 1 fox, 110.3ms\n",
      "image 120/197 c:\\Users\\Z0127829\\OneDrive - ZF Friedrichshafen AG\\Desktop\\Arbeit\\Studienarbeit\\intelligente_wildkamera\\src\\evaluation\\..\\..\\.data\\evaluation\\img\\weitere Evaluation\\robustness\\images\\Kamera Httenkirrung Oben (50).png: 480x640 1 fox, 129.4ms\n",
      "image 121/197 c:\\Users\\Z0127829\\OneDrive - ZF Friedrichshafen AG\\Desktop\\Arbeit\\Studienarbeit\\intelligente_wildkamera\\src\\evaluation\\..\\..\\.data\\evaluation\\img\\weitere Evaluation\\robustness\\images\\Kamera Httenkirrung Oben (53).png: 480x640 (no detections), 114.2ms\n",
      "image 122/197 c:\\Users\\Z0127829\\OneDrive - ZF Friedrichshafen AG\\Desktop\\Arbeit\\Studienarbeit\\intelligente_wildkamera\\src\\evaluation\\..\\..\\.data\\evaluation\\img\\weitere Evaluation\\robustness\\images\\Kamera Httenkirrung Oben (54).png: 480x640 (no detections), 107.6ms\n",
      "image 123/197 c:\\Users\\Z0127829\\OneDrive - ZF Friedrichshafen AG\\Desktop\\Arbeit\\Studienarbeit\\intelligente_wildkamera\\src\\evaluation\\..\\..\\.data\\evaluation\\img\\weitere Evaluation\\robustness\\images\\Kamera Httenkirrung Oben (58).png: 480x640 1 fox, 128.6ms\n",
      "image 124/197 c:\\Users\\Z0127829\\OneDrive - ZF Friedrichshafen AG\\Desktop\\Arbeit\\Studienarbeit\\intelligente_wildkamera\\src\\evaluation\\..\\..\\.data\\evaluation\\img\\weitere Evaluation\\robustness\\images\\Kamera Httenkirrung Oben (8).png: 480x640 3 wild_boars, 105.0ms\n",
      "image 125/197 c:\\Users\\Z0127829\\OneDrive - ZF Friedrichshafen AG\\Desktop\\Arbeit\\Studienarbeit\\intelligente_wildkamera\\src\\evaluation\\..\\..\\.data\\evaluation\\img\\weitere Evaluation\\robustness\\images\\Kamera Httenkirrung Oben (85).png: 480x640 (no detections), 148.1ms\n",
      "image 126/197 c:\\Users\\Z0127829\\OneDrive - ZF Friedrichshafen AG\\Desktop\\Arbeit\\Studienarbeit\\intelligente_wildkamera\\src\\evaluation\\..\\..\\.data\\evaluation\\img\\weitere Evaluation\\robustness\\images\\Kamera Httenkirrung Oben (86).png: 480x640 (no detections), 111.9ms\n",
      "image 127/197 c:\\Users\\Z0127829\\OneDrive - ZF Friedrichshafen AG\\Desktop\\Arbeit\\Studienarbeit\\intelligente_wildkamera\\src\\evaluation\\..\\..\\.data\\evaluation\\img\\weitere Evaluation\\robustness\\images\\Kamera Httenkirrung Oben (87).png: 480x640 (no detections), 124.2ms\n",
      "image 128/197 c:\\Users\\Z0127829\\OneDrive - ZF Friedrichshafen AG\\Desktop\\Arbeit\\Studienarbeit\\intelligente_wildkamera\\src\\evaluation\\..\\..\\.data\\evaluation\\img\\weitere Evaluation\\robustness\\images\\Kamera Httenkirrung Oben (89).png: 480x640 1 fox, 126.5ms\n",
      "image 129/197 c:\\Users\\Z0127829\\OneDrive - ZF Friedrichshafen AG\\Desktop\\Arbeit\\Studienarbeit\\intelligente_wildkamera\\src\\evaluation\\..\\..\\.data\\evaluation\\img\\weitere Evaluation\\robustness\\images\\Kamera Httenkirrung Oben (9).png: 480x640 1 wild_boar, 1 badger, 107.1ms\n",
      "image 130/197 c:\\Users\\Z0127829\\OneDrive - ZF Friedrichshafen AG\\Desktop\\Arbeit\\Studienarbeit\\intelligente_wildkamera\\src\\evaluation\\..\\..\\.data\\evaluation\\img\\weitere Evaluation\\robustness\\images\\Kamera Httenkirrung Oben (90).png: 480x640 1 fox, 150.7ms\n",
      "image 131/197 c:\\Users\\Z0127829\\OneDrive - ZF Friedrichshafen AG\\Desktop\\Arbeit\\Studienarbeit\\intelligente_wildkamera\\src\\evaluation\\..\\..\\.data\\evaluation\\img\\weitere Evaluation\\robustness\\images\\Kamera Httenkirrung Oben (91).png: 480x640 (no detections), 105.1ms\n",
      "image 132/197 c:\\Users\\Z0127829\\OneDrive - ZF Friedrichshafen AG\\Desktop\\Arbeit\\Studienarbeit\\intelligente_wildkamera\\src\\evaluation\\..\\..\\.data\\evaluation\\img\\weitere Evaluation\\robustness\\images\\Kamera Httenkirrung Oben (92).png: 480x640 1 deer, 125.1ms\n",
      "image 133/197 c:\\Users\\Z0127829\\OneDrive - ZF Friedrichshafen AG\\Desktop\\Arbeit\\Studienarbeit\\intelligente_wildkamera\\src\\evaluation\\..\\..\\.data\\evaluation\\img\\weitere Evaluation\\robustness\\images\\Kamera Httenkirrung Oben (95).png: 480x640 (no detections), 112.9ms\n",
      "image 134/197 c:\\Users\\Z0127829\\OneDrive - ZF Friedrichshafen AG\\Desktop\\Arbeit\\Studienarbeit\\intelligente_wildkamera\\src\\evaluation\\..\\..\\.data\\evaluation\\img\\weitere Evaluation\\robustness\\images\\Kamera Httenkirrung Oben.png: 480x640 (no detections), 120.6ms\n",
      "image 135/197 c:\\Users\\Z0127829\\OneDrive - ZF Friedrichshafen AG\\Desktop\\Arbeit\\Studienarbeit\\intelligente_wildkamera\\src\\evaluation\\..\\..\\.data\\evaluation\\img\\weitere Evaluation\\robustness\\images\\Kamera Kirrung Wasserreservoir (10).png: 480x640 1 fox, 134.1ms\n",
      "image 136/197 c:\\Users\\Z0127829\\OneDrive - ZF Friedrichshafen AG\\Desktop\\Arbeit\\Studienarbeit\\intelligente_wildkamera\\src\\evaluation\\..\\..\\.data\\evaluation\\img\\weitere Evaluation\\robustness\\images\\Kamera Kirrung Wasserreservoir (14).png: 480x640 1 fox, 120.7ms\n",
      "image 137/197 c:\\Users\\Z0127829\\OneDrive - ZF Friedrichshafen AG\\Desktop\\Arbeit\\Studienarbeit\\intelligente_wildkamera\\src\\evaluation\\..\\..\\.data\\evaluation\\img\\weitere Evaluation\\robustness\\images\\Kamera Kirrung Wasserreservoir (15).png: 480x640 1 deer, 160.1ms\n",
      "image 138/197 c:\\Users\\Z0127829\\OneDrive - ZF Friedrichshafen AG\\Desktop\\Arbeit\\Studienarbeit\\intelligente_wildkamera\\src\\evaluation\\..\\..\\.data\\evaluation\\img\\weitere Evaluation\\robustness\\images\\Kamera Kirrung Wasserreservoir (16).png: 480x640 1 deer, 1 fox, 130.1ms\n",
      "image 139/197 c:\\Users\\Z0127829\\OneDrive - ZF Friedrichshafen AG\\Desktop\\Arbeit\\Studienarbeit\\intelligente_wildkamera\\src\\evaluation\\..\\..\\.data\\evaluation\\img\\weitere Evaluation\\robustness\\images\\Kamera Kirrung Wasserreservoir (17).png: 480x640 1 fox, 116.3ms\n",
      "image 140/197 c:\\Users\\Z0127829\\OneDrive - ZF Friedrichshafen AG\\Desktop\\Arbeit\\Studienarbeit\\intelligente_wildkamera\\src\\evaluation\\..\\..\\.data\\evaluation\\img\\weitere Evaluation\\robustness\\images\\Kamera Kirrung Wasserreservoir (206).png: 480x640 (no detections), 222.9ms\n",
      "image 141/197 c:\\Users\\Z0127829\\OneDrive - ZF Friedrichshafen AG\\Desktop\\Arbeit\\Studienarbeit\\intelligente_wildkamera\\src\\evaluation\\..\\..\\.data\\evaluation\\img\\weitere Evaluation\\robustness\\images\\Kamera Kirrung Wasserreservoir (23).png: 480x640 (no detections), 119.1ms\n",
      "image 142/197 c:\\Users\\Z0127829\\OneDrive - ZF Friedrichshafen AG\\Desktop\\Arbeit\\Studienarbeit\\intelligente_wildkamera\\src\\evaluation\\..\\..\\.data\\evaluation\\img\\weitere Evaluation\\robustness\\images\\Kamera Kirrung Wasserreservoir (27).png: 480x640 1 fox, 138.0ms\n",
      "image 143/197 c:\\Users\\Z0127829\\OneDrive - ZF Friedrichshafen AG\\Desktop\\Arbeit\\Studienarbeit\\intelligente_wildkamera\\src\\evaluation\\..\\..\\.data\\evaluation\\img\\weitere Evaluation\\robustness\\images\\Kamera Kirrung Wasserreservoir (7).png: 480x640 1 deer, 136.1ms\n",
      "image 144/197 c:\\Users\\Z0127829\\OneDrive - ZF Friedrichshafen AG\\Desktop\\Arbeit\\Studienarbeit\\intelligente_wildkamera\\src\\evaluation\\..\\..\\.data\\evaluation\\img\\weitere Evaluation\\robustness\\images\\Kamera Kirrung Wasserreservoir (74).png: 480x640 1 wild_boar, 128.5ms\n",
      "image 145/197 c:\\Users\\Z0127829\\OneDrive - ZF Friedrichshafen AG\\Desktop\\Arbeit\\Studienarbeit\\intelligente_wildkamera\\src\\evaluation\\..\\..\\.data\\evaluation\\img\\weitere Evaluation\\robustness\\images\\Kamera Kirrung Wasserreservoir (75).png: 480x640 1 wild_boar, 140.3ms\n",
      "image 146/197 c:\\Users\\Z0127829\\OneDrive - ZF Friedrichshafen AG\\Desktop\\Arbeit\\Studienarbeit\\intelligente_wildkamera\\src\\evaluation\\..\\..\\.data\\evaluation\\img\\weitere Evaluation\\robustness\\images\\Kamera Kirrung Wasserreservoir.png: 480x640 1 wild_boar, 135.1ms\n",
      "image 147/197 c:\\Users\\Z0127829\\OneDrive - ZF Friedrichshafen AG\\Desktop\\Arbeit\\Studienarbeit\\intelligente_wildkamera\\src\\evaluation\\..\\..\\.data\\evaluation\\img\\weitere Evaluation\\robustness\\images\\Kamera Kirrung Zinkentobelbach oben (1).png: 480x640 (no detections), 164.3ms\n",
      "image 148/197 c:\\Users\\Z0127829\\OneDrive - ZF Friedrichshafen AG\\Desktop\\Arbeit\\Studienarbeit\\intelligente_wildkamera\\src\\evaluation\\..\\..\\.data\\evaluation\\img\\weitere Evaluation\\robustness\\images\\Kamera Kirrung Zinkentobelbach oben (10).png: 480x640 1 wild_boar, 528.3ms\n",
      "image 149/197 c:\\Users\\Z0127829\\OneDrive - ZF Friedrichshafen AG\\Desktop\\Arbeit\\Studienarbeit\\intelligente_wildkamera\\src\\evaluation\\..\\..\\.data\\evaluation\\img\\weitere Evaluation\\robustness\\images\\Kamera Kirrung Zinkentobelbach oben (102).png: 480x640 1 deer, 131.1ms\n",
      "image 150/197 c:\\Users\\Z0127829\\OneDrive - ZF Friedrichshafen AG\\Desktop\\Arbeit\\Studienarbeit\\intelligente_wildkamera\\src\\evaluation\\..\\..\\.data\\evaluation\\img\\weitere Evaluation\\robustness\\images\\Kamera Kirrung Zinkentobelbach oben (103).png: 480x640 1 deer, 112.8ms\n",
      "image 151/197 c:\\Users\\Z0127829\\OneDrive - ZF Friedrichshafen AG\\Desktop\\Arbeit\\Studienarbeit\\intelligente_wildkamera\\src\\evaluation\\..\\..\\.data\\evaluation\\img\\weitere Evaluation\\robustness\\images\\Kamera Kirrung Zinkentobelbach oben (106).png: 480x640 (no detections), 115.4ms\n",
      "image 152/197 c:\\Users\\Z0127829\\OneDrive - ZF Friedrichshafen AG\\Desktop\\Arbeit\\Studienarbeit\\intelligente_wildkamera\\src\\evaluation\\..\\..\\.data\\evaluation\\img\\weitere Evaluation\\robustness\\images\\Kamera Kirrung Zinkentobelbach oben (13).png: 480x640 1 badger, 93.9ms\n",
      "image 153/197 c:\\Users\\Z0127829\\OneDrive - ZF Friedrichshafen AG\\Desktop\\Arbeit\\Studienarbeit\\intelligente_wildkamera\\src\\evaluation\\..\\..\\.data\\evaluation\\img\\weitere Evaluation\\robustness\\images\\Kamera Kirrung Zinkentobelbach oben (15).png: 480x640 1 badger, 96.9ms\n",
      "image 154/197 c:\\Users\\Z0127829\\OneDrive - ZF Friedrichshafen AG\\Desktop\\Arbeit\\Studienarbeit\\intelligente_wildkamera\\src\\evaluation\\..\\..\\.data\\evaluation\\img\\weitere Evaluation\\robustness\\images\\Kamera Kirrung Zinkentobelbach oben (18).png: 480x640 1 fox, 96.7ms\n",
      "image 155/197 c:\\Users\\Z0127829\\OneDrive - ZF Friedrichshafen AG\\Desktop\\Arbeit\\Studienarbeit\\intelligente_wildkamera\\src\\evaluation\\..\\..\\.data\\evaluation\\img\\weitere Evaluation\\robustness\\images\\Kamera Kirrung Zinkentobelbach oben (19).png: 480x640 1 wild_boar, 1 badger, 100.4ms\n",
      "image 156/197 c:\\Users\\Z0127829\\OneDrive - ZF Friedrichshafen AG\\Desktop\\Arbeit\\Studienarbeit\\intelligente_wildkamera\\src\\evaluation\\..\\..\\.data\\evaluation\\img\\weitere Evaluation\\robustness\\images\\Kamera Kirrung Zinkentobelbach oben (2).png: 480x640 1 badger, 110.8ms\n",
      "image 157/197 c:\\Users\\Z0127829\\OneDrive - ZF Friedrichshafen AG\\Desktop\\Arbeit\\Studienarbeit\\intelligente_wildkamera\\src\\evaluation\\..\\..\\.data\\evaluation\\img\\weitere Evaluation\\robustness\\images\\Kamera Kirrung Zinkentobelbach oben (20).png: 480x640 1 fox, 105.8ms\n",
      "image 158/197 c:\\Users\\Z0127829\\OneDrive - ZF Friedrichshafen AG\\Desktop\\Arbeit\\Studienarbeit\\intelligente_wildkamera\\src\\evaluation\\..\\..\\.data\\evaluation\\img\\weitere Evaluation\\robustness\\images\\Kamera Kirrung Zinkentobelbach oben (21).png: 480x640 1 wild_boar, 109.1ms\n",
      "image 159/197 c:\\Users\\Z0127829\\OneDrive - ZF Friedrichshafen AG\\Desktop\\Arbeit\\Studienarbeit\\intelligente_wildkamera\\src\\evaluation\\..\\..\\.data\\evaluation\\img\\weitere Evaluation\\robustness\\images\\Kamera Kirrung Zinkentobelbach oben (22).png: 480x640 1 fox, 102.8ms\n",
      "image 160/197 c:\\Users\\Z0127829\\OneDrive - ZF Friedrichshafen AG\\Desktop\\Arbeit\\Studienarbeit\\intelligente_wildkamera\\src\\evaluation\\..\\..\\.data\\evaluation\\img\\weitere Evaluation\\robustness\\images\\Kamera Kirrung Zinkentobelbach oben (24).png: 480x640 1 fox, 115.8ms\n",
      "image 161/197 c:\\Users\\Z0127829\\OneDrive - ZF Friedrichshafen AG\\Desktop\\Arbeit\\Studienarbeit\\intelligente_wildkamera\\src\\evaluation\\..\\..\\.data\\evaluation\\img\\weitere Evaluation\\robustness\\images\\Kamera Kirrung Zinkentobelbach oben (25).png: 480x640 1 deer, 123.9ms\n",
      "image 162/197 c:\\Users\\Z0127829\\OneDrive - ZF Friedrichshafen AG\\Desktop\\Arbeit\\Studienarbeit\\intelligente_wildkamera\\src\\evaluation\\..\\..\\.data\\evaluation\\img\\weitere Evaluation\\robustness\\images\\Kamera Kirrung Zinkentobelbach oben (26).png: 480x640 1 deer, 130.8ms\n",
      "image 163/197 c:\\Users\\Z0127829\\OneDrive - ZF Friedrichshafen AG\\Desktop\\Arbeit\\Studienarbeit\\intelligente_wildkamera\\src\\evaluation\\..\\..\\.data\\evaluation\\img\\weitere Evaluation\\robustness\\images\\Kamera Kirrung Zinkentobelbach oben (31).png: 480x640 (no detections), 126.6ms\n",
      "image 164/197 c:\\Users\\Z0127829\\OneDrive - ZF Friedrichshafen AG\\Desktop\\Arbeit\\Studienarbeit\\intelligente_wildkamera\\src\\evaluation\\..\\..\\.data\\evaluation\\img\\weitere Evaluation\\robustness\\images\\Kamera Kirrung Zinkentobelbach oben (38).png: 480x640 1 fox, 115.1ms\n",
      "image 165/197 c:\\Users\\Z0127829\\OneDrive - ZF Friedrichshafen AG\\Desktop\\Arbeit\\Studienarbeit\\intelligente_wildkamera\\src\\evaluation\\..\\..\\.data\\evaluation\\img\\weitere Evaluation\\robustness\\images\\Kamera Kirrung Zinkentobelbach oben (43).png: 480x640 1 badger, 108.9ms\n",
      "image 166/197 c:\\Users\\Z0127829\\OneDrive - ZF Friedrichshafen AG\\Desktop\\Arbeit\\Studienarbeit\\intelligente_wildkamera\\src\\evaluation\\..\\..\\.data\\evaluation\\img\\weitere Evaluation\\robustness\\images\\Kamera Kirrung Zinkentobelbach oben (46).png: 480x640 1 fox, 109.0ms\n",
      "image 167/197 c:\\Users\\Z0127829\\OneDrive - ZF Friedrichshafen AG\\Desktop\\Arbeit\\Studienarbeit\\intelligente_wildkamera\\src\\evaluation\\..\\..\\.data\\evaluation\\img\\weitere Evaluation\\robustness\\images\\Kamera Kirrung Zinkentobelbach oben (48).png: 480x640 1 fox, 110.1ms\n",
      "image 168/197 c:\\Users\\Z0127829\\OneDrive - ZF Friedrichshafen AG\\Desktop\\Arbeit\\Studienarbeit\\intelligente_wildkamera\\src\\evaluation\\..\\..\\.data\\evaluation\\img\\weitere Evaluation\\robustness\\images\\Kamera Kirrung Zinkentobelbach oben (62).png: 480x640 1 fox, 129.1ms\n",
      "image 169/197 c:\\Users\\Z0127829\\OneDrive - ZF Friedrichshafen AG\\Desktop\\Arbeit\\Studienarbeit\\intelligente_wildkamera\\src\\evaluation\\..\\..\\.data\\evaluation\\img\\weitere Evaluation\\robustness\\images\\Kamera Kirrung Zinkentobelbach oben (69).png: 480x640 1 fox, 129.9ms\n",
      "image 170/197 c:\\Users\\Z0127829\\OneDrive - ZF Friedrichshafen AG\\Desktop\\Arbeit\\Studienarbeit\\intelligente_wildkamera\\src\\evaluation\\..\\..\\.data\\evaluation\\img\\weitere Evaluation\\robustness\\images\\Kamera Kirrung Zinkentobelbach oben (75).png: 480x640 1 badger, 125.7ms\n",
      "image 171/197 c:\\Users\\Z0127829\\OneDrive - ZF Friedrichshafen AG\\Desktop\\Arbeit\\Studienarbeit\\intelligente_wildkamera\\src\\evaluation\\..\\..\\.data\\evaluation\\img\\weitere Evaluation\\robustness\\images\\Kamera Kirrung Zinkentobelbach oben (78).png: 480x640 1 deer, 103.3ms\n",
      "image 172/197 c:\\Users\\Z0127829\\OneDrive - ZF Friedrichshafen AG\\Desktop\\Arbeit\\Studienarbeit\\intelligente_wildkamera\\src\\evaluation\\..\\..\\.data\\evaluation\\img\\weitere Evaluation\\robustness\\images\\Kamera Kirrung Zinkentobelbach oben (82).png: 480x640 1 deer, 110.5ms\n",
      "image 173/197 c:\\Users\\Z0127829\\OneDrive - ZF Friedrichshafen AG\\Desktop\\Arbeit\\Studienarbeit\\intelligente_wildkamera\\src\\evaluation\\..\\..\\.data\\evaluation\\img\\weitere Evaluation\\robustness\\images\\Kamera Kirrung Zinkentobelbach oben (84).png: 480x640 1 badger, 138.7ms\n",
      "image 174/197 c:\\Users\\Z0127829\\OneDrive - ZF Friedrichshafen AG\\Desktop\\Arbeit\\Studienarbeit\\intelligente_wildkamera\\src\\evaluation\\..\\..\\.data\\evaluation\\img\\weitere Evaluation\\robustness\\images\\Kamera Kirrung Zinkentobelbach oben (9).png: 480x640 5 wild_boars, 134.1ms\n",
      "image 175/197 c:\\Users\\Z0127829\\OneDrive - ZF Friedrichshafen AG\\Desktop\\Arbeit\\Studienarbeit\\intelligente_wildkamera\\src\\evaluation\\..\\..\\.data\\evaluation\\img\\weitere Evaluation\\robustness\\images\\Kamera Kirrung Zinkentobelbach oben (96).png: 480x640 1 fox, 114.3ms\n",
      "image 176/197 c:\\Users\\Z0127829\\OneDrive - ZF Friedrichshafen AG\\Desktop\\Arbeit\\Studienarbeit\\intelligente_wildkamera\\src\\evaluation\\..\\..\\.data\\evaluation\\img\\weitere Evaluation\\robustness\\images\\Kamera Kirrung Zinkentobelbach oben (97).png: 480x640 1 fox, 273.1ms\n",
      "image 177/197 c:\\Users\\Z0127829\\OneDrive - ZF Friedrichshafen AG\\Desktop\\Arbeit\\Studienarbeit\\intelligente_wildkamera\\src\\evaluation\\..\\..\\.data\\evaluation\\img\\weitere Evaluation\\robustness\\images\\Kamera Kirrung Zinkentobelbach oben (98).png: 480x640 1 badger, 286.6ms\n",
      "image 178/197 c:\\Users\\Z0127829\\OneDrive - ZF Friedrichshafen AG\\Desktop\\Arbeit\\Studienarbeit\\intelligente_wildkamera\\src\\evaluation\\..\\..\\.data\\evaluation\\img\\weitere Evaluation\\robustness\\images\\Kamera Kirrung Zinkentobelbach oben.png: 480x640 1 fox, 112.2ms\n",
      "image 179/197 c:\\Users\\Z0127829\\OneDrive - ZF Friedrichshafen AG\\Desktop\\Arbeit\\Studienarbeit\\intelligente_wildkamera\\src\\evaluation\\..\\..\\.data\\evaluation\\img\\weitere Evaluation\\robustness\\images\\Kamera httenkirrung Unten (100).png: 480x640 1 fox, 100.4ms\n",
      "image 180/197 c:\\Users\\Z0127829\\OneDrive - ZF Friedrichshafen AG\\Desktop\\Arbeit\\Studienarbeit\\intelligente_wildkamera\\src\\evaluation\\..\\..\\.data\\evaluation\\img\\weitere Evaluation\\robustness\\images\\Kamera httenkirrung Unten (11).png: 480x640 (no detections), 111.6ms\n",
      "image 181/197 c:\\Users\\Z0127829\\OneDrive - ZF Friedrichshafen AG\\Desktop\\Arbeit\\Studienarbeit\\intelligente_wildkamera\\src\\evaluation\\..\\..\\.data\\evaluation\\img\\weitere Evaluation\\robustness\\images\\Kamera httenkirrung Unten (31).png: 480x640 (no detections), 120.3ms\n",
      "image 182/197 c:\\Users\\Z0127829\\OneDrive - ZF Friedrichshafen AG\\Desktop\\Arbeit\\Studienarbeit\\intelligente_wildkamera\\src\\evaluation\\..\\..\\.data\\evaluation\\img\\weitere Evaluation\\robustness\\images\\Kamera httenkirrung Unten (37).png: 480x640 1 badger, 109.1ms\n",
      "image 183/197 c:\\Users\\Z0127829\\OneDrive - ZF Friedrichshafen AG\\Desktop\\Arbeit\\Studienarbeit\\intelligente_wildkamera\\src\\evaluation\\..\\..\\.data\\evaluation\\img\\weitere Evaluation\\robustness\\images\\Kamera httenkirrung Unten (5).png: 480x640 1 wild_boar, 1 fox, 121.4ms\n",
      "image 184/197 c:\\Users\\Z0127829\\OneDrive - ZF Friedrichshafen AG\\Desktop\\Arbeit\\Studienarbeit\\intelligente_wildkamera\\src\\evaluation\\..\\..\\.data\\evaluation\\img\\weitere Evaluation\\robustness\\images\\Kamera httenkirrung Unten (6).png: 480x640 6 wild_boars, 112.0ms\n",
      "image 185/197 c:\\Users\\Z0127829\\OneDrive - ZF Friedrichshafen AG\\Desktop\\Arbeit\\Studienarbeit\\intelligente_wildkamera\\src\\evaluation\\..\\..\\.data\\evaluation\\img\\weitere Evaluation\\robustness\\images\\Kamera httenkirrung Unten (7).png: 480x640 1 wild_boar, 108.8ms\n",
      "image 186/197 c:\\Users\\Z0127829\\OneDrive - ZF Friedrichshafen AG\\Desktop\\Arbeit\\Studienarbeit\\intelligente_wildkamera\\src\\evaluation\\..\\..\\.data\\evaluation\\img\\weitere Evaluation\\robustness\\images\\Kamera httenkirrung Unten (93).png: 480x640 1 fox, 107.1ms\n",
      "image 187/197 c:\\Users\\Z0127829\\OneDrive - ZF Friedrichshafen AG\\Desktop\\Arbeit\\Studienarbeit\\intelligente_wildkamera\\src\\evaluation\\..\\..\\.data\\evaluation\\img\\weitere Evaluation\\robustness\\images\\Kamera httenkirrung Unten (99).png: 480x640 1 fox, 108.4ms\n",
      "image 188/197 c:\\Users\\Z0127829\\OneDrive - ZF Friedrichshafen AG\\Desktop\\Arbeit\\Studienarbeit\\intelligente_wildkamera\\src\\evaluation\\..\\..\\.data\\evaluation\\img\\weitere Evaluation\\robustness\\images\\Kamera httenkirrung Unten.png: 480x640 (no detections), 110.3ms\n",
      "image 189/197 c:\\Users\\Z0127829\\OneDrive - ZF Friedrichshafen AG\\Desktop\\Arbeit\\Studienarbeit\\intelligente_wildkamera\\src\\evaluation\\..\\..\\.data\\evaluation\\img\\weitere Evaluation\\robustness\\images\\d15937s16i1.jpg: 480x640 1 deer, 112.1ms\n",
      "image 190/197 c:\\Users\\Z0127829\\OneDrive - ZF Friedrichshafen AG\\Desktop\\Arbeit\\Studienarbeit\\intelligente_wildkamera\\src\\evaluation\\..\\..\\.data\\evaluation\\img\\weitere Evaluation\\robustness\\images\\d15939s3i14.jpg: 480x640 2 wild_boars, 107.7ms\n",
      "image 191/197 c:\\Users\\Z0127829\\OneDrive - ZF Friedrichshafen AG\\Desktop\\Arbeit\\Studienarbeit\\intelligente_wildkamera\\src\\evaluation\\..\\..\\.data\\evaluation\\img\\weitere Evaluation\\robustness\\images\\d39129s18i10.jpg: 480x640 1 fox, 93.4ms\n",
      "image 192/197 c:\\Users\\Z0127829\\OneDrive - ZF Friedrichshafen AG\\Desktop\\Arbeit\\Studienarbeit\\intelligente_wildkamera\\src\\evaluation\\..\\..\\.data\\evaluation\\img\\weitere Evaluation\\robustness\\images\\d41254s23i3.jpg: 480x640 1 wild_boar, 102.1ms\n",
      "image 193/197 c:\\Users\\Z0127829\\OneDrive - ZF Friedrichshafen AG\\Desktop\\Arbeit\\Studienarbeit\\intelligente_wildkamera\\src\\evaluation\\..\\..\\.data\\evaluation\\img\\weitere Evaluation\\robustness\\images\\d45959s37i157.jpg: 480x640 1 wild_boar, 91.7ms\n",
      "image 194/197 c:\\Users\\Z0127829\\OneDrive - ZF Friedrichshafen AG\\Desktop\\Arbeit\\Studienarbeit\\intelligente_wildkamera\\src\\evaluation\\..\\..\\.data\\evaluation\\img\\weitere Evaluation\\robustness\\images\\d45959s56i213.jpg: 480x640 1 wild_boar, 146.3ms\n",
      "image 195/197 c:\\Users\\Z0127829\\OneDrive - ZF Friedrichshafen AG\\Desktop\\Arbeit\\Studienarbeit\\intelligente_wildkamera\\src\\evaluation\\..\\..\\.data\\evaluation\\img\\weitere Evaluation\\robustness\\images\\d57580s89i1.jpg: 480x640 (no detections), 119.7ms\n",
      "image 196/197 c:\\Users\\Z0127829\\OneDrive - ZF Friedrichshafen AG\\Desktop\\Arbeit\\Studienarbeit\\intelligente_wildkamera\\src\\evaluation\\..\\..\\.data\\evaluation\\img\\weitere Evaluation\\robustness\\images\\d65050s25i19.jpg: 480x640 1 wild_boar, 1 fox, 115.1ms\n",
      "image 197/197 c:\\Users\\Z0127829\\OneDrive - ZF Friedrichshafen AG\\Desktop\\Arbeit\\Studienarbeit\\intelligente_wildkamera\\src\\evaluation\\..\\..\\.data\\evaluation\\img\\weitere Evaluation\\robustness\\images\\dog_1.jpg: 640x448 1 deer, 137.1ms\n",
      "Speed: 5.3ms preprocess, 121.6ms inference, 1.4ms postprocess per image at shape (1, 3, 640, 448)\n",
      "Results saved to \u001b[1mc:\\Users\\Z0127829\\OneDrive - ZF Friedrichshafen AG\\Desktop\\Arbeit\\Studienarbeit\\intelligente_wildkamera\\runs\\detect\\predict3\u001b[0m\n"
     ]
    }
   ],
   "source": [
    "path_test = \"./../../.data/evaluation/img/weitere Evaluation/robustness/images\"\n",
    "results = model.predict(source=path_test, save=True, conf=0.2)"
   ]
  }
 ],
 "metadata": {
  "kernelspec": {
   "display_name": ".venv",
   "language": "python",
   "name": "python3"
  },
  "language_info": {
   "codemirror_mode": {
    "name": "ipython",
    "version": 3
   },
   "file_extension": ".py",
   "mimetype": "text/x-python",
   "name": "python",
   "nbconvert_exporter": "python",
   "pygments_lexer": "ipython3",
   "version": "3.12.3"
  }
 },
 "nbformat": 4,
 "nbformat_minor": 2
}
