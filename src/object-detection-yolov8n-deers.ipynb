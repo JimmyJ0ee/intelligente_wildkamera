{
 "cells": [
  {
   "cell_type": "markdown",
   "metadata": {},
   "source": [
    "# Train model"
   ]
  },
  {
   "cell_type": "code",
   "execution_count": 3,
   "metadata": {
    "_kg_hide-output": true,
    "execution": {
     "iopub.status.idle": "2024-12-14T08:39:49.686530Z",
     "shell.execute_reply": "2024-12-14T08:39:49.685689Z",
     "shell.execute_reply.started": "2024-12-14T08:39:41.548229Z"
    },
    "scrolled": true,
    "trusted": true
   },
   "outputs": [],
   "source": [
    "!pip install ultralytics"
   ]
  },
  {
   "cell_type": "code",
   "execution_count": 4,
   "metadata": {
    "execution": {
     "iopub.execute_input": "2024-12-14T08:39:49.688567Z",
     "iopub.status.busy": "2024-12-14T08:39:49.688266Z",
     "iopub.status.idle": "2024-12-14T08:39:53.244646Z",
     "shell.execute_reply": "2024-12-14T08:39:53.243878Z",
     "shell.execute_reply.started": "2024-12-14T08:39:49.688536Z"
    },
    "trusted": true
   },
   "outputs": [
    {
     "name": "stdout",
     "output_type": "stream",
     "text": [
      "Creating new Ultralytics Settings v0.0.6 file ✅ \n",
      "View Ultralytics Settings with 'yolo settings' or at '/root/.config/Ultralytics/settings.json'\n",
      "Update Settings with 'yolo settings key=value', i.e. 'yolo settings runs_dir=path/to/dir'. For help see https://docs.ultralytics.com/quickstart/#ultralytics-settings.\n"
     ]
    }
   ],
   "source": [
    "from ultralytics import YOLO\n",
    "# from datetime import datetime"
   ]
  },
  {
   "cell_type": "markdown",
   "metadata": {},
   "source": [
    "## Pre-Processing"
   ]
  },
  {
   "cell_type": "markdown",
   "metadata": {},
   "source": [
    "# Modell trainieren"
   ]
  },
  {
   "cell_type": "code",
   "execution_count": null,
   "metadata": {
    "_kg_hide-input": false,
    "execution": {
     "iopub.execute_input": "2024-12-14T08:41:27.947869Z",
     "iopub.status.busy": "2024-12-14T08:41:27.947514Z"
    },
    "scrolled": true,
    "trusted": true
   },
   "outputs": [
    {
     "name": "stdout",
     "output_type": "stream",
     "text": [
      "YOLO11s summary: 319 layers, 9,458,752 parameters, 0 gradients, 21.7 GFLOPs\n",
      "Ultralytics 8.3.49 🚀 Python-3.10.14 torch-2.4.0 CUDA:0 (Tesla P100-PCIE-16GB, 16269MiB)\n",
      "\u001b[34m\u001b[1mengine/trainer: \u001b[0mtask=detect, mode=train, model=yolo11s.pt, data=/kaggle/input/data-4animals/data.yaml, epochs=200, time=29.5, patience=5, batch=16, imgsz=640, save=True, save_period=-1, cache=False, device=None, workers=16, project=None, name=train2, exist_ok=False, pretrained=True, optimizer=auto, verbose=True, seed=0, deterministic=True, single_cls=False, rect=False, cos_lr=False, close_mosaic=10, resume=False, amp=True, fraction=1.0, profile=False, freeze=None, multi_scale=False, overlap_mask=True, mask_ratio=4, dropout=0.2, val=True, split=val, save_json=False, save_hybrid=False, conf=None, iou=0.7, max_det=300, half=False, dnn=False, plots=True, source=None, vid_stride=1, stream_buffer=False, visualize=False, augment=False, agnostic_nms=False, classes=None, retina_masks=False, embed=None, show=False, save_frames=False, save_txt=False, save_conf=False, save_crop=False, show_labels=True, show_conf=True, show_boxes=True, line_width=None, format=torchscript, keras=False, optimize=False, int8=False, dynamic=False, simplify=True, opset=None, workspace=None, nms=False, lr0=0.01, lrf=0.01, momentum=0.937, weight_decay=0.0005, warmup_epochs=3.0, warmup_momentum=0.8, warmup_bias_lr=0.1, box=7.5, cls=0.5, dfl=1.5, pose=12.0, kobj=1.0, nbs=64, hsv_h=0.015, hsv_s=0.7, hsv_v=0.4, degrees=0.0, translate=0.1, scale=0.5, shear=0.0, perspective=0.0, flipud=0.0, fliplr=0.5, bgr=0.0, mosaic=1.0, mixup=0.0, copy_paste=0.0, copy_paste_mode=flip, auto_augment=randaugment, erasing=0.4, crop_fraction=1.0, cfg=None, tracker=botsort.yaml, save_dir=runs/detect/train2\n",
      "Overriding model.yaml nc=80 with nc=4\n",
      "\n",
      "                   from  n    params  module                                       arguments                     \n",
      "  0                  -1  1       928  ultralytics.nn.modules.conv.Conv             [3, 32, 3, 2]                 \n",
      "  1                  -1  1     18560  ultralytics.nn.modules.conv.Conv             [32, 64, 3, 2]                \n",
      "  2                  -1  1     26080  ultralytics.nn.modules.block.C3k2            [64, 128, 1, False, 0.25]     \n",
      "  3                  -1  1    147712  ultralytics.nn.modules.conv.Conv             [128, 128, 3, 2]              \n",
      "  4                  -1  1    103360  ultralytics.nn.modules.block.C3k2            [128, 256, 1, False, 0.25]    \n",
      "  5                  -1  1    590336  ultralytics.nn.modules.conv.Conv             [256, 256, 3, 2]              \n",
      "  6                  -1  1    346112  ultralytics.nn.modules.block.C3k2            [256, 256, 1, True]           \n",
      "  7                  -1  1   1180672  ultralytics.nn.modules.conv.Conv             [256, 512, 3, 2]              \n",
      "  8                  -1  1   1380352  ultralytics.nn.modules.block.C3k2            [512, 512, 1, True]           \n",
      "  9                  -1  1    656896  ultralytics.nn.modules.block.SPPF            [512, 512, 5]                 \n",
      " 10                  -1  1    990976  ultralytics.nn.modules.block.C2PSA           [512, 512, 1]                 \n",
      " 11                  -1  1         0  torch.nn.modules.upsampling.Upsample         [None, 2, 'nearest']          \n",
      " 12             [-1, 6]  1         0  ultralytics.nn.modules.conv.Concat           [1]                           \n",
      " 13                  -1  1    443776  ultralytics.nn.modules.block.C3k2            [768, 256, 1, False]          \n",
      " 14                  -1  1         0  torch.nn.modules.upsampling.Upsample         [None, 2, 'nearest']          \n",
      " 15             [-1, 4]  1         0  ultralytics.nn.modules.conv.Concat           [1]                           \n",
      " 16                  -1  1    127680  ultralytics.nn.modules.block.C3k2            [512, 128, 1, False]          \n",
      " 17                  -1  1    147712  ultralytics.nn.modules.conv.Conv             [128, 128, 3, 2]              \n",
      " 18            [-1, 13]  1         0  ultralytics.nn.modules.conv.Concat           [1]                           \n",
      " 19                  -1  1    345472  ultralytics.nn.modules.block.C3k2            [384, 256, 1, False]          \n",
      " 20                  -1  1    590336  ultralytics.nn.modules.conv.Conv             [256, 256, 3, 2]              \n",
      " 21            [-1, 10]  1         0  ultralytics.nn.modules.conv.Concat           [1]                           \n",
      " 22                  -1  1   1511424  ultralytics.nn.modules.block.C3k2            [768, 512, 1, True]           \n",
      " 23        [16, 19, 22]  1    820956  ultralytics.nn.modules.head.Detect           [4, [128, 256, 512]]          \n",
      "YOLO11s summary: 319 layers, 9,429,340 parameters, 9,429,324 gradients, 21.6 GFLOPs\n",
      "\n",
      "Transferred 493/499 items from pretrained weights\n",
      "\u001b[34m\u001b[1mTensorBoard: \u001b[0mStart with 'tensorboard --logdir runs/detect/train2', view at http://localhost:6006/\n",
      "Freezing layer 'model.23.dfl.conv.weight'\n",
      "\u001b[34m\u001b[1mAMP: \u001b[0mrunning Automatic Mixed Precision (AMP) checks...\n",
      "\u001b[34m\u001b[1mAMP: \u001b[0mchecks passed ✅\n"
     ]
    },
    {
     "name": "stderr",
     "output_type": "stream",
     "text": [
      "\u001b[34m\u001b[1mtrain: \u001b[0mScanning /kaggle/input/data-4animals/data/data/train/labels... 11650 images, 1530 backgrounds, 6 corrupt: 100%|██████████| 13186/13186 [00:25<00:00, 524.88it/s]"
     ]
    },
    {
     "name": "stdout",
     "output_type": "stream",
     "text": [
      "\u001b[34m\u001b[1mtrain: \u001b[0mWARNING ⚠️ /kaggle/input/data-4animals/data/data/train/images/0c4fd22b-de9d-46ba-b462-924f6d8dbf75.JPG: ignoring corrupt image/label: cannot identify image file '/kaggle/input/data-4animals/data/data/train/images/0c4fd22b-de9d-46ba-b462-924f6d8dbf75.JPG'\n",
      "\u001b[34m\u001b[1mtrain: \u001b[0mWARNING ⚠️ /kaggle/input/data-4animals/data/data/train/images/34bcd224-b844-46c5-8c21-8085a2a45d99.JPG: ignoring corrupt image/label: cannot identify image file '/kaggle/input/data-4animals/data/data/train/images/34bcd224-b844-46c5-8c21-8085a2a45d99.JPG'\n",
      "\u001b[34m\u001b[1mtrain: \u001b[0mWARNING ⚠️ /kaggle/input/data-4animals/data/data/train/images/45438c68-d122-4d9d-a498-41752122faaa.JPG: ignoring corrupt image/label: cannot identify image file '/kaggle/input/data-4animals/data/data/train/images/45438c68-d122-4d9d-a498-41752122faaa.JPG'\n",
      "\u001b[34m\u001b[1mtrain: \u001b[0mWARNING ⚠️ /kaggle/input/data-4animals/data/data/train/images/5f45661c-fe9a-4e36-97a9-e77df7e6a56d.JPG: ignoring corrupt image/label: cannot identify image file '/kaggle/input/data-4animals/data/data/train/images/5f45661c-fe9a-4e36-97a9-e77df7e6a56d.JPG'\n",
      "\u001b[34m\u001b[1mtrain: \u001b[0mWARNING ⚠️ /kaggle/input/data-4animals/data/data/train/images/96dc9b15-50a3-41de-b04c-bfe270dfacb6.JPG: ignoring corrupt image/label: cannot identify image file '/kaggle/input/data-4animals/data/data/train/images/96dc9b15-50a3-41de-b04c-bfe270dfacb6.JPG'\n",
      "\u001b[34m\u001b[1mtrain: \u001b[0mWARNING ⚠️ /kaggle/input/data-4animals/data/data/train/images/fe8dfa93-87c5-45c4-bede-2f2c6ef19e36.JPG: ignoring corrupt image/label: cannot identify image file '/kaggle/input/data-4animals/data/data/train/images/fe8dfa93-87c5-45c4-bede-2f2c6ef19e36.JPG'\n"
     ]
    },
    {
     "name": "stderr",
     "output_type": "stream",
     "text": [
      "\n"
     ]
    },
    {
     "name": "stdout",
     "output_type": "stream",
     "text": [
      "\u001b[34m\u001b[1mtrain: \u001b[0mWARNING ⚠️ Cache directory /kaggle/input/data-4animals/data/data/train is not writeable, cache not saved.\n",
      "\u001b[34m\u001b[1malbumentations: \u001b[0mBlur(p=0.01, blur_limit=(3, 7)), MedianBlur(p=0.01, blur_limit=(3, 7)), ToGray(p=0.01, num_output_channels=3, method='weighted_average'), CLAHE(p=0.01, clip_limit=(1, 4.0), tile_grid_size=(8, 8))\n"
     ]
    },
    {
     "name": "stderr",
     "output_type": "stream",
     "text": [
      "/opt/conda/lib/python3.10/site-packages/albumentations/__init__.py:13: UserWarning: A new version of Albumentations is available: 1.4.22 (you have 1.4.17). Upgrade using: pip install -U albumentations. To disable automatic update checks, set the environment variable NO_ALBUMENTATIONS_UPDATE to 1.\n",
      "  check_for_updates()\n",
      "/opt/conda/lib/python3.10/multiprocessing/popen_fork.py:66: RuntimeWarning: os.fork() was called. os.fork() is incompatible with multithreaded code, and JAX is multithreaded, so this will likely lead to a deadlock.\n",
      "  self.pid = os.fork()\n",
      "\u001b[34m\u001b[1mval: \u001b[0mScanning /kaggle/input/data-4animals/data/data/validation/labels... 693 images, 127 backgrounds, 0 corrupt: 100%|██████████| 820/820 [00:05<00:00, 145.18it/s]\n"
     ]
    },
    {
     "name": "stdout",
     "output_type": "stream",
     "text": [
      "\u001b[34m\u001b[1mval: \u001b[0mWARNING ⚠️ Cache directory /kaggle/input/data-4animals/data/data/validation is not writeable, cache not saved.\n",
      "Plotting labels to runs/detect/train2/labels.jpg... \n",
      "\u001b[34m\u001b[1moptimizer:\u001b[0m 'optimizer=auto' found, ignoring 'lr0=0.01' and 'momentum=0.937' and determining best 'optimizer', 'lr0' and 'momentum' automatically... \n",
      "\u001b[34m\u001b[1moptimizer:\u001b[0m SGD(lr=0.01, momentum=0.9) with parameter groups 81 weight(decay=0.0), 88 weight(decay=0.0005), 87 bias(decay=0.0)\n",
      "\u001b[34m\u001b[1mTensorBoard: \u001b[0mmodel graph visualization added ✅\n",
      "Image sizes 640 train, 640 val\n",
      "Using 4 dataloader workers\n",
      "Logging results to \u001b[1mruns/detect/train2\u001b[0m\n",
      "Starting training for 29.5 hours...\n",
      "\n",
      "      Epoch    GPU_mem   box_loss   cls_loss   dfl_loss  Instances       Size\n"
     ]
    },
    {
     "name": "stderr",
     "output_type": "stream",
     "text": [
      "      1/200      4.82G     0.8207      1.549      1.126         19        640: 100%|██████████| 824/824 [08:59<00:00,  1.53it/s]\n",
      "                 Class     Images  Instances      Box(P          R      mAP50  mAP50-95): 100%|██████████| 26/26 [00:24<00:00,  1.04it/s]"
     ]
    },
    {
     "name": "stdout",
     "output_type": "stream",
     "text": [
      "                   all        820        714      0.771      0.743      0.779      0.664\n"
     ]
    },
    {
     "name": "stderr",
     "output_type": "stream",
     "text": [
      "\n"
     ]
    },
    {
     "name": "stdout",
     "output_type": "stream",
     "text": [
      "\n",
      "      Epoch    GPU_mem   box_loss   cls_loss   dfl_loss  Instances       Size\n"
     ]
    },
    {
     "name": "stderr",
     "output_type": "stream",
     "text": [
      "      2/186      4.85G      0.824     0.9463      1.108         27        640: 100%|██████████| 824/824 [08:39<00:00,  1.59it/s]\n",
      "                 Class     Images  Instances      Box(P          R      mAP50  mAP50-95): 100%|██████████| 26/26 [00:24<00:00,  1.06it/s]"
     ]
    },
    {
     "name": "stdout",
     "output_type": "stream",
     "text": [
      "                   all        820        714      0.811      0.661      0.751      0.609\n"
     ]
    },
    {
     "name": "stderr",
     "output_type": "stream",
     "text": [
      "\n"
     ]
    },
    {
     "name": "stdout",
     "output_type": "stream",
     "text": [
      "\n",
      "      Epoch    GPU_mem   box_loss   cls_loss   dfl_loss  Instances       Size\n"
     ]
    },
    {
     "name": "stderr",
     "output_type": "stream",
     "text": [
      "      3/190      4.87G     0.9599      1.109      1.175         21        640: 100%|██████████| 824/824 [08:29<00:00,  1.62it/s]\n",
      "                 Class     Images  Instances      Box(P          R      mAP50  mAP50-95): 100%|██████████| 26/26 [00:23<00:00,  1.11it/s]\n"
     ]
    },
    {
     "name": "stdout",
     "output_type": "stream",
     "text": [
      "                   all        820        714       0.55      0.469      0.464      0.336\n",
      "\n",
      "      Epoch    GPU_mem   box_loss   cls_loss   dfl_loss  Instances       Size\n"
     ]
    },
    {
     "name": "stderr",
     "output_type": "stream",
     "text": [
      "      4/193      4.75G      1.031      1.188      1.215         24        640: 100%|██████████| 824/824 [08:20<00:00,  1.65it/s]\n",
      "                 Class     Images  Instances      Box(P          R      mAP50  mAP50-95): 100%|██████████| 26/26 [00:23<00:00,  1.11it/s]"
     ]
    },
    {
     "name": "stdout",
     "output_type": "stream",
     "text": [
      "                   all        820        714      0.817       0.64      0.745      0.586\n"
     ]
    },
    {
     "name": "stderr",
     "output_type": "stream",
     "text": [
      "\n"
     ]
    },
    {
     "name": "stdout",
     "output_type": "stream",
     "text": [
      "\n",
      "      Epoch    GPU_mem   box_loss   cls_loss   dfl_loss  Instances       Size\n"
     ]
    },
    {
     "name": "stderr",
     "output_type": "stream",
     "text": [
      "      5/196      4.74G     0.9592      1.054      1.172         17        640: 100%|██████████| 824/824 [08:30<00:00,  1.61it/s]\n",
      "                 Class     Images  Instances      Box(P          R      mAP50  mAP50-95): 100%|██████████| 26/26 [00:24<00:00,  1.08it/s]"
     ]
    },
    {
     "name": "stdout",
     "output_type": "stream",
     "text": [
      "                   all        820        714      0.834      0.742      0.836      0.671\n"
     ]
    },
    {
     "name": "stderr",
     "output_type": "stream",
     "text": [
      "\n"
     ]
    },
    {
     "name": "stdout",
     "output_type": "stream",
     "text": [
      "\n",
      "      Epoch    GPU_mem   box_loss   cls_loss   dfl_loss  Instances       Size\n"
     ]
    },
    {
     "name": "stderr",
     "output_type": "stream",
     "text": [
      "      6/196      4.74G     0.9192      0.973       1.15         18        640: 100%|██████████| 824/824 [08:22<00:00,  1.64it/s]\n",
      "                 Class     Images  Instances      Box(P          R      mAP50  mAP50-95): 100%|██████████| 26/26 [00:23<00:00,  1.10it/s]"
     ]
    },
    {
     "name": "stdout",
     "output_type": "stream",
     "text": [
      "                   all        820        714      0.807      0.715      0.818      0.662\n"
     ]
    },
    {
     "name": "stderr",
     "output_type": "stream",
     "text": [
      "\n"
     ]
    },
    {
     "name": "stdout",
     "output_type": "stream",
     "text": [
      "\n",
      "      Epoch    GPU_mem   box_loss   cls_loss   dfl_loss  Instances       Size\n"
     ]
    },
    {
     "name": "stderr",
     "output_type": "stream",
     "text": [
      "      7/197      4.74G     0.8793     0.9022      1.129         23        640: 100%|██████████| 824/824 [08:32<00:00,  1.61it/s]\n",
      "                 Class     Images  Instances      Box(P          R      mAP50  mAP50-95): 100%|██████████| 26/26 [00:24<00:00,  1.08it/s]"
     ]
    },
    {
     "name": "stdout",
     "output_type": "stream",
     "text": [
      "                   all        820        714      0.874      0.846      0.913       0.77\n"
     ]
    },
    {
     "name": "stderr",
     "output_type": "stream",
     "text": [
      "\n"
     ]
    },
    {
     "name": "stdout",
     "output_type": "stream",
     "text": [
      "\n",
      "      Epoch    GPU_mem   box_loss   cls_loss   dfl_loss  Instances       Size\n"
     ]
    },
    {
     "name": "stderr",
     "output_type": "stream",
     "text": [
      "      8/197      4.74G     0.8526     0.8525      1.115          9        640: 100%|██████████| 824/824 [08:13<00:00,  1.67it/s]\n",
      "                 Class     Images  Instances      Box(P          R      mAP50  mAP50-95): 100%|██████████| 26/26 [00:23<00:00,  1.13it/s]"
     ]
    },
    {
     "name": "stdout",
     "output_type": "stream",
     "text": [
      "                   all        820        714      0.838      0.851      0.903      0.749\n"
     ]
    },
    {
     "name": "stderr",
     "output_type": "stream",
     "text": [
      "\n"
     ]
    },
    {
     "name": "stdout",
     "output_type": "stream",
     "text": [
      "\n",
      "      Epoch    GPU_mem   box_loss   cls_loss   dfl_loss  Instances       Size\n"
     ]
    },
    {
     "name": "stderr",
     "output_type": "stream",
     "text": [
      "      9/198      4.74G     0.8289     0.8268      1.105         17        640: 100%|██████████| 824/824 [08:05<00:00,  1.70it/s]\n",
      "                 Class     Images  Instances      Box(P          R      mAP50  mAP50-95): 100%|██████████| 26/26 [00:23<00:00,  1.10it/s]"
     ]
    },
    {
     "name": "stdout",
     "output_type": "stream",
     "text": [
      "                   all        820        714      0.909      0.871      0.932      0.796\n"
     ]
    },
    {
     "name": "stderr",
     "output_type": "stream",
     "text": [
      "\n"
     ]
    },
    {
     "name": "stdout",
     "output_type": "stream",
     "text": [
      "\n",
      "      Epoch    GPU_mem   box_loss   cls_loss   dfl_loss  Instances       Size\n"
     ]
    },
    {
     "name": "stderr",
     "output_type": "stream",
     "text": [
      "     10/199      4.74G     0.8319      0.815      1.106         29        640:  32%|███▏      | 263/824 [02:41<04:35,  2.04it/s]IOPub message rate exceeded.\n",
      "The notebook server will temporarily stop sending output\n",
      "to the client in order to avoid crashing it.\n",
      "To change this limit, set the config variable\n",
      "`--NotebookApp.iopub_msg_rate_limit`.\n",
      "\n",
      "Current values:\n",
      "NotebookApp.iopub_msg_rate_limit=1000.0 (msgs/sec)\n",
      "NotebookApp.rate_limit_window=3.0 (secs)\n",
      "\n",
      "     11/200      4.74G     0.7913     0.7596      1.081         23        640: 100%|██████████| 824/824 [08:49<00:00,  1.56it/s]\n",
      "                 Class     Images  Instances      Box(P          R      mAP50  mAP50-95): 100%|██████████| 26/26 [00:23<00:00,  1.10it/s]"
     ]
    },
    {
     "name": "stdout",
     "output_type": "stream",
     "text": [
      "                   all        820        714      0.916      0.856      0.938      0.816\n"
     ]
    },
    {
     "name": "stderr",
     "output_type": "stream",
     "text": [
      "\n"
     ]
    },
    {
     "name": "stdout",
     "output_type": "stream",
     "text": [
      "\n",
      "      Epoch    GPU_mem   box_loss   cls_loss   dfl_loss  Instances       Size\n"
     ]
    },
    {
     "name": "stderr",
     "output_type": "stream",
     "text": [
      "     12/199      4.74G     0.7774     0.7399       1.07         17        640: 100%|██████████| 824/824 [08:43<00:00,  1.57it/s]\n",
      "                 Class     Images  Instances      Box(P          R      mAP50  mAP50-95): 100%|██████████| 26/26 [00:24<00:00,  1.06it/s]"
     ]
    },
    {
     "name": "stdout",
     "output_type": "stream",
     "text": [
      "                   all        820        714      0.878      0.915      0.943      0.813\n"
     ]
    },
    {
     "name": "stderr",
     "output_type": "stream",
     "text": [
      "\n"
     ]
    },
    {
     "name": "stdout",
     "output_type": "stream",
     "text": [
      "\n",
      "      Epoch    GPU_mem   box_loss   cls_loss   dfl_loss  Instances       Size\n"
     ]
    },
    {
     "name": "stderr",
     "output_type": "stream",
     "text": [
      "     13/199      4.74G     0.7669     0.7282      1.068         21        640: 100%|██████████| 824/824 [08:39<00:00,  1.59it/s]\n",
      "                 Class     Images  Instances      Box(P          R      mAP50  mAP50-95): 100%|██████████| 26/26 [00:24<00:00,  1.08it/s]"
     ]
    },
    {
     "name": "stdout",
     "output_type": "stream",
     "text": [
      "                   all        820        714      0.863      0.884      0.936      0.822\n"
     ]
    },
    {
     "name": "stderr",
     "output_type": "stream",
     "text": [
      "\n"
     ]
    },
    {
     "name": "stdout",
     "output_type": "stream",
     "text": [
      "\n",
      "      Epoch    GPU_mem   box_loss   cls_loss   dfl_loss  Instances       Size\n"
     ]
    },
    {
     "name": "stderr",
     "output_type": "stream",
     "text": [
      "     14/198      4.74G     0.7487     0.6986      1.056         23        640: 100%|██████████| 824/824 [08:31<00:00,  1.61it/s]\n",
      "                 Class     Images  Instances      Box(P          R      mAP50  mAP50-95): 100%|██████████| 26/26 [00:24<00:00,  1.07it/s]"
     ]
    },
    {
     "name": "stdout",
     "output_type": "stream",
     "text": [
      "                   all        820        714      0.946      0.905      0.969      0.854\n"
     ]
    },
    {
     "name": "stderr",
     "output_type": "stream",
     "text": [
      "\n"
     ]
    },
    {
     "name": "stdout",
     "output_type": "stream",
     "text": [
      "\n",
      "      Epoch    GPU_mem   box_loss   cls_loss   dfl_loss  Instances       Size\n"
     ]
    },
    {
     "name": "stderr",
     "output_type": "stream",
     "text": [
      "     15/198      4.74G     0.7401     0.6894      1.054         23        640: 100%|██████████| 824/824 [08:30<00:00,  1.61it/s]\n",
      "                 Class     Images  Instances      Box(P          R      mAP50  mAP50-95): 100%|██████████| 26/26 [00:23<00:00,  1.09it/s]"
     ]
    },
    {
     "name": "stdout",
     "output_type": "stream",
     "text": [
      "                   all        820        714      0.905      0.917      0.965      0.854\n"
     ]
    },
    {
     "name": "stderr",
     "output_type": "stream",
     "text": [
      "\n"
     ]
    },
    {
     "name": "stdout",
     "output_type": "stream",
     "text": [
      "\n",
      "      Epoch    GPU_mem   box_loss   cls_loss   dfl_loss  Instances       Size\n"
     ]
    },
    {
     "name": "stderr",
     "output_type": "stream",
     "text": [
      "     16/198      4.86G     0.7326     0.6721      1.049         17        640: 100%|██████████| 824/824 [08:37<00:00,  1.59it/s]\n",
      "                 Class     Images  Instances      Box(P          R      mAP50  mAP50-95): 100%|██████████| 26/26 [00:23<00:00,  1.10it/s]"
     ]
    },
    {
     "name": "stdout",
     "output_type": "stream",
     "text": [
      "                   all        820        714      0.935      0.882      0.955      0.841\n"
     ]
    },
    {
     "name": "stderr",
     "output_type": "stream",
     "text": [
      "\n"
     ]
    },
    {
     "name": "stdout",
     "output_type": "stream",
     "text": [
      "\n",
      "      Epoch    GPU_mem   box_loss   cls_loss   dfl_loss  Instances       Size\n"
     ]
    },
    {
     "name": "stderr",
     "output_type": "stream",
     "text": [
      "     17/198      4.74G     0.7234     0.6645      1.045         26        640: 100%|██████████| 824/824 [08:39<00:00,  1.58it/s]\n",
      "     18/198      4.86G     0.7155     0.6515      1.041         23        640: 100%|██████████| 824/824 [08:49<00:00,  1.56it/s]1.09it/s]\n",
      "                 Class     Images  Instances      Box(P          R      mAP50  mAP50-95): 100%|██████████| 26/26 [00:23<00:00,  1.11it/s]"
     ]
    },
    {
     "name": "stdout",
     "output_type": "stream",
     "text": [
      "                   all        820        714      0.919      0.943      0.966      0.877\n"
     ]
    },
    {
     "name": "stderr",
     "output_type": "stream",
     "text": [
      "\n"
     ]
    },
    {
     "name": "stdout",
     "output_type": "stream",
     "text": [
      "\n",
      "      Epoch    GPU_mem   box_loss   cls_loss   dfl_loss  Instances       Size\n"
     ]
    },
    {
     "name": "stderr",
     "output_type": "stream",
     "text": [
      "     19/198      4.74G     0.7142     0.6403       1.04         31        640:  96%|█████████▌| 788/824 [08:27<00:21,  1.71it/s]IOPub message rate exceeded.\n",
      "The notebook server will temporarily stop sending output\n",
      "to the client in order to avoid crashing it.\n",
      "To change this limit, set the config variable\n",
      "`--NotebookApp.iopub_msg_rate_limit`.\n",
      "\n",
      "Current values:\n",
      "NotebookApp.iopub_msg_rate_limit=1000.0 (msgs/sec)\n",
      "NotebookApp.rate_limit_window=3.0 (secs)\n",
      "\n",
      "     20/197      4.86G     0.6963     0.6274      1.027         24        640: 100%|██████████| 824/824 [08:51<00:00,  1.55it/s]\n",
      "                 Class     Images  Instances      Box(P          R      mAP50  mAP50-95): 100%|██████████| 26/26 [00:23<00:00,  1.09it/s]"
     ]
    },
    {
     "name": "stdout",
     "output_type": "stream",
     "text": [
      "                   all        820        714      0.944      0.881      0.965      0.871\n"
     ]
    },
    {
     "name": "stderr",
     "output_type": "stream",
     "text": [
      "\n"
     ]
    },
    {
     "name": "stdout",
     "output_type": "stream",
     "text": [
      "\n",
      "      Epoch    GPU_mem   box_loss   cls_loss   dfl_loss  Instances       Size\n"
     ]
    },
    {
     "name": "stderr",
     "output_type": "stream",
     "text": [
      "     21/197      4.74G     0.6977     0.6179       1.03         19        640: 100%|██████████| 824/824 [08:51<00:00,  1.55it/s]\n",
      "                 Class     Images  Instances      Box(P          R      mAP50  mAP50-95): 100%|██████████| 26/26 [00:24<00:00,  1.05it/s]"
     ]
    },
    {
     "name": "stdout",
     "output_type": "stream",
     "text": [
      "                   all        820        714      0.925      0.938      0.974      0.877\n"
     ]
    },
    {
     "name": "stderr",
     "output_type": "stream",
     "text": [
      "\n"
     ]
    },
    {
     "name": "stdout",
     "output_type": "stream",
     "text": [
      "\n",
      "      Epoch    GPU_mem   box_loss   cls_loss   dfl_loss  Instances       Size\n"
     ]
    },
    {
     "name": "stderr",
     "output_type": "stream",
     "text": [
      "     22/197      4.86G     0.6872     0.6081      1.025         20        640: 100%|██████████| 824/824 [08:44<00:00,  1.57it/s]\n",
      "                 Class     Images  Instances      Box(P          R      mAP50  mAP50-95): 100%|██████████| 26/26 [00:24<00:00,  1.05it/s]"
     ]
    },
    {
     "name": "stdout",
     "output_type": "stream",
     "text": [
      "                   all        820        714      0.927      0.935      0.976      0.887\n"
     ]
    },
    {
     "name": "stderr",
     "output_type": "stream",
     "text": [
      "\n"
     ]
    },
    {
     "name": "stdout",
     "output_type": "stream",
     "text": [
      "\n",
      "      Epoch    GPU_mem   box_loss   cls_loss   dfl_loss  Instances       Size\n"
     ]
    },
    {
     "name": "stderr",
     "output_type": "stream",
     "text": [
      "     23/197      4.75G      0.678     0.6001      1.021         17        640: 100%|██████████| 824/824 [08:55<00:00,  1.54it/s]\n",
      "                 Class     Images  Instances      Box(P          R      mAP50  mAP50-95): 100%|██████████| 26/26 [00:25<00:00,  1.03it/s]"
     ]
    },
    {
     "name": "stdout",
     "output_type": "stream",
     "text": [
      "                   all        820        714      0.939      0.938      0.977       0.89\n"
     ]
    },
    {
     "name": "stderr",
     "output_type": "stream",
     "text": [
      "\n"
     ]
    },
    {
     "name": "stdout",
     "output_type": "stream",
     "text": [
      "\n",
      "      Epoch    GPU_mem   box_loss   cls_loss   dfl_loss  Instances       Size\n"
     ]
    },
    {
     "name": "stderr",
     "output_type": "stream",
     "text": [
      "     24/196      4.86G     0.6838     0.5955      1.026         20        640: 100%|██████████| 824/824 [08:51<00:00,  1.55it/s]\n",
      "                 Class     Images  Instances      Box(P          R      mAP50  mAP50-95): 100%|██████████| 26/26 [00:24<00:00,  1.07it/s]"
     ]
    },
    {
     "name": "stdout",
     "output_type": "stream",
     "text": [
      "                   all        820        714      0.949      0.907      0.975      0.888\n"
     ]
    },
    {
     "name": "stderr",
     "output_type": "stream",
     "text": [
      "\n"
     ]
    },
    {
     "name": "stdout",
     "output_type": "stream",
     "text": [
      "\n",
      "      Epoch    GPU_mem   box_loss   cls_loss   dfl_loss  Instances       Size\n"
     ]
    },
    {
     "name": "stderr",
     "output_type": "stream",
     "text": [
      "     25/196      4.74G     0.6689     0.5815      1.018         18        640: 100%|██████████| 824/824 [08:37<00:00,  1.59it/s]\n",
      "                 Class     Images  Instances      Box(P          R      mAP50  mAP50-95): 100%|██████████| 26/26 [00:24<00:00,  1.07it/s]"
     ]
    },
    {
     "name": "stdout",
     "output_type": "stream",
     "text": [
      "                   all        820        714      0.931      0.921      0.978      0.884\n"
     ]
    },
    {
     "name": "stderr",
     "output_type": "stream",
     "text": [
      "\n"
     ]
    },
    {
     "name": "stdout",
     "output_type": "stream",
     "text": [
      "\n",
      "      Epoch    GPU_mem   box_loss   cls_loss   dfl_loss  Instances       Size\n"
     ]
    },
    {
     "name": "stderr",
     "output_type": "stream",
     "text": [
      "     26/196      4.86G     0.6709     0.5827      1.015         27        640: 100%|██████████| 824/824 [08:35<00:00,  1.60it/s]\n",
      "                 Class     Images  Instances      Box(P          R      mAP50  mAP50-95): 100%|██████████| 26/26 [00:24<00:00,  1.06it/s]"
     ]
    },
    {
     "name": "stdout",
     "output_type": "stream",
     "text": [
      "                   all        820        714       0.93      0.922       0.97      0.882\n"
     ]
    },
    {
     "name": "stderr",
     "output_type": "stream",
     "text": [
      "\n"
     ]
    },
    {
     "name": "stdout",
     "output_type": "stream",
     "text": [
      "\n",
      "      Epoch    GPU_mem   box_loss   cls_loss   dfl_loss  Instances       Size\n"
     ]
    },
    {
     "name": "stderr",
     "output_type": "stream",
     "text": [
      "     27/196      4.74G     0.6558     0.5641      1.007         26        640:  39%|███▉      | 325/824 [03:25<04:04,  2.04it/s]"
     ]
    }
   ],
   "source": [
    "# Load a COCO-pretrained YOLOv8n model\n",
    "# model = YOLO(\"yolov8n.pt\")\n",
    "model = YOLO(\"yolo11s.pt\")\n",
    "\n",
    "# Display model information (optional)\n",
    "model.info()\n",
    "\n",
    "# Train the model on the COCO8 example dataset for 100 epochs\n",
    "results = model.train(data=\"/kaggle/input/data-4animals/data.yaml\", epochs=200, imgsz=640, patience=5, time=29.5, dropout=0.2, workers=16)\n",
    "print(results)"
   ]
  },
  {
   "cell_type": "markdown",
   "metadata": {},
   "source": [
    "# Save model"
   ]
  },
  {
   "cell_type": "code",
   "execution_count": 4,
   "metadata": {
    "execution": {
     "iopub.execute_input": "2024-12-05T14:06:38.967247Z",
     "iopub.status.busy": "2024-12-05T14:06:38.966841Z",
     "iopub.status.idle": "2024-12-05T14:06:39.045231Z",
     "shell.execute_reply": "2024-12-05T14:06:39.044343Z",
     "shell.execute_reply.started": "2024-12-05T14:06:38.967196Z"
    },
    "trusted": true
   },
   "outputs": [],
   "source": [
    "model.save(f'/kaggle/working/yolo11x_data_4animals.pt')"
   ]
  },
  {
   "cell_type": "markdown",
   "metadata": {},
   "source": [
    "# Load model"
   ]
  },
  {
   "cell_type": "code",
   "execution_count": null,
   "metadata": {
    "jupyter": {
     "source_hidden": true
    },
    "trusted": true
   },
   "outputs": [],
   "source": [
    "# model = YOLO('/kaggle/working/yolov8n_deer.pt')\n",
    "model = YOLO('/kaggle/working/runs/detect/train/weights/last.pt')"
   ]
  },
  {
   "cell_type": "markdown",
   "metadata": {},
   "source": [
    "# Vom Checkpoint laden"
   ]
  },
  {
   "cell_type": "code",
   "execution_count": null,
   "metadata": {
    "trusted": true
   },
   "outputs": [],
   "source": [
    "# ??"
   ]
  },
  {
   "cell_type": "markdown",
   "metadata": {},
   "source": [
    "# Evaluate model"
   ]
  },
  {
   "cell_type": "code",
   "execution_count": 7,
   "metadata": {
    "execution": {
     "iopub.execute_input": "2024-12-05T14:25:32.769431Z",
     "iopub.status.busy": "2024-12-05T14:25:32.768713Z",
     "iopub.status.idle": "2024-12-05T14:37:44.795510Z",
     "shell.execute_reply": "2024-12-05T14:37:44.794615Z",
     "shell.execute_reply.started": "2024-12-05T14:25:32.769397Z"
    },
    "scrolled": true,
    "trusted": true
   },
   "outputs": [
    {
     "name": "stdout",
     "output_type": "stream",
     "text": [
      "Ultralytics 8.3.40 🚀 Python-3.10.14 torch-2.4.0 CUDA:0 (Tesla P100-PCIE-16GB, 16269MiB)\n"
     ]
    },
    {
     "name": "stderr",
     "output_type": "stream",
     "text": [
      "\u001b[34m\u001b[1mval: \u001b[0mScanning /kaggle/input/data-4animals/data/data/validation/labels... 693 images, 127 backgrounds, 0 corrupt: 100%|██████████| 820/820 [00:01<00:00, 426.81it/s]"
     ]
    },
    {
     "name": "stdout",
     "output_type": "stream",
     "text": [
      "\u001b[34m\u001b[1mval: \u001b[0mWARNING ⚠️ Cache directory /kaggle/input/data-4animals/data/data/validation is not writeable, cache not saved.\n"
     ]
    },
    {
     "name": "stderr",
     "output_type": "stream",
     "text": [
      "\n",
      "/opt/conda/lib/python3.10/multiprocessing/popen_fork.py:66: RuntimeWarning: os.fork() was called. os.fork() is incompatible with multithreaded code, and JAX is multithreaded, so this will likely lead to a deadlock.\n",
      "  self.pid = os.fork()\n",
      "                 Class     Images  Instances      Box(P          R      mAP50  mAP50-95): 100%|██████████| 52/52 [00:31<00:00,  1.63it/s]\n"
     ]
    },
    {
     "name": "stdout",
     "output_type": "stream",
     "text": [
      "                   all        820        714      0.941      0.946      0.983      0.926\n",
      "                  deer        330        337      0.961      0.953      0.989      0.925\n",
      "             wild_boar        178        191       0.93      0.958      0.982      0.911\n",
      "                   fox        157        157      0.973      0.933      0.979      0.916\n",
      "                badger         28         29      0.901      0.939      0.984      0.955\n",
      "Speed: 0.2ms preprocess, 2.0ms inference, 0.0ms loss, 1.4ms postprocess per image\n",
      "Results saved to \u001b[1mruns/detect/train3\u001b[0m\n",
      "Ultralytics 8.3.40 🚀 Python-3.10.14 torch-2.4.0 CUDA:0 (Tesla P100-PCIE-16GB, 16269MiB)\n"
     ]
    },
    {
     "name": "stderr",
     "output_type": "stream",
     "text": [
      "\u001b[34m\u001b[1mval: \u001b[0mScanning /kaggle/input/data-4animals/data/data/test/labels... 2071 images, 264 backgrounds, 3 corrupt: 100%|██████████| 2338/2338 [00:18<00:00, 123.69it/s]"
     ]
    },
    {
     "name": "stdout",
     "output_type": "stream",
     "text": [
      "\u001b[34m\u001b[1mval: \u001b[0mWARNING ⚠️ /kaggle/input/data-4animals/data/data/test/images/1880a8eb-6457-45e2-9a02-e9388b83f922.JPG: ignoring corrupt image/label: cannot identify image file '/kaggle/input/data-4animals/data/data/test/images/1880a8eb-6457-45e2-9a02-e9388b83f922.JPG'\n",
      "\u001b[34m\u001b[1mval: \u001b[0mWARNING ⚠️ /kaggle/input/data-4animals/data/data/test/images/4048e647-0c39-4deb-a27a-9bb67acd53d3.JPG: ignoring corrupt image/label: cannot identify image file '/kaggle/input/data-4animals/data/data/test/images/4048e647-0c39-4deb-a27a-9bb67acd53d3.JPG'\n",
      "\u001b[34m\u001b[1mval: \u001b[0mWARNING ⚠️ /kaggle/input/data-4animals/data/data/test/images/795b825b-4ea8-4619-b261-09f7f1cda4af.JPG: ignoring corrupt image/label: cannot identify image file '/kaggle/input/data-4animals/data/data/test/images/795b825b-4ea8-4619-b261-09f7f1cda4af.JPG'\n"
     ]
    },
    {
     "name": "stderr",
     "output_type": "stream",
     "text": [
      "\n"
     ]
    },
    {
     "name": "stdout",
     "output_type": "stream",
     "text": [
      "\u001b[34m\u001b[1mval: \u001b[0mWARNING ⚠️ Cache directory /kaggle/input/data-4animals/data/data/test is not writeable, cache not saved.\n"
     ]
    },
    {
     "name": "stderr",
     "output_type": "stream",
     "text": [
      "/opt/conda/lib/python3.10/multiprocessing/popen_fork.py:66: RuntimeWarning: os.fork() was called. os.fork() is incompatible with multithreaded code, and JAX is multithreaded, so this will likely lead to a deadlock.\n",
      "  self.pid = os.fork()\n",
      "                 Class     Images  Instances      Box(P          R      mAP50  mAP50-95): 100%|██████████| 146/146 [01:31<00:00,  1.60it/s]\n"
     ]
    },
    {
     "name": "stdout",
     "output_type": "stream",
     "text": [
      "                   all       2335       2171      0.953      0.931      0.974      0.901\n",
      "                  deer        984       1014      0.978      0.954      0.987      0.926\n",
      "             wild_boar        531        599      0.934      0.927      0.969      0.893\n",
      "                   fox        468        469      0.946      0.908      0.964      0.887\n",
      "                badger         88         89      0.954      0.934      0.977      0.897\n",
      "Speed: 0.2ms preprocess, 1.8ms inference, 0.0ms loss, 1.3ms postprocess per image\n",
      "Results saved to \u001b[1mruns/detect/train4\u001b[0m\n",
      "\n",
      "Saving runs/detect/train5/0018/stage0_Conv_features.png... (16/16)\n",
      "Saving runs/detect/train5/0018/stage1_Conv_features.png... (32/32)\n",
      "Saving runs/detect/train5/0018/stage2_C2f_features.png... (32/32)\n",
      "Saving runs/detect/train5/0018/stage3_Conv_features.png... (32/64)\n",
      "Saving runs/detect/train5/0018/stage4_C2f_features.png... (32/64)\n",
      "Saving runs/detect/train5/0018/stage5_Conv_features.png... (32/128)\n",
      "Saving runs/detect/train5/0018/stage6_C2f_features.png... (32/128)\n",
      "Saving runs/detect/train5/0018/stage7_Conv_features.png... (32/256)\n",
      "Saving runs/detect/train5/0018/stage8_C2f_features.png... (32/256)\n",
      "Saving runs/detect/train5/0018/stage9_SPPF_features.png... (32/256)\n",
      "Saving runs/detect/train5/0018/stage10_Upsample_features.png... (32/256)\n",
      "Saving runs/detect/train5/0018/stage11_Concat_features.png... (32/384)\n",
      "Saving runs/detect/train5/0018/stage12_C2f_features.png... (32/128)\n",
      "Saving runs/detect/train5/0018/stage13_Upsample_features.png... (32/128)\n",
      "Saving runs/detect/train5/0018/stage14_Concat_features.png... (32/192)\n",
      "Saving runs/detect/train5/0018/stage15_C2f_features.png... (32/64)\n",
      "Saving runs/detect/train5/0018/stage16_Conv_features.png... (32/64)\n",
      "Saving runs/detect/train5/0018/stage17_Concat_features.png... (32/192)\n",
      "Saving runs/detect/train5/0018/stage18_C2f_features.png... (32/128)\n",
      "Saving runs/detect/train5/0018/stage19_Conv_features.png... (32/128)\n",
      "Saving runs/detect/train5/0018/stage20_Concat_features.png... (32/384)\n",
      "Saving runs/detect/train5/0018/stage21_C2f_features.png... (32/256)\n",
      "image 1/21 /kaggle/input/test-data-real/0018.jpg: 640x640 1 deer, 1 wild_boar, 27705.6ms\n",
      "Saving runs/detect/train5/0059/stage0_Conv_features.png... (16/16)\n",
      "Saving runs/detect/train5/0059/stage1_Conv_features.png... (32/32)\n",
      "Saving runs/detect/train5/0059/stage2_C2f_features.png... (32/32)\n",
      "Saving runs/detect/train5/0059/stage3_Conv_features.png... (32/64)\n",
      "Saving runs/detect/train5/0059/stage4_C2f_features.png... (32/64)\n",
      "Saving runs/detect/train5/0059/stage5_Conv_features.png... (32/128)\n",
      "Saving runs/detect/train5/0059/stage6_C2f_features.png... (32/128)\n",
      "Saving runs/detect/train5/0059/stage7_Conv_features.png... (32/256)\n",
      "Saving runs/detect/train5/0059/stage8_C2f_features.png... (32/256)\n",
      "Saving runs/detect/train5/0059/stage9_SPPF_features.png... (32/256)\n",
      "Saving runs/detect/train5/0059/stage10_Upsample_features.png... (32/256)\n",
      "Saving runs/detect/train5/0059/stage11_Concat_features.png... (32/384)\n",
      "Saving runs/detect/train5/0059/stage12_C2f_features.png... (32/128)\n",
      "Saving runs/detect/train5/0059/stage13_Upsample_features.png... (32/128)\n",
      "Saving runs/detect/train5/0059/stage14_Concat_features.png... (32/192)\n",
      "Saving runs/detect/train5/0059/stage15_C2f_features.png... (32/64)\n",
      "Saving runs/detect/train5/0059/stage16_Conv_features.png... (32/64)\n",
      "Saving runs/detect/train5/0059/stage17_Concat_features.png... (32/192)\n",
      "Saving runs/detect/train5/0059/stage18_C2f_features.png... (32/128)\n",
      "Saving runs/detect/train5/0059/stage19_Conv_features.png... (32/128)\n",
      "Saving runs/detect/train5/0059/stage20_Concat_features.png... (32/384)\n",
      "Saving runs/detect/train5/0059/stage21_C2f_features.png... (32/256)\n",
      "image 2/21 /kaggle/input/test-data-real/0059.jpg: 640x640 1 deer, 29708.5ms\n",
      "Saving runs/detect/train5/0060/stage0_Conv_features.png... (16/16)\n",
      "Saving runs/detect/train5/0060/stage1_Conv_features.png... (32/32)\n",
      "Saving runs/detect/train5/0060/stage2_C2f_features.png... (32/32)\n",
      "Saving runs/detect/train5/0060/stage3_Conv_features.png... (32/64)\n",
      "Saving runs/detect/train5/0060/stage4_C2f_features.png... (32/64)\n",
      "Saving runs/detect/train5/0060/stage5_Conv_features.png... (32/128)\n",
      "Saving runs/detect/train5/0060/stage6_C2f_features.png... (32/128)\n",
      "Saving runs/detect/train5/0060/stage7_Conv_features.png... (32/256)\n",
      "Saving runs/detect/train5/0060/stage8_C2f_features.png... (32/256)\n",
      "Saving runs/detect/train5/0060/stage9_SPPF_features.png... (32/256)\n",
      "Saving runs/detect/train5/0060/stage10_Upsample_features.png... (32/256)\n",
      "Saving runs/detect/train5/0060/stage11_Concat_features.png... (32/384)\n",
      "Saving runs/detect/train5/0060/stage12_C2f_features.png... (32/128)\n",
      "Saving runs/detect/train5/0060/stage13_Upsample_features.png... (32/128)\n",
      "Saving runs/detect/train5/0060/stage14_Concat_features.png... (32/192)\n",
      "Saving runs/detect/train5/0060/stage15_C2f_features.png... (32/64)\n",
      "Saving runs/detect/train5/0060/stage16_Conv_features.png... (32/64)\n",
      "Saving runs/detect/train5/0060/stage17_Concat_features.png... (32/192)\n",
      "Saving runs/detect/train5/0060/stage18_C2f_features.png... (32/128)\n",
      "Saving runs/detect/train5/0060/stage19_Conv_features.png... (32/128)\n",
      "Saving runs/detect/train5/0060/stage20_Concat_features.png... (32/384)\n",
      "Saving runs/detect/train5/0060/stage21_C2f_features.png... (32/256)\n",
      "image 3/21 /kaggle/input/test-data-real/0060.jpg: 640x640 1 deer, 27938.5ms\n",
      "Saving runs/detect/train5/01010069/stage0_Conv_features.png... (16/16)\n",
      "Saving runs/detect/train5/01010069/stage1_Conv_features.png... (32/32)\n",
      "Saving runs/detect/train5/01010069/stage2_C2f_features.png... (32/32)\n",
      "Saving runs/detect/train5/01010069/stage3_Conv_features.png... (32/64)\n",
      "Saving runs/detect/train5/01010069/stage4_C2f_features.png... (32/64)\n",
      "Saving runs/detect/train5/01010069/stage5_Conv_features.png... (32/128)\n",
      "Saving runs/detect/train5/01010069/stage6_C2f_features.png... (32/128)\n",
      "Saving runs/detect/train5/01010069/stage7_Conv_features.png... (32/256)\n",
      "Saving runs/detect/train5/01010069/stage8_C2f_features.png... (32/256)\n",
      "Saving runs/detect/train5/01010069/stage9_SPPF_features.png... (32/256)\n",
      "Saving runs/detect/train5/01010069/stage10_Upsample_features.png... (32/256)\n",
      "Saving runs/detect/train5/01010069/stage11_Concat_features.png... (32/384)\n",
      "Saving runs/detect/train5/01010069/stage12_C2f_features.png... (32/128)\n",
      "Saving runs/detect/train5/01010069/stage13_Upsample_features.png... (32/128)\n",
      "Saving runs/detect/train5/01010069/stage14_Concat_features.png... (32/192)\n",
      "Saving runs/detect/train5/01010069/stage15_C2f_features.png... (32/64)\n",
      "Saving runs/detect/train5/01010069/stage16_Conv_features.png... (32/64)\n",
      "Saving runs/detect/train5/01010069/stage17_Concat_features.png... (32/192)\n",
      "Saving runs/detect/train5/01010069/stage18_C2f_features.png... (32/128)\n",
      "Saving runs/detect/train5/01010069/stage19_Conv_features.png... (32/128)\n",
      "Saving runs/detect/train5/01010069/stage20_Concat_features.png... (32/384)\n",
      "Saving runs/detect/train5/01010069/stage21_C2f_features.png... (32/256)\n",
      "image 4/21 /kaggle/input/test-data-real/01010069.JPG: 480x640 1 deer, 27204.1ms\n",
      "Saving runs/detect/train5/01040060/stage0_Conv_features.png... (16/16)\n",
      "Saving runs/detect/train5/01040060/stage1_Conv_features.png... (32/32)\n",
      "Saving runs/detect/train5/01040060/stage2_C2f_features.png... (32/32)\n",
      "Saving runs/detect/train5/01040060/stage3_Conv_features.png... (32/64)\n",
      "Saving runs/detect/train5/01040060/stage4_C2f_features.png... (32/64)\n",
      "Saving runs/detect/train5/01040060/stage5_Conv_features.png... (32/128)\n",
      "Saving runs/detect/train5/01040060/stage6_C2f_features.png... (32/128)\n",
      "Saving runs/detect/train5/01040060/stage7_Conv_features.png... (32/256)\n",
      "Saving runs/detect/train5/01040060/stage8_C2f_features.png... (32/256)\n",
      "Saving runs/detect/train5/01040060/stage9_SPPF_features.png... (32/256)\n",
      "Saving runs/detect/train5/01040060/stage10_Upsample_features.png... (32/256)\n",
      "Saving runs/detect/train5/01040060/stage11_Concat_features.png... (32/384)\n",
      "Saving runs/detect/train5/01040060/stage12_C2f_features.png... (32/128)\n",
      "Saving runs/detect/train5/01040060/stage13_Upsample_features.png... (32/128)\n",
      "Saving runs/detect/train5/01040060/stage14_Concat_features.png... (32/192)\n",
      "Saving runs/detect/train5/01040060/stage15_C2f_features.png... (32/64)\n",
      "Saving runs/detect/train5/01040060/stage16_Conv_features.png... (32/64)\n",
      "Saving runs/detect/train5/01040060/stage17_Concat_features.png... (32/192)\n",
      "Saving runs/detect/train5/01040060/stage18_C2f_features.png... (32/128)\n",
      "Saving runs/detect/train5/01040060/stage19_Conv_features.png... (32/128)\n",
      "Saving runs/detect/train5/01040060/stage20_Concat_features.png... (32/384)\n",
      "Saving runs/detect/train5/01040060/stage21_C2f_features.png... (32/256)\n",
      "image 5/21 /kaggle/input/test-data-real/01040060.JPG: 480x640 2 deers, 26356.8ms\n",
      "Saving runs/detect/train5/IMAG0003/stage0_Conv_features.png... (16/16)\n",
      "Saving runs/detect/train5/IMAG0003/stage1_Conv_features.png... (32/32)\n",
      "Saving runs/detect/train5/IMAG0003/stage2_C2f_features.png... (32/32)\n",
      "Saving runs/detect/train5/IMAG0003/stage3_Conv_features.png... (32/64)\n",
      "Saving runs/detect/train5/IMAG0003/stage4_C2f_features.png... (32/64)\n",
      "Saving runs/detect/train5/IMAG0003/stage5_Conv_features.png... (32/128)\n",
      "Saving runs/detect/train5/IMAG0003/stage6_C2f_features.png... (32/128)\n",
      "Saving runs/detect/train5/IMAG0003/stage7_Conv_features.png... (32/256)\n",
      "Saving runs/detect/train5/IMAG0003/stage8_C2f_features.png... (32/256)\n",
      "Saving runs/detect/train5/IMAG0003/stage9_SPPF_features.png... (32/256)\n",
      "Saving runs/detect/train5/IMAG0003/stage10_Upsample_features.png... (32/256)\n",
      "Saving runs/detect/train5/IMAG0003/stage11_Concat_features.png... (32/384)\n",
      "Saving runs/detect/train5/IMAG0003/stage12_C2f_features.png... (32/128)\n",
      "Saving runs/detect/train5/IMAG0003/stage13_Upsample_features.png... (32/128)\n",
      "Saving runs/detect/train5/IMAG0003/stage14_Concat_features.png... (32/192)\n",
      "Saving runs/detect/train5/IMAG0003/stage15_C2f_features.png... (32/64)\n",
      "Saving runs/detect/train5/IMAG0003/stage16_Conv_features.png... (32/64)\n",
      "Saving runs/detect/train5/IMAG0003/stage17_Concat_features.png... (32/192)\n",
      "Saving runs/detect/train5/IMAG0003/stage18_C2f_features.png... (32/128)\n",
      "Saving runs/detect/train5/IMAG0003/stage19_Conv_features.png... (32/128)\n",
      "Saving runs/detect/train5/IMAG0003/stage20_Concat_features.png... (32/384)\n",
      "Saving runs/detect/train5/IMAG0003/stage21_C2f_features.png... (32/256)\n",
      "image 6/21 /kaggle/input/test-data-real/IMAG0003.JPG: 480x640 (no detections), 28044.0ms\n",
      "Saving runs/detect/train5/IMAG0057/stage0_Conv_features.png... (16/16)\n",
      "Saving runs/detect/train5/IMAG0057/stage1_Conv_features.png... (32/32)\n",
      "Saving runs/detect/train5/IMAG0057/stage2_C2f_features.png... (32/32)\n",
      "Saving runs/detect/train5/IMAG0057/stage3_Conv_features.png... (32/64)\n",
      "Saving runs/detect/train5/IMAG0057/stage4_C2f_features.png... (32/64)\n",
      "Saving runs/detect/train5/IMAG0057/stage5_Conv_features.png... (32/128)\n",
      "Saving runs/detect/train5/IMAG0057/stage6_C2f_features.png... (32/128)\n",
      "Saving runs/detect/train5/IMAG0057/stage7_Conv_features.png... (32/256)\n",
      "Saving runs/detect/train5/IMAG0057/stage8_C2f_features.png... (32/256)\n",
      "Saving runs/detect/train5/IMAG0057/stage9_SPPF_features.png... (32/256)\n",
      "Saving runs/detect/train5/IMAG0057/stage10_Upsample_features.png... (32/256)\n",
      "Saving runs/detect/train5/IMAG0057/stage11_Concat_features.png... (32/384)\n",
      "Saving runs/detect/train5/IMAG0057/stage12_C2f_features.png... (32/128)\n",
      "Saving runs/detect/train5/IMAG0057/stage13_Upsample_features.png... (32/128)\n",
      "Saving runs/detect/train5/IMAG0057/stage14_Concat_features.png... (32/192)\n",
      "Saving runs/detect/train5/IMAG0057/stage15_C2f_features.png... (32/64)\n",
      "Saving runs/detect/train5/IMAG0057/stage16_Conv_features.png... (32/64)\n",
      "Saving runs/detect/train5/IMAG0057/stage17_Concat_features.png... (32/192)\n",
      "Saving runs/detect/train5/IMAG0057/stage18_C2f_features.png... (32/128)\n",
      "Saving runs/detect/train5/IMAG0057/stage19_Conv_features.png... (32/128)\n",
      "Saving runs/detect/train5/IMAG0057/stage20_Concat_features.png... (32/384)\n",
      "Saving runs/detect/train5/IMAG0057/stage21_C2f_features.png... (32/256)\n",
      "image 7/21 /kaggle/input/test-data-real/IMAG0057.JPG: 480x640 1 deer, 26701.7ms\n",
      "Saving runs/detect/train5/Kamera Gipfel 2 (275)/stage0_Conv_features.png... (16/16)\n",
      "Saving runs/detect/train5/Kamera Gipfel 2 (275)/stage1_Conv_features.png... (32/32)\n",
      "Saving runs/detect/train5/Kamera Gipfel 2 (275)/stage2_C2f_features.png... (32/32)\n",
      "Saving runs/detect/train5/Kamera Gipfel 2 (275)/stage3_Conv_features.png... (32/64)\n",
      "Saving runs/detect/train5/Kamera Gipfel 2 (275)/stage4_C2f_features.png... (32/64)\n",
      "Saving runs/detect/train5/Kamera Gipfel 2 (275)/stage5_Conv_features.png... (32/128)\n",
      "Saving runs/detect/train5/Kamera Gipfel 2 (275)/stage6_C2f_features.png... (32/128)\n",
      "Saving runs/detect/train5/Kamera Gipfel 2 (275)/stage7_Conv_features.png... (32/256)\n",
      "Saving runs/detect/train5/Kamera Gipfel 2 (275)/stage8_C2f_features.png... (32/256)\n",
      "Saving runs/detect/train5/Kamera Gipfel 2 (275)/stage9_SPPF_features.png... (32/256)\n",
      "Saving runs/detect/train5/Kamera Gipfel 2 (275)/stage10_Upsample_features.png... (32/256)\n",
      "Saving runs/detect/train5/Kamera Gipfel 2 (275)/stage11_Concat_features.png... (32/384)\n",
      "Saving runs/detect/train5/Kamera Gipfel 2 (275)/stage12_C2f_features.png... (32/128)\n",
      "Saving runs/detect/train5/Kamera Gipfel 2 (275)/stage13_Upsample_features.png... (32/128)\n",
      "Saving runs/detect/train5/Kamera Gipfel 2 (275)/stage14_Concat_features.png... (32/192)\n",
      "Saving runs/detect/train5/Kamera Gipfel 2 (275)/stage15_C2f_features.png... (32/64)\n",
      "Saving runs/detect/train5/Kamera Gipfel 2 (275)/stage16_Conv_features.png... (32/64)\n",
      "Saving runs/detect/train5/Kamera Gipfel 2 (275)/stage17_Concat_features.png... (32/192)\n",
      "Saving runs/detect/train5/Kamera Gipfel 2 (275)/stage18_C2f_features.png... (32/128)\n",
      "Saving runs/detect/train5/Kamera Gipfel 2 (275)/stage19_Conv_features.png... (32/128)\n",
      "Saving runs/detect/train5/Kamera Gipfel 2 (275)/stage20_Concat_features.png... (32/384)\n",
      "Saving runs/detect/train5/Kamera Gipfel 2 (275)/stage21_C2f_features.png... (32/256)\n",
      "image 8/21 /kaggle/input/test-data-real/Kamera Gipfel 2 (275).png: 480x640 (no detections), 28204.9ms\n",
      "Saving runs/detect/train5/Kamera Gipfel 2 (283)/stage0_Conv_features.png... (16/16)\n",
      "Saving runs/detect/train5/Kamera Gipfel 2 (283)/stage1_Conv_features.png... (32/32)\n",
      "Saving runs/detect/train5/Kamera Gipfel 2 (283)/stage2_C2f_features.png... (32/32)\n",
      "Saving runs/detect/train5/Kamera Gipfel 2 (283)/stage3_Conv_features.png... (32/64)\n",
      "Saving runs/detect/train5/Kamera Gipfel 2 (283)/stage4_C2f_features.png... (32/64)\n",
      "Saving runs/detect/train5/Kamera Gipfel 2 (283)/stage5_Conv_features.png... (32/128)\n",
      "Saving runs/detect/train5/Kamera Gipfel 2 (283)/stage6_C2f_features.png... (32/128)\n",
      "Saving runs/detect/train5/Kamera Gipfel 2 (283)/stage7_Conv_features.png... (32/256)\n",
      "Saving runs/detect/train5/Kamera Gipfel 2 (283)/stage8_C2f_features.png... (32/256)\n",
      "Saving runs/detect/train5/Kamera Gipfel 2 (283)/stage9_SPPF_features.png... (32/256)\n",
      "Saving runs/detect/train5/Kamera Gipfel 2 (283)/stage10_Upsample_features.png... (32/256)\n",
      "Saving runs/detect/train5/Kamera Gipfel 2 (283)/stage11_Concat_features.png... (32/384)\n",
      "Saving runs/detect/train5/Kamera Gipfel 2 (283)/stage12_C2f_features.png... (32/128)\n",
      "Saving runs/detect/train5/Kamera Gipfel 2 (283)/stage13_Upsample_features.png... (32/128)\n",
      "Saving runs/detect/train5/Kamera Gipfel 2 (283)/stage14_Concat_features.png... (32/192)\n",
      "Saving runs/detect/train5/Kamera Gipfel 2 (283)/stage15_C2f_features.png... (32/64)\n",
      "Saving runs/detect/train5/Kamera Gipfel 2 (283)/stage16_Conv_features.png... (32/64)\n",
      "Saving runs/detect/train5/Kamera Gipfel 2 (283)/stage17_Concat_features.png... (32/192)\n",
      "Saving runs/detect/train5/Kamera Gipfel 2 (283)/stage18_C2f_features.png... (32/128)\n",
      "Saving runs/detect/train5/Kamera Gipfel 2 (283)/stage19_Conv_features.png... (32/128)\n",
      "Saving runs/detect/train5/Kamera Gipfel 2 (283)/stage20_Concat_features.png... (32/384)\n",
      "Saving runs/detect/train5/Kamera Gipfel 2 (283)/stage21_C2f_features.png... (32/256)\n",
      "image 9/21 /kaggle/input/test-data-real/Kamera Gipfel 2 (283).png: 480x640 2 deers, 1 wild_boar, 25754.1ms\n",
      "Saving runs/detect/train5/Kamera Gipfel 2 (290)/stage0_Conv_features.png... (16/16)\n",
      "Saving runs/detect/train5/Kamera Gipfel 2 (290)/stage1_Conv_features.png... (32/32)\n",
      "Saving runs/detect/train5/Kamera Gipfel 2 (290)/stage2_C2f_features.png... (32/32)\n",
      "Saving runs/detect/train5/Kamera Gipfel 2 (290)/stage3_Conv_features.png... (32/64)\n",
      "Saving runs/detect/train5/Kamera Gipfel 2 (290)/stage4_C2f_features.png... (32/64)\n",
      "Saving runs/detect/train5/Kamera Gipfel 2 (290)/stage5_Conv_features.png... (32/128)\n",
      "Saving runs/detect/train5/Kamera Gipfel 2 (290)/stage6_C2f_features.png... (32/128)\n",
      "Saving runs/detect/train5/Kamera Gipfel 2 (290)/stage7_Conv_features.png... (32/256)\n",
      "Saving runs/detect/train5/Kamera Gipfel 2 (290)/stage8_C2f_features.png... (32/256)\n",
      "Saving runs/detect/train5/Kamera Gipfel 2 (290)/stage9_SPPF_features.png... (32/256)\n",
      "Saving runs/detect/train5/Kamera Gipfel 2 (290)/stage10_Upsample_features.png... (32/256)\n",
      "Saving runs/detect/train5/Kamera Gipfel 2 (290)/stage11_Concat_features.png... (32/384)\n",
      "Saving runs/detect/train5/Kamera Gipfel 2 (290)/stage12_C2f_features.png... (32/128)\n",
      "Saving runs/detect/train5/Kamera Gipfel 2 (290)/stage13_Upsample_features.png... (32/128)\n",
      "Saving runs/detect/train5/Kamera Gipfel 2 (290)/stage14_Concat_features.png... (32/192)\n",
      "Saving runs/detect/train5/Kamera Gipfel 2 (290)/stage15_C2f_features.png... (32/64)\n",
      "Saving runs/detect/train5/Kamera Gipfel 2 (290)/stage16_Conv_features.png... (32/64)\n",
      "Saving runs/detect/train5/Kamera Gipfel 2 (290)/stage17_Concat_features.png... (32/192)\n",
      "Saving runs/detect/train5/Kamera Gipfel 2 (290)/stage18_C2f_features.png... (32/128)\n",
      "Saving runs/detect/train5/Kamera Gipfel 2 (290)/stage19_Conv_features.png... (32/128)\n",
      "Saving runs/detect/train5/Kamera Gipfel 2 (290)/stage20_Concat_features.png... (32/384)\n",
      "Saving runs/detect/train5/Kamera Gipfel 2 (290)/stage21_C2f_features.png... (32/256)\n",
      "image 10/21 /kaggle/input/test-data-real/Kamera Gipfel 2 (290).png: 480x640 1 deer, 27326.9ms\n",
      "Saving runs/detect/train5/Kamera Gipfel 2 (293)/stage0_Conv_features.png... (16/16)\n",
      "Saving runs/detect/train5/Kamera Gipfel 2 (293)/stage1_Conv_features.png... (32/32)\n",
      "Saving runs/detect/train5/Kamera Gipfel 2 (293)/stage2_C2f_features.png... (32/32)\n",
      "Saving runs/detect/train5/Kamera Gipfel 2 (293)/stage3_Conv_features.png... (32/64)\n",
      "Saving runs/detect/train5/Kamera Gipfel 2 (293)/stage4_C2f_features.png... (32/64)\n",
      "Saving runs/detect/train5/Kamera Gipfel 2 (293)/stage5_Conv_features.png... (32/128)\n",
      "Saving runs/detect/train5/Kamera Gipfel 2 (293)/stage6_C2f_features.png... (32/128)\n",
      "Saving runs/detect/train5/Kamera Gipfel 2 (293)/stage7_Conv_features.png... (32/256)\n",
      "Saving runs/detect/train5/Kamera Gipfel 2 (293)/stage8_C2f_features.png... (32/256)\n",
      "Saving runs/detect/train5/Kamera Gipfel 2 (293)/stage9_SPPF_features.png... (32/256)\n",
      "Saving runs/detect/train5/Kamera Gipfel 2 (293)/stage10_Upsample_features.png... (32/256)\n",
      "Saving runs/detect/train5/Kamera Gipfel 2 (293)/stage11_Concat_features.png... (32/384)\n",
      "Saving runs/detect/train5/Kamera Gipfel 2 (293)/stage12_C2f_features.png... (32/128)\n",
      "Saving runs/detect/train5/Kamera Gipfel 2 (293)/stage13_Upsample_features.png... (32/128)\n",
      "Saving runs/detect/train5/Kamera Gipfel 2 (293)/stage14_Concat_features.png... (32/192)\n",
      "Saving runs/detect/train5/Kamera Gipfel 2 (293)/stage15_C2f_features.png... (32/64)\n",
      "Saving runs/detect/train5/Kamera Gipfel 2 (293)/stage16_Conv_features.png... (32/64)\n",
      "Saving runs/detect/train5/Kamera Gipfel 2 (293)/stage17_Concat_features.png... (32/192)\n",
      "Saving runs/detect/train5/Kamera Gipfel 2 (293)/stage18_C2f_features.png... (32/128)\n",
      "Saving runs/detect/train5/Kamera Gipfel 2 (293)/stage19_Conv_features.png... (32/128)\n",
      "Saving runs/detect/train5/Kamera Gipfel 2 (293)/stage20_Concat_features.png... (32/384)\n",
      "Saving runs/detect/train5/Kamera Gipfel 2 (293)/stage21_C2f_features.png... (32/256)\n",
      "image 11/21 /kaggle/input/test-data-real/Kamera Gipfel 2 (293).png: 480x640 (no detections), 28163.0ms\n",
      "Saving runs/detect/train5/Kamera Gipfel 2 (316)/stage0_Conv_features.png... (16/16)\n",
      "Saving runs/detect/train5/Kamera Gipfel 2 (316)/stage1_Conv_features.png... (32/32)\n",
      "Saving runs/detect/train5/Kamera Gipfel 2 (316)/stage2_C2f_features.png... (32/32)\n",
      "Saving runs/detect/train5/Kamera Gipfel 2 (316)/stage3_Conv_features.png... (32/64)\n",
      "Saving runs/detect/train5/Kamera Gipfel 2 (316)/stage4_C2f_features.png... (32/64)\n",
      "Saving runs/detect/train5/Kamera Gipfel 2 (316)/stage5_Conv_features.png... (32/128)\n",
      "Saving runs/detect/train5/Kamera Gipfel 2 (316)/stage6_C2f_features.png... (32/128)\n",
      "Saving runs/detect/train5/Kamera Gipfel 2 (316)/stage7_Conv_features.png... (32/256)\n",
      "Saving runs/detect/train5/Kamera Gipfel 2 (316)/stage8_C2f_features.png... (32/256)\n",
      "Saving runs/detect/train5/Kamera Gipfel 2 (316)/stage9_SPPF_features.png... (32/256)\n",
      "Saving runs/detect/train5/Kamera Gipfel 2 (316)/stage10_Upsample_features.png... (32/256)\n",
      "Saving runs/detect/train5/Kamera Gipfel 2 (316)/stage11_Concat_features.png... (32/384)\n",
      "Saving runs/detect/train5/Kamera Gipfel 2 (316)/stage12_C2f_features.png... (32/128)\n",
      "Saving runs/detect/train5/Kamera Gipfel 2 (316)/stage13_Upsample_features.png... (32/128)\n",
      "Saving runs/detect/train5/Kamera Gipfel 2 (316)/stage14_Concat_features.png... (32/192)\n",
      "Saving runs/detect/train5/Kamera Gipfel 2 (316)/stage15_C2f_features.png... (32/64)\n",
      "Saving runs/detect/train5/Kamera Gipfel 2 (316)/stage16_Conv_features.png... (32/64)\n",
      "Saving runs/detect/train5/Kamera Gipfel 2 (316)/stage17_Concat_features.png... (32/192)\n",
      "Saving runs/detect/train5/Kamera Gipfel 2 (316)/stage18_C2f_features.png... (32/128)\n",
      "Saving runs/detect/train5/Kamera Gipfel 2 (316)/stage19_Conv_features.png... (32/128)\n",
      "Saving runs/detect/train5/Kamera Gipfel 2 (316)/stage20_Concat_features.png... (32/384)\n",
      "Saving runs/detect/train5/Kamera Gipfel 2 (316)/stage21_C2f_features.png... (32/256)\n",
      "image 12/21 /kaggle/input/test-data-real/Kamera Gipfel 2 (316).png: 480x640 1 deer, 26165.3ms\n",
      "Saving runs/detect/train5/Kamera Gipfel 2 (322)/stage0_Conv_features.png... (16/16)\n",
      "Saving runs/detect/train5/Kamera Gipfel 2 (322)/stage1_Conv_features.png... (32/32)\n",
      "Saving runs/detect/train5/Kamera Gipfel 2 (322)/stage2_C2f_features.png... (32/32)\n",
      "Saving runs/detect/train5/Kamera Gipfel 2 (322)/stage3_Conv_features.png... (32/64)\n",
      "Saving runs/detect/train5/Kamera Gipfel 2 (322)/stage4_C2f_features.png... (32/64)\n",
      "Saving runs/detect/train5/Kamera Gipfel 2 (322)/stage5_Conv_features.png... (32/128)\n",
      "Saving runs/detect/train5/Kamera Gipfel 2 (322)/stage6_C2f_features.png... (32/128)\n",
      "Saving runs/detect/train5/Kamera Gipfel 2 (322)/stage7_Conv_features.png... (32/256)\n",
      "Saving runs/detect/train5/Kamera Gipfel 2 (322)/stage8_C2f_features.png... (32/256)\n",
      "Saving runs/detect/train5/Kamera Gipfel 2 (322)/stage9_SPPF_features.png... (32/256)\n",
      "Saving runs/detect/train5/Kamera Gipfel 2 (322)/stage10_Upsample_features.png... (32/256)\n",
      "Saving runs/detect/train5/Kamera Gipfel 2 (322)/stage11_Concat_features.png... (32/384)\n",
      "Saving runs/detect/train5/Kamera Gipfel 2 (322)/stage12_C2f_features.png... (32/128)\n",
      "Saving runs/detect/train5/Kamera Gipfel 2 (322)/stage13_Upsample_features.png... (32/128)\n",
      "Saving runs/detect/train5/Kamera Gipfel 2 (322)/stage14_Concat_features.png... (32/192)\n",
      "Saving runs/detect/train5/Kamera Gipfel 2 (322)/stage15_C2f_features.png... (32/64)\n",
      "Saving runs/detect/train5/Kamera Gipfel 2 (322)/stage16_Conv_features.png... (32/64)\n",
      "Saving runs/detect/train5/Kamera Gipfel 2 (322)/stage17_Concat_features.png... (32/192)\n",
      "Saving runs/detect/train5/Kamera Gipfel 2 (322)/stage18_C2f_features.png... (32/128)\n",
      "Saving runs/detect/train5/Kamera Gipfel 2 (322)/stage19_Conv_features.png... (32/128)\n",
      "Saving runs/detect/train5/Kamera Gipfel 2 (322)/stage20_Concat_features.png... (32/384)\n",
      "Saving runs/detect/train5/Kamera Gipfel 2 (322)/stage21_C2f_features.png... (32/256)\n",
      "image 13/21 /kaggle/input/test-data-real/Kamera Gipfel 2 (322).png: 480x640 1 deer, 26916.5ms\n",
      "Saving runs/detect/train5/Kamera Gipfel 2/stage0_Conv_features.png... (16/16)\n",
      "Saving runs/detect/train5/Kamera Gipfel 2/stage1_Conv_features.png... (32/32)\n",
      "Saving runs/detect/train5/Kamera Gipfel 2/stage2_C2f_features.png... (32/32)\n",
      "Saving runs/detect/train5/Kamera Gipfel 2/stage3_Conv_features.png... (32/64)\n",
      "Saving runs/detect/train5/Kamera Gipfel 2/stage4_C2f_features.png... (32/64)\n",
      "Saving runs/detect/train5/Kamera Gipfel 2/stage5_Conv_features.png... (32/128)\n",
      "Saving runs/detect/train5/Kamera Gipfel 2/stage6_C2f_features.png... (32/128)\n",
      "Saving runs/detect/train5/Kamera Gipfel 2/stage7_Conv_features.png... (32/256)\n",
      "Saving runs/detect/train5/Kamera Gipfel 2/stage8_C2f_features.png... (32/256)\n",
      "Saving runs/detect/train5/Kamera Gipfel 2/stage9_SPPF_features.png... (32/256)\n",
      "Saving runs/detect/train5/Kamera Gipfel 2/stage10_Upsample_features.png... (32/256)\n",
      "Saving runs/detect/train5/Kamera Gipfel 2/stage11_Concat_features.png... (32/384)\n",
      "Saving runs/detect/train5/Kamera Gipfel 2/stage12_C2f_features.png... (32/128)\n",
      "Saving runs/detect/train5/Kamera Gipfel 2/stage13_Upsample_features.png... (32/128)\n",
      "Saving runs/detect/train5/Kamera Gipfel 2/stage14_Concat_features.png... (32/192)\n",
      "Saving runs/detect/train5/Kamera Gipfel 2/stage15_C2f_features.png... (32/64)\n",
      "Saving runs/detect/train5/Kamera Gipfel 2/stage16_Conv_features.png... (32/64)\n",
      "Saving runs/detect/train5/Kamera Gipfel 2/stage17_Concat_features.png... (32/192)\n",
      "Saving runs/detect/train5/Kamera Gipfel 2/stage18_C2f_features.png... (32/128)\n",
      "Saving runs/detect/train5/Kamera Gipfel 2/stage19_Conv_features.png... (32/128)\n",
      "Saving runs/detect/train5/Kamera Gipfel 2/stage20_Concat_features.png... (32/384)\n",
      "Saving runs/detect/train5/Kamera Gipfel 2/stage21_C2f_features.png... (32/256)\n",
      "image 14/21 /kaggle/input/test-data-real/Kamera Gipfel 2.png: 480x640 1 deer, 28378.3ms\n",
      "Saving runs/detect/train5/Kamera Gipfelkirrung (13)/stage0_Conv_features.png... (16/16)\n",
      "Saving runs/detect/train5/Kamera Gipfelkirrung (13)/stage1_Conv_features.png... (32/32)\n",
      "Saving runs/detect/train5/Kamera Gipfelkirrung (13)/stage2_C2f_features.png... (32/32)\n",
      "Saving runs/detect/train5/Kamera Gipfelkirrung (13)/stage3_Conv_features.png... (32/64)\n",
      "Saving runs/detect/train5/Kamera Gipfelkirrung (13)/stage4_C2f_features.png... (32/64)\n",
      "Saving runs/detect/train5/Kamera Gipfelkirrung (13)/stage5_Conv_features.png... (32/128)\n",
      "Saving runs/detect/train5/Kamera Gipfelkirrung (13)/stage6_C2f_features.png... (32/128)\n",
      "Saving runs/detect/train5/Kamera Gipfelkirrung (13)/stage7_Conv_features.png... (32/256)\n",
      "Saving runs/detect/train5/Kamera Gipfelkirrung (13)/stage8_C2f_features.png... (32/256)\n",
      "Saving runs/detect/train5/Kamera Gipfelkirrung (13)/stage9_SPPF_features.png... (32/256)\n",
      "Saving runs/detect/train5/Kamera Gipfelkirrung (13)/stage10_Upsample_features.png... (32/256)\n",
      "Saving runs/detect/train5/Kamera Gipfelkirrung (13)/stage11_Concat_features.png... (32/384)\n",
      "Saving runs/detect/train5/Kamera Gipfelkirrung (13)/stage12_C2f_features.png... (32/128)\n",
      "Saving runs/detect/train5/Kamera Gipfelkirrung (13)/stage13_Upsample_features.png... (32/128)\n",
      "Saving runs/detect/train5/Kamera Gipfelkirrung (13)/stage14_Concat_features.png... (32/192)\n",
      "Saving runs/detect/train5/Kamera Gipfelkirrung (13)/stage15_C2f_features.png... (32/64)\n",
      "Saving runs/detect/train5/Kamera Gipfelkirrung (13)/stage16_Conv_features.png... (32/64)\n",
      "Saving runs/detect/train5/Kamera Gipfelkirrung (13)/stage17_Concat_features.png... (32/192)\n",
      "Saving runs/detect/train5/Kamera Gipfelkirrung (13)/stage18_C2f_features.png... (32/128)\n",
      "Saving runs/detect/train5/Kamera Gipfelkirrung (13)/stage19_Conv_features.png... (32/128)\n",
      "Saving runs/detect/train5/Kamera Gipfelkirrung (13)/stage20_Concat_features.png... (32/384)\n",
      "Saving runs/detect/train5/Kamera Gipfelkirrung (13)/stage21_C2f_features.png... (32/256)\n",
      "image 15/21 /kaggle/input/test-data-real/Kamera Gipfelkirrung (13).png: 480x640 1 deer, 27547.0ms\n",
      "Saving runs/detect/train5/Kamera Gipfelkirrung (137)/stage0_Conv_features.png... (16/16)\n",
      "Saving runs/detect/train5/Kamera Gipfelkirrung (137)/stage1_Conv_features.png... (32/32)\n",
      "Saving runs/detect/train5/Kamera Gipfelkirrung (137)/stage2_C2f_features.png... (32/32)\n",
      "Saving runs/detect/train5/Kamera Gipfelkirrung (137)/stage3_Conv_features.png... (32/64)\n",
      "Saving runs/detect/train5/Kamera Gipfelkirrung (137)/stage4_C2f_features.png... (32/64)\n",
      "Saving runs/detect/train5/Kamera Gipfelkirrung (137)/stage5_Conv_features.png... (32/128)\n",
      "Saving runs/detect/train5/Kamera Gipfelkirrung (137)/stage6_C2f_features.png... (32/128)\n",
      "Saving runs/detect/train5/Kamera Gipfelkirrung (137)/stage7_Conv_features.png... (32/256)\n",
      "Saving runs/detect/train5/Kamera Gipfelkirrung (137)/stage8_C2f_features.png... (32/256)\n",
      "Saving runs/detect/train5/Kamera Gipfelkirrung (137)/stage9_SPPF_features.png... (32/256)\n",
      "Saving runs/detect/train5/Kamera Gipfelkirrung (137)/stage10_Upsample_features.png... (32/256)\n",
      "Saving runs/detect/train5/Kamera Gipfelkirrung (137)/stage11_Concat_features.png... (32/384)\n",
      "Saving runs/detect/train5/Kamera Gipfelkirrung (137)/stage12_C2f_features.png... (32/128)\n",
      "Saving runs/detect/train5/Kamera Gipfelkirrung (137)/stage13_Upsample_features.png... (32/128)\n",
      "Saving runs/detect/train5/Kamera Gipfelkirrung (137)/stage14_Concat_features.png... (32/192)\n",
      "Saving runs/detect/train5/Kamera Gipfelkirrung (137)/stage15_C2f_features.png... (32/64)\n",
      "Saving runs/detect/train5/Kamera Gipfelkirrung (137)/stage16_Conv_features.png... (32/64)\n",
      "Saving runs/detect/train5/Kamera Gipfelkirrung (137)/stage17_Concat_features.png... (32/192)\n",
      "Saving runs/detect/train5/Kamera Gipfelkirrung (137)/stage18_C2f_features.png... (32/128)\n",
      "Saving runs/detect/train5/Kamera Gipfelkirrung (137)/stage19_Conv_features.png... (32/128)\n",
      "Saving runs/detect/train5/Kamera Gipfelkirrung (137)/stage20_Concat_features.png... (32/384)\n",
      "Saving runs/detect/train5/Kamera Gipfelkirrung (137)/stage21_C2f_features.png... (32/256)\n",
      "image 16/21 /kaggle/input/test-data-real/Kamera Gipfelkirrung (137).png: 480x640 1 deer, 26418.0ms\n",
      "Saving runs/detect/train5/Kamera Gipfelkirrung (187)/stage0_Conv_features.png... (16/16)\n",
      "Saving runs/detect/train5/Kamera Gipfelkirrung (187)/stage1_Conv_features.png... (32/32)\n",
      "Saving runs/detect/train5/Kamera Gipfelkirrung (187)/stage2_C2f_features.png... (32/32)\n",
      "Saving runs/detect/train5/Kamera Gipfelkirrung (187)/stage3_Conv_features.png... (32/64)\n",
      "Saving runs/detect/train5/Kamera Gipfelkirrung (187)/stage4_C2f_features.png... (32/64)\n",
      "Saving runs/detect/train5/Kamera Gipfelkirrung (187)/stage5_Conv_features.png... (32/128)\n",
      "Saving runs/detect/train5/Kamera Gipfelkirrung (187)/stage6_C2f_features.png... (32/128)\n",
      "Saving runs/detect/train5/Kamera Gipfelkirrung (187)/stage7_Conv_features.png... (32/256)\n",
      "Saving runs/detect/train5/Kamera Gipfelkirrung (187)/stage8_C2f_features.png... (32/256)\n",
      "Saving runs/detect/train5/Kamera Gipfelkirrung (187)/stage9_SPPF_features.png... (32/256)\n",
      "Saving runs/detect/train5/Kamera Gipfelkirrung (187)/stage10_Upsample_features.png... (32/256)\n",
      "Saving runs/detect/train5/Kamera Gipfelkirrung (187)/stage11_Concat_features.png... (32/384)\n",
      "Saving runs/detect/train5/Kamera Gipfelkirrung (187)/stage12_C2f_features.png... (32/128)\n",
      "Saving runs/detect/train5/Kamera Gipfelkirrung (187)/stage13_Upsample_features.png... (32/128)\n",
      "Saving runs/detect/train5/Kamera Gipfelkirrung (187)/stage14_Concat_features.png... (32/192)\n",
      "Saving runs/detect/train5/Kamera Gipfelkirrung (187)/stage15_C2f_features.png... (32/64)\n",
      "Saving runs/detect/train5/Kamera Gipfelkirrung (187)/stage16_Conv_features.png... (32/64)\n",
      "Saving runs/detect/train5/Kamera Gipfelkirrung (187)/stage17_Concat_features.png... (32/192)\n",
      "Saving runs/detect/train5/Kamera Gipfelkirrung (187)/stage18_C2f_features.png... (32/128)\n",
      "Saving runs/detect/train5/Kamera Gipfelkirrung (187)/stage19_Conv_features.png... (32/128)\n",
      "Saving runs/detect/train5/Kamera Gipfelkirrung (187)/stage20_Concat_features.png... (32/384)\n",
      "Saving runs/detect/train5/Kamera Gipfelkirrung (187)/stage21_C2f_features.png... (32/256)\n",
      "image 17/21 /kaggle/input/test-data-real/Kamera Gipfelkirrung (187).png: 480x640 (no detections), 26454.3ms\n",
      "Saving runs/detect/train5/Kamera Gipfelkirrung (28)/stage0_Conv_features.png... (16/16)\n",
      "Saving runs/detect/train5/Kamera Gipfelkirrung (28)/stage1_Conv_features.png... (32/32)\n",
      "Saving runs/detect/train5/Kamera Gipfelkirrung (28)/stage2_C2f_features.png... (32/32)\n",
      "Saving runs/detect/train5/Kamera Gipfelkirrung (28)/stage3_Conv_features.png... (32/64)\n",
      "Saving runs/detect/train5/Kamera Gipfelkirrung (28)/stage4_C2f_features.png... (32/64)\n",
      "Saving runs/detect/train5/Kamera Gipfelkirrung (28)/stage5_Conv_features.png... (32/128)\n",
      "Saving runs/detect/train5/Kamera Gipfelkirrung (28)/stage6_C2f_features.png... (32/128)\n",
      "Saving runs/detect/train5/Kamera Gipfelkirrung (28)/stage7_Conv_features.png... (32/256)\n",
      "Saving runs/detect/train5/Kamera Gipfelkirrung (28)/stage8_C2f_features.png... (32/256)\n",
      "Saving runs/detect/train5/Kamera Gipfelkirrung (28)/stage9_SPPF_features.png... (32/256)\n",
      "Saving runs/detect/train5/Kamera Gipfelkirrung (28)/stage10_Upsample_features.png... (32/256)\n",
      "Saving runs/detect/train5/Kamera Gipfelkirrung (28)/stage11_Concat_features.png... (32/384)\n",
      "Saving runs/detect/train5/Kamera Gipfelkirrung (28)/stage12_C2f_features.png... (32/128)\n",
      "Saving runs/detect/train5/Kamera Gipfelkirrung (28)/stage13_Upsample_features.png... (32/128)\n",
      "Saving runs/detect/train5/Kamera Gipfelkirrung (28)/stage14_Concat_features.png... (32/192)\n",
      "Saving runs/detect/train5/Kamera Gipfelkirrung (28)/stage15_C2f_features.png... (32/64)\n",
      "Saving runs/detect/train5/Kamera Gipfelkirrung (28)/stage16_Conv_features.png... (32/64)\n",
      "Saving runs/detect/train5/Kamera Gipfelkirrung (28)/stage17_Concat_features.png... (32/192)\n",
      "Saving runs/detect/train5/Kamera Gipfelkirrung (28)/stage18_C2f_features.png... (32/128)\n",
      "Saving runs/detect/train5/Kamera Gipfelkirrung (28)/stage19_Conv_features.png... (32/128)\n",
      "Saving runs/detect/train5/Kamera Gipfelkirrung (28)/stage20_Concat_features.png... (32/384)\n",
      "Saving runs/detect/train5/Kamera Gipfelkirrung (28)/stage21_C2f_features.png... (32/256)\n",
      "image 18/21 /kaggle/input/test-data-real/Kamera Gipfelkirrung (28).png: 480x640 (no detections), 24410.7ms\n",
      "Saving runs/detect/train5/Kamera Gipfelkirrung (290)/stage0_Conv_features.png... (16/16)\n",
      "Saving runs/detect/train5/Kamera Gipfelkirrung (290)/stage1_Conv_features.png... (32/32)\n",
      "Saving runs/detect/train5/Kamera Gipfelkirrung (290)/stage2_C2f_features.png... (32/32)\n",
      "Saving runs/detect/train5/Kamera Gipfelkirrung (290)/stage3_Conv_features.png... (32/64)\n",
      "Saving runs/detect/train5/Kamera Gipfelkirrung (290)/stage4_C2f_features.png... (32/64)\n",
      "Saving runs/detect/train5/Kamera Gipfelkirrung (290)/stage5_Conv_features.png... (32/128)\n",
      "Saving runs/detect/train5/Kamera Gipfelkirrung (290)/stage6_C2f_features.png... (32/128)\n",
      "Saving runs/detect/train5/Kamera Gipfelkirrung (290)/stage7_Conv_features.png... (32/256)\n",
      "Saving runs/detect/train5/Kamera Gipfelkirrung (290)/stage8_C2f_features.png... (32/256)\n",
      "Saving runs/detect/train5/Kamera Gipfelkirrung (290)/stage9_SPPF_features.png... (32/256)\n",
      "Saving runs/detect/train5/Kamera Gipfelkirrung (290)/stage10_Upsample_features.png... (32/256)\n",
      "Saving runs/detect/train5/Kamera Gipfelkirrung (290)/stage11_Concat_features.png... (32/384)\n",
      "Saving runs/detect/train5/Kamera Gipfelkirrung (290)/stage12_C2f_features.png... (32/128)\n",
      "Saving runs/detect/train5/Kamera Gipfelkirrung (290)/stage13_Upsample_features.png... (32/128)\n",
      "Saving runs/detect/train5/Kamera Gipfelkirrung (290)/stage14_Concat_features.png... (32/192)\n",
      "Saving runs/detect/train5/Kamera Gipfelkirrung (290)/stage15_C2f_features.png... (32/64)\n",
      "Saving runs/detect/train5/Kamera Gipfelkirrung (290)/stage16_Conv_features.png... (32/64)\n",
      "Saving runs/detect/train5/Kamera Gipfelkirrung (290)/stage17_Concat_features.png... (32/192)\n",
      "Saving runs/detect/train5/Kamera Gipfelkirrung (290)/stage18_C2f_features.png... (32/128)\n",
      "Saving runs/detect/train5/Kamera Gipfelkirrung (290)/stage19_Conv_features.png... (32/128)\n",
      "Saving runs/detect/train5/Kamera Gipfelkirrung (290)/stage20_Concat_features.png... (32/384)\n",
      "Saving runs/detect/train5/Kamera Gipfelkirrung (290)/stage21_C2f_features.png... (32/256)\n",
      "image 19/21 /kaggle/input/test-data-real/Kamera Gipfelkirrung (290).png: 480x640 (no detections), 25869.4ms\n",
      "Saving runs/detect/train5/Kamera Gipfelkirrung (301)/stage0_Conv_features.png... (16/16)\n",
      "Saving runs/detect/train5/Kamera Gipfelkirrung (301)/stage1_Conv_features.png... (32/32)\n",
      "Saving runs/detect/train5/Kamera Gipfelkirrung (301)/stage2_C2f_features.png... (32/32)\n",
      "Saving runs/detect/train5/Kamera Gipfelkirrung (301)/stage3_Conv_features.png... (32/64)\n",
      "Saving runs/detect/train5/Kamera Gipfelkirrung (301)/stage4_C2f_features.png... (32/64)\n",
      "Saving runs/detect/train5/Kamera Gipfelkirrung (301)/stage5_Conv_features.png... (32/128)\n",
      "Saving runs/detect/train5/Kamera Gipfelkirrung (301)/stage6_C2f_features.png... (32/128)\n",
      "Saving runs/detect/train5/Kamera Gipfelkirrung (301)/stage7_Conv_features.png... (32/256)\n",
      "Saving runs/detect/train5/Kamera Gipfelkirrung (301)/stage8_C2f_features.png... (32/256)\n",
      "Saving runs/detect/train5/Kamera Gipfelkirrung (301)/stage9_SPPF_features.png... (32/256)\n",
      "Saving runs/detect/train5/Kamera Gipfelkirrung (301)/stage10_Upsample_features.png... (32/256)\n",
      "Saving runs/detect/train5/Kamera Gipfelkirrung (301)/stage11_Concat_features.png... (32/384)\n",
      "Saving runs/detect/train5/Kamera Gipfelkirrung (301)/stage12_C2f_features.png... (32/128)\n",
      "Saving runs/detect/train5/Kamera Gipfelkirrung (301)/stage13_Upsample_features.png... (32/128)\n",
      "Saving runs/detect/train5/Kamera Gipfelkirrung (301)/stage14_Concat_features.png... (32/192)\n",
      "Saving runs/detect/train5/Kamera Gipfelkirrung (301)/stage15_C2f_features.png... (32/64)\n",
      "Saving runs/detect/train5/Kamera Gipfelkirrung (301)/stage16_Conv_features.png... (32/64)\n",
      "Saving runs/detect/train5/Kamera Gipfelkirrung (301)/stage17_Concat_features.png... (32/192)\n",
      "Saving runs/detect/train5/Kamera Gipfelkirrung (301)/stage18_C2f_features.png... (32/128)\n",
      "Saving runs/detect/train5/Kamera Gipfelkirrung (301)/stage19_Conv_features.png... (32/128)\n",
      "Saving runs/detect/train5/Kamera Gipfelkirrung (301)/stage20_Concat_features.png... (32/384)\n",
      "Saving runs/detect/train5/Kamera Gipfelkirrung (301)/stage21_C2f_features.png... (32/256)\n",
      "image 20/21 /kaggle/input/test-data-real/Kamera Gipfelkirrung (301).png: 480x640 3 deers, 25273.9ms\n",
      "Saving runs/detect/train5/Kamera Gipfelkirrung (304)/stage0_Conv_features.png... (16/16)\n",
      "Saving runs/detect/train5/Kamera Gipfelkirrung (304)/stage1_Conv_features.png... (32/32)\n",
      "Saving runs/detect/train5/Kamera Gipfelkirrung (304)/stage2_C2f_features.png... (32/32)\n",
      "Saving runs/detect/train5/Kamera Gipfelkirrung (304)/stage3_Conv_features.png... (32/64)\n",
      "Saving runs/detect/train5/Kamera Gipfelkirrung (304)/stage4_C2f_features.png... (32/64)\n",
      "Saving runs/detect/train5/Kamera Gipfelkirrung (304)/stage5_Conv_features.png... (32/128)\n",
      "Saving runs/detect/train5/Kamera Gipfelkirrung (304)/stage6_C2f_features.png... (32/128)\n",
      "Saving runs/detect/train5/Kamera Gipfelkirrung (304)/stage7_Conv_features.png... (32/256)\n",
      "Saving runs/detect/train5/Kamera Gipfelkirrung (304)/stage8_C2f_features.png... (32/256)\n",
      "Saving runs/detect/train5/Kamera Gipfelkirrung (304)/stage9_SPPF_features.png... (32/256)\n",
      "Saving runs/detect/train5/Kamera Gipfelkirrung (304)/stage10_Upsample_features.png... (32/256)\n",
      "Saving runs/detect/train5/Kamera Gipfelkirrung (304)/stage11_Concat_features.png... (32/384)\n",
      "Saving runs/detect/train5/Kamera Gipfelkirrung (304)/stage12_C2f_features.png... (32/128)\n",
      "Saving runs/detect/train5/Kamera Gipfelkirrung (304)/stage13_Upsample_features.png... (32/128)\n",
      "Saving runs/detect/train5/Kamera Gipfelkirrung (304)/stage14_Concat_features.png... (32/192)\n",
      "Saving runs/detect/train5/Kamera Gipfelkirrung (304)/stage15_C2f_features.png... (32/64)\n",
      "Saving runs/detect/train5/Kamera Gipfelkirrung (304)/stage16_Conv_features.png... (32/64)\n",
      "Saving runs/detect/train5/Kamera Gipfelkirrung (304)/stage17_Concat_features.png... (32/192)\n",
      "Saving runs/detect/train5/Kamera Gipfelkirrung (304)/stage18_C2f_features.png... (32/128)\n",
      "Saving runs/detect/train5/Kamera Gipfelkirrung (304)/stage19_Conv_features.png... (32/128)\n",
      "Saving runs/detect/train5/Kamera Gipfelkirrung (304)/stage20_Concat_features.png... (32/384)\n",
      "Saving runs/detect/train5/Kamera Gipfelkirrung (304)/stage21_C2f_features.png... (32/256)\n",
      "image 21/21 /kaggle/input/test-data-real/Kamera Gipfelkirrung (304).png: 480x640 1 deer, 26093.8ms\n",
      "Speed: 2.6ms preprocess, 26982.6ms inference, 1.5ms postprocess per image at shape (1, 3, 480, 640)\n",
      "Results saved to \u001b[1mruns/detect/train5\u001b[0m\n"
     ]
    }
   ],
   "source": [
    "metrics = model.val(data='/kaggle/input/data-4animals/data.yaml', plots=True)\n",
    "\n",
    "\n",
    "# Modell auf neuen Bildern testen (Modell testet während Training auf val-Daten)\n",
    "results = model.val(data='/kaggle/input/data-4animals/data.yaml', plots=True, split=\"test\")\n",
    "\n",
    "\n",
    "# path_test = \"/kaggle/input/data-4animals/data/data/validation/images\"\n",
    "# results = model.predict(source=path_test, save=True, visualize=True, stream=True)\n",
    "\n",
    "\n",
    "# Modell auf realen Bildern testen\n",
    "path_test = \"/kaggle/input/test-data-real\"\n",
    "results = model.predict(source=path_test, save=True)"
   ]
  },
  {
   "cell_type": "markdown",
   "metadata": {},
   "source": [
    "# Create output.zip"
   ]
  },
  {
   "cell_type": "code",
   "execution_count": 8,
   "metadata": {
    "execution": {
     "iopub.execute_input": "2024-12-05T14:42:33.277114Z",
     "iopub.status.busy": "2024-12-05T14:42:33.276678Z",
     "iopub.status.idle": "2024-12-05T14:43:13.151300Z",
     "shell.execute_reply": "2024-12-05T14:43:13.150368Z",
     "shell.execute_reply.started": "2024-12-05T14:42:33.277044Z"
    },
    "trusted": true
   },
   "outputs": [
    {
     "name": "stdout",
     "output_type": "stream",
     "text": [
      "ZIP-Datei erfolgreich erstellt: /kaggle/working/output.zip\n"
     ]
    }
   ],
   "source": [
    "import zipfile\n",
    "import os\n",
    "\n",
    "# Pfad zum Verzeichnis, das du zippen möchtest\n",
    "directory_to_zip = '/kaggle/working/runs'\n",
    "\n",
    "# Pfad zur Ausgabe-ZIP-Datei\n",
    "output_zip = '/kaggle/working/output.zip'\n",
    "\n",
    "# Erstelle eine ZIP-Datei\n",
    "with zipfile.ZipFile(output_zip, 'w', zipfile.ZIP_DEFLATED) as zipf:\n",
    "    for root, dirs, files in os.walk(directory_to_zip):\n",
    "        for file in files:\n",
    "            file_path = os.path.join(root, file)\n",
    "            arcname = os.path.relpath(file_path, start=directory_to_zip)\n",
    "            zipf.write(file_path, arcname)\n",
    "\n",
    "print(f\"ZIP-Datei erfolgreich erstellt: {output_zip}\")\n"
   ]
  },
  {
   "cell_type": "markdown",
   "metadata": {},
   "source": [
    "# Clear Output folder\n"
   ]
  },
  {
   "cell_type": "code",
   "execution_count": null,
   "metadata": {
    "trusted": true
   },
   "outputs": [],
   "source": [
    "import os\n",
    "import shutil\n",
    "\n",
    "# Definiere den Namen der Datei, die behalten werden soll\n",
    "keep_files = ['yolov8.h5', \"yolo11n.pt\", \"runs\", \"yolov8n.pt\", \"output.zip\"]\n",
    "\n",
    "# Lösche den Inhalt des Verzeichnisses \"working\", außer der Datei \"output.zip\"\n",
    "for filename in os.listdir('/kaggle/working'):\n",
    "    if filename in keep_files:\n",
    "        continue\n",
    "    file_path = os.path.join('/kaggle/working', filename)\n",
    "    try:\n",
    "        if os.path.isfile(file_path) or os.path.islink(file_path):\n",
    "            os.unlink(file_path)\n",
    "        elif os.path.isdir(file_path):\n",
    "            shutil.rmtree(file_path)\n",
    "    except Exception as e:\n",
    "        print(f'Fehler beim Löschen von {file_path}. Grund: {e}')\n",
    "\n",
    "\n",
    "\n",
    "print(\"Done!\")"
   ]
  },
  {
   "cell_type": "code",
   "execution_count": null,
   "metadata": {
    "collapsed": true,
    "jupyter": {
     "outputs_hidden": true
    },
    "trusted": true
   },
   "outputs": [],
   "source": [
    "# from ultralytics.utils.benchmarks import benchmark\n",
    "\n",
    "# # Benchmark on GPU\n",
    "# benchmark(model=\"yolov8n.pt\", data=\"coco8.yaml\", imgsz=640, half=False, device=0)"
   ]
  }
 ],
 "metadata": {
  "kaggle": {
   "accelerator": "gpu",
   "dataSources": [
    {
     "datasetId": 5963306,
     "sourceId": 10017752,
     "sourceType": "datasetVersion"
    },
    {
     "datasetId": 6218594,
     "sourceId": 10089638,
     "sourceType": "datasetVersion"
    },
    {
     "modelId": 181836,
     "modelInstanceId": 159463,
     "sourceId": 187028,
     "sourceType": "modelInstanceVersion"
    }
   ],
   "dockerImageVersionId": 30786,
   "isGpuEnabled": true,
   "isInternetEnabled": true,
   "language": "python",
   "sourceType": "notebook"
  },
  "kernelspec": {
   "display_name": ".venv",
   "language": "python",
   "name": "python3"
  },
  "language_info": {
   "codemirror_mode": {
    "name": "ipython",
    "version": 3
   },
   "file_extension": ".py",
   "mimetype": "text/x-python",
   "name": "python",
   "nbconvert_exporter": "python",
   "pygments_lexer": "ipython3",
   "version": "3.12.3"
  }
 },
 "nbformat": 4,
 "nbformat_minor": 4
}
